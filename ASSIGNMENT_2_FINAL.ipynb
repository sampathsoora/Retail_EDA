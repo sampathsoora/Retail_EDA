{
 "cells": [
  {
   "cell_type": "markdown",
   "metadata": {
    "colab_type": "text",
    "id": "1y-Ds_xYLBpa"
   },
   "source": [
    "# SIT742: Modern Data Science \n",
    "**(Assessment Task 02: Bank Marketing Data Analytics)**\n",
    "\n",
    "---\n",
    "- Materials in this module include resources collected from various open-source online repositories.\n",
    "- You are free to use, change and distribute this package.\n",
    "\n",
    "Prepared by **SIT742 Teaching Team**\n",
    "\n",
    "\n",
    "---\n",
    "\n",
    "**Project Group Information:**\n",
    "\n",
    "- Names:\n",
    "- Student IDs:\n",
    "- Emails:\n",
    "\n",
    "---"
   ]
  },
  {
   "cell_type": "markdown",
   "metadata": {
    "colab_type": "text",
    "id": "eASNvREtBU9G"
   },
   "source": [
    "## 1. Import Spark"
   ]
  },
  {
   "cell_type": "code",
   "execution_count": 0,
   "metadata": {
    "cellView": "code",
    "colab": {},
    "colab_type": "code",
    "id": "duCJfMrnGu00"
   },
   "outputs": [],
   "source": [
    "!apt-get install openjdk-8-jdk-headless -qq > /dev/null\n",
    "!wget -q http://www-us.apache.org/dist/spark/spark-2.4.0/spark-2.4.0-bin-hadoop2.7.tgz\n",
    "!tar xf spark-2.4.0-bin-hadoop2.7.tgz\n",
    "!pip install -q findspark\n",
    "\n",
    "import os\n",
    "os.environ[\"JAVA_HOME\"] = \"/usr/lib/jvm/java-8-openjdk-amd64\"\n",
    "os.environ[\"SPARK_HOME\"] = \"/content/spark-2.4.0-bin-hadoop2.7\""
   ]
  },
  {
   "cell_type": "code",
   "execution_count": 0,
   "metadata": {
    "colab": {},
    "colab_type": "code",
    "id": "aGOo805LA-fM"
   },
   "outputs": [],
   "source": [
    "import findspark\n",
    "findspark.init()\n",
    "from pyspark.sql import SparkSession "
   ]
  },
  {
   "cell_type": "markdown",
   "metadata": {
    "colab_type": "text",
    "id": "K7bEtO_fBZmE"
   },
   "source": [
    "## 2. Read and check data"
   ]
  },
  {
   "cell_type": "code",
   "execution_count": 3,
   "metadata": {
    "colab": {
     "base_uri": "https://localhost:8080/",
     "height": 35
    },
    "colab_type": "code",
    "id": "fW5hZQENLBp4",
    "outputId": "711ec286-d4e0-4cc4-ecc7-e3ec1edd595c"
   },
   "outputs": [
    {
     "name": "stdout",
     "output_type": "stream",
     "text": [
      "Requirement already satisfied: wget in /usr/local/lib/python3.6/dist-packages (3.2)\n"
     ]
    }
   ],
   "source": [
    "!pip install wget  "
   ]
  },
  {
   "cell_type": "code",
   "execution_count": 0,
   "metadata": {
    "colab": {},
    "colab_type": "code",
    "id": "lRCNP9MvLBp9"
   },
   "outputs": [],
   "source": [
    "import wget\n",
    "\n",
    "link_to_data = 'https://github.com/tulip-lab/sit742/raw/master/Assessment/2019/data/bank.csv'\n",
    "DataSet = wget.download(link_to_data)\n"
   ]
  },
  {
   "cell_type": "code",
   "execution_count": 5,
   "metadata": {
    "colab": {
     "base_uri": "https://localhost:8080/",
     "height": 52
    },
    "colab_type": "code",
    "id": "muX9WwipLBqB",
    "outputId": "d4b7995f-0468-4654-9ffe-d9a6a7fd3380"
   },
   "outputs": [
    {
     "name": "stdout",
     "output_type": "stream",
     "text": [
      "'bank (1).csv'\t sample_data\t\t     spark-2.4.0-bin-hadoop2.7.tgz\n",
      " bank.csv\t spark-2.4.0-bin-hadoop2.7   spark-warehouse\n"
     ]
    }
   ],
   "source": [
    "!ls"
   ]
  },
  {
   "cell_type": "code",
   "execution_count": 7,
   "metadata": {
    "colab": {
     "base_uri": "https://localhost:8080/",
     "height": 208
    },
    "colab_type": "code",
    "id": "FQ8Ts9eZBA-M",
    "outputId": "876d3bcd-8e9b-4e51-a99e-19ea5afd3a79"
   },
   "outputs": [
    {
     "name": "stdout",
     "output_type": "stream",
     "text": [
      "+---+----------+-------+---------+-------+-------+-------+----+-------+---+-----+--------+--------+-----+--------+--------+-------+\n",
      "|age|       job|marital|education|default|balance|housing|loan|contact|day|month|duration|campaign|pdays|previous|poutcome|deposit|\n",
      "+---+----------+-------+---------+-------+-------+-------+----+-------+---+-----+--------+--------+-----+--------+--------+-------+\n",
      "| 59|    admin.|married|secondary|     no|   2343|    yes|  no|unknown|  5|  may|    1042|       1|   -1|       0| unknown|    yes|\n",
      "| 56|    admin.|married|secondary|     no|     45|     no|  no|unknown|  5|  may|    1467|       1|   -1|       0| unknown|    yes|\n",
      "| 41|technician|married|secondary|     no|   1270|    yes|  no|unknown|  5|  may|    1389|       1|   -1|       0| unknown|    yes|\n",
      "| 55|  services|married|secondary|     no|   2476|    yes|  no|unknown|  5|  may|     579|       1|   -1|       0| unknown|    yes|\n",
      "| 54|    admin.|married| tertiary|     no|    184|     no|  no|unknown|  5|  may|     673|       2|   -1|       0| unknown|    yes|\n",
      "+---+----------+-------+---------+-------+-------+-------+----+-------+---+-----+--------+--------+-----+--------+--------+-------+\n",
      "only showing top 5 rows\n",
      "\n"
     ]
    }
   ],
   "source": [
    "# Import the 'bank.csv' as a Spark dataframe and name it as df\n",
    "spark = SparkSession.builder.appName('ml-bank').getOrCreate()\n",
    "df = spark.read.csv('bank.csv', header = True, inferSchema = True) \n",
    "\n",
    "df.show(5)"
   ]
  },
  {
   "cell_type": "code",
   "execution_count": 8,
   "metadata": {
    "colab": {
     "base_uri": "https://localhost:8080/",
     "height": 347
    },
    "colab_type": "code",
    "id": "XJGWVc0yB0UA",
    "outputId": "d20c8b9d-7a70-4523-f2fa-71269b2880a6"
   },
   "outputs": [
    {
     "name": "stdout",
     "output_type": "stream",
     "text": [
      "root\n",
      " |-- age: integer (nullable = true)\n",
      " |-- job: string (nullable = true)\n",
      " |-- marital: string (nullable = true)\n",
      " |-- education: string (nullable = true)\n",
      " |-- default: string (nullable = true)\n",
      " |-- balance: integer (nullable = true)\n",
      " |-- housing: string (nullable = true)\n",
      " |-- loan: string (nullable = true)\n",
      " |-- contact: string (nullable = true)\n",
      " |-- day: integer (nullable = true)\n",
      " |-- month: string (nullable = true)\n",
      " |-- duration: integer (nullable = true)\n",
      " |-- campaign: integer (nullable = true)\n",
      " |-- pdays: integer (nullable = true)\n",
      " |-- previous: integer (nullable = true)\n",
      " |-- poutcome: string (nullable = true)\n",
      " |-- deposit: string (nullable = true)\n",
      "\n"
     ]
    }
   ],
   "source": [
    "# check data distribution\n",
    "# you may use printSchema() \n",
    "df.printSchema() "
   ]
  },
  {
   "cell_type": "markdown",
   "metadata": {
    "colab_type": "text",
    "id": "wKQMhrtFChHa"
   },
   "source": [
    "## 3. Select features"
   ]
  },
  {
   "cell_type": "code",
   "execution_count": 9,
   "metadata": {
    "colab": {
     "base_uri": "https://localhost:8080/",
     "height": 468
    },
    "colab_type": "code",
    "id": "VU5xMqN_RyM2",
    "outputId": "783f75ea-ee54-43ca-de6f-24626b65316c"
   },
   "outputs": [
    {
     "name": "stdout",
     "output_type": "stream",
     "text": [
      "root\n",
      " |-- age: integer (nullable = true)\n",
      " |-- job: string (nullable = true)\n",
      " |-- marital: string (nullable = true)\n",
      " |-- education: string (nullable = true)\n",
      " |-- default: string (nullable = true)\n",
      " |-- balance: integer (nullable = true)\n",
      " |-- housing: string (nullable = true)\n",
      " |-- loan: string (nullable = true)\n",
      " |-- campaign: integer (nullable = true)\n",
      " |-- pdays: integer (nullable = true)\n",
      " |-- previous: integer (nullable = true)\n",
      " |-- poutcome: string (nullable = true)\n",
      " |-- deposit: string (nullable = true)\n",
      "\n",
      "+---+----------+-------+---------+-------+-------+-------+----+--------+-----+--------+--------+-------+\n",
      "|age|       job|marital|education|default|balance|housing|loan|campaign|pdays|previous|poutcome|deposit|\n",
      "+---+----------+-------+---------+-------+-------+-------+----+--------+-----+--------+--------+-------+\n",
      "| 59|    admin.|married|secondary|     no|   2343|    yes|  no|       1|   -1|       0| unknown|    yes|\n",
      "| 56|    admin.|married|secondary|     no|     45|     no|  no|       1|   -1|       0| unknown|    yes|\n",
      "| 41|technician|married|secondary|     no|   1270|    yes|  no|       1|   -1|       0| unknown|    yes|\n",
      "| 55|  services|married|secondary|     no|   2476|    yes|  no|       1|   -1|       0| unknown|    yes|\n",
      "| 54|    admin.|married| tertiary|     no|    184|     no|  no|       2|   -1|       0| unknown|    yes|\n",
      "+---+----------+-------+---------+-------+-------+-------+----+--------+-----+--------+--------+-------+\n",
      "only showing top 5 rows\n",
      "\n"
     ]
    }
   ],
   "source": [
    "#Select features ('age', 'job', 'marital', 'education', 'default', 'balance', 'housing', 'loan', 'campaign', 'pdays', 'previous', 'poutcome', 'deposit') as df2\n",
    "\n",
    "\n",
    "df2 = df.select('age','job','marital','education','default','balance','housing','loan','campaign','pdays','previous','poutcome','deposit')\n",
    "cols = df2.columns\n",
    "df2.printSchema()\n",
    "\n",
    "\n",
    "df2.show(5)\n"
   ]
  },
  {
   "cell_type": "code",
   "execution_count": 10,
   "metadata": {
    "colab": {
     "base_uri": "https://localhost:8080/",
     "height": 225
    },
    "colab_type": "code",
    "id": "vwF5sqRYa_eI",
    "outputId": "04fa0c4b-9aca-4fac-caac-e48ae72d1003"
   },
   "outputs": [
    {
     "name": "stdout",
     "output_type": "stream",
     "text": [
      "+---+------------+-------+---------+-------+-------+-------+----+--------+-----+--------+--------+-------+\n",
      "|age|         job|marital|education|default|balance|housing|loan|campaign|pdays|previous|poutcome|deposit|\n",
      "+---+------------+-------+---------+-------+-------+-------+----+--------+-----+--------+--------+-------+\n",
      "| 33|    services|married|secondary|     no|   3444|    yes|  no|       1|   91|       4| failure|    yes|\n",
      "| 56|  technician|married|secondary|     no|    589|    yes|  no|       1|  147|       2| success|    yes|\n",
      "| 34|      admin.|married| tertiary|     no|    899|    yes|  no|       1|  170|       3| failure|    yes|\n",
      "| 53|     retired|married| tertiary|     no|   2269|     no|  no|       2|  150|       1| success|    yes|\n",
      "| 37|  technician|married|secondary|     no|   5115|    yes|  no|       2|  171|       4| failure|    yes|\n",
      "| 45|entrepreneur|married|secondary|     no|    781|     no| yes|       2|  126|       2| failure|    yes|\n",
      "+---+------------+-------+---------+-------+-------+-------+----+--------+-----+--------+--------+-------+\n",
      "only showing top 6 rows\n",
      "\n"
     ]
    }
   ],
   "source": [
    "# remove invalid rows/records using spark.sql \n",
    "\n",
    "df2.createOrReplaceTempView(\"Bank\")\n",
    "\n",
    "# SQL statements can be run by using the sql method\n",
    "df2 = spark.sql(\"SELECT * FROM Bank WHERE poutcome <> 'unknown' AND poutcome <> 'other' AND job <> 'unknown' AND education <>'unknown' \")\n",
    "df2.show(6)"
   ]
  },
  {
   "cell_type": "code",
   "execution_count": 11,
   "metadata": {
    "colab": {
     "base_uri": "https://localhost:8080/",
     "height": 503
    },
    "colab_type": "code",
    "id": "A_T8qvxzR-oI",
    "outputId": "eafb5b84-c4f9-437c-9432-a0aefb4b3cf3"
   },
   "outputs": [
    {
     "name": "stdout",
     "output_type": "stream",
     "text": [
      "root\n",
      " |-- label: double (nullable = false)\n",
      " |-- features: vector (nullable = true)\n",
      " |-- age: integer (nullable = true)\n",
      " |-- job: string (nullable = true)\n",
      " |-- marital: string (nullable = true)\n",
      " |-- education: string (nullable = true)\n",
      " |-- default: string (nullable = true)\n",
      " |-- balance: integer (nullable = true)\n",
      " |-- housing: string (nullable = true)\n",
      " |-- loan: string (nullable = true)\n",
      " |-- campaign: integer (nullable = true)\n",
      " |-- pdays: integer (nullable = true)\n",
      " |-- previous: integer (nullable = true)\n",
      " |-- poutcome: string (nullable = true)\n",
      " |-- deposit: string (nullable = true)\n",
      "\n",
      "+-----+--------------------+---+----------+-------+---------+-------+-------+-------+----+--------+-----+--------+--------+-------+\n",
      "|label|            features|age|       job|marital|education|default|balance|housing|loan|campaign|pdays|previous|poutcome|deposit|\n",
      "+-----+--------------------+---+----------+-------+---------+-------+-------+-------+----+--------+-----+--------+--------+-------+\n",
      "|  0.0|(23,[5,10,12,14,1...| 33|  services|married|secondary|     no|   3444|    yes|  no|       1|   91|       4| failure|    yes|\n",
      "|  0.0|(23,[1,10,12,14,1...| 56|technician|married|secondary|     no|    589|    yes|  no|       1|  147|       2| success|    yes|\n",
      "|  0.0|(23,[2,10,13,14,1...| 34|    admin.|married| tertiary|     no|    899|    yes|  no|       1|  170|       3| failure|    yes|\n",
      "|  0.0|(23,[4,10,13,14,1...| 53|   retired|married| tertiary|     no|   2269|     no|  no|       2|  150|       1| success|    yes|\n",
      "|  0.0|(23,[1,10,12,14,1...| 37|technician|married|secondary|     no|   5115|    yes|  no|       2|  171|       4| failure|    yes|\n",
      "+-----+--------------------+---+----------+-------+---------+-------+-------+-------+----+--------+-----+--------+--------+-------+\n",
      "only showing top 5 rows\n",
      "\n"
     ]
    }
   ],
   "source": [
    "# convert categorical features to numeric features  using One hot encoding, \n",
    "\n",
    "from pyspark.ml.feature import OneHotEncoderEstimator, StringIndexer, VectorAssembler\n",
    "from pyspark.ml import Pipeline\n",
    "\n",
    "categoricalColumns = ['job', 'marital', 'education', 'default', 'housing', 'loan', 'poutcome']\n",
    "stages = []\n",
    "\n",
    "for categoricalCol in categoricalColumns:\n",
    "    stringIndexer = StringIndexer(inputCol = categoricalCol, outputCol = categoricalCol + 'Index')\n",
    "    encoder = OneHotEncoderEstimator(inputCols=[stringIndexer.getOutputCol()], outputCols=[categoricalCol + \"classVec\"])\n",
    "    stages += [stringIndexer, encoder]\n",
    "label_stringIdx = StringIndexer(inputCol = 'deposit', outputCol = 'label')\n",
    "stages += [label_stringIdx]\n",
    "numericCols = ['age', 'balance', 'campaign', 'pdays', 'previous']\n",
    "assemblerInputs = [c + \"classVec\" for c in categoricalColumns] + numericCols\n",
    "assembler = VectorAssembler(inputCols=assemblerInputs, outputCol=\"features\")\n",
    "stages += [assembler]\n",
    "\n",
    "pipeline = Pipeline(stages = stages)\n",
    "pipelineModel = pipeline.fit(df2)\n",
    "df2 = pipelineModel.transform(df2)\n",
    "selectedCols = ['label', 'features'] + cols\n",
    "df2 = df2.select(selectedCols)\n",
    "df2.printSchema()\n",
    "df2.show(5)"
   ]
  },
  {
   "cell_type": "markdown",
   "metadata": {
    "colab_type": "text",
    "id": "pOqHERYJCQuC"
   },
   "source": [
    "### 3.1 normalisation"
   ]
  },
  {
   "cell_type": "code",
   "execution_count": 12,
   "metadata": {
    "colab": {
     "base_uri": "https://localhost:8080/",
     "height": 401
    },
    "colab_type": "code",
    "id": "cfL6_sca5VwI",
    "outputId": "3a20c012-ae39-4d7d-a4cc-a36bc1f82279"
   },
   "outputs": [
    {
     "name": "stdout",
     "output_type": "stream",
     "text": [
      "+-----+--------------------+---+------------+--------+---------+-------+-------+-------+----+--------+-----+--------+--------+-------+--------------------+\n",
      "|label|            features|age|         job| marital|education|default|balance|housing|loan|campaign|pdays|previous|poutcome|deposit| Normalised_features|\n",
      "+-----+--------------------+---+------------+--------+---------+-------+-------+-------+----+--------+-----+--------+--------+-------+--------------------+\n",
      "|  0.0|(23,[5,10,12,14,1...| 33|    services| married|secondary|     no|   3444|    yes|  no|       1|   91|       4| failure|    yes|[0.0,0.0,0.0,0.0,...|\n",
      "|  0.0|(23,[1,10,12,14,1...| 56|  technician| married|secondary|     no|    589|    yes|  no|       1|  147|       2| success|    yes|[0.0,1.0,0.0,0.0,...|\n",
      "|  0.0|(23,[2,10,13,14,1...| 34|      admin.| married| tertiary|     no|    899|    yes|  no|       1|  170|       3| failure|    yes|[0.0,0.0,1.0,0.0,...|\n",
      "|  0.0|(23,[4,10,13,14,1...| 53|     retired| married| tertiary|     no|   2269|     no|  no|       2|  150|       1| success|    yes|[0.0,0.0,0.0,0.0,...|\n",
      "|  0.0|(23,[1,10,12,14,1...| 37|  technician| married|secondary|     no|   5115|    yes|  no|       2|  171|       4| failure|    yes|[0.0,1.0,0.0,0.0,...|\n",
      "|  0.0|(23,[9,10,12,14,1...| 45|entrepreneur| married|secondary|     no|    781|     no| yes|       2|  126|       2| failure|    yes|[0.0,0.0,0.0,0.0,...|\n",
      "|  0.0|(23,[7,12,14,16,1...| 46|  unemployed|divorced|secondary|     no|   3354|    yes|  no|       1|  174|       1| success|    yes|[0.0,0.0,0.0,0.0,...|\n",
      "|  0.0|(23,[0,10,13,14,1...| 40|  management| married| tertiary|     no|   3352|    yes|  no|       2|   27|       1| success|    yes|[1.0,0.0,0.0,0.0,...|\n",
      "|  0.0|(23,[1,10,13,14,1...| 32|  technician| married| tertiary|     no|   4654|    yes| yes|       1|  128|       2| failure|    yes|[0.0,1.0,0.0,0.0,...|\n",
      "|  0.0|(23,[3,10,12,14,1...| 30| blue-collar| married|secondary|     no|    501|    yes| yes|       1|  177|       1| failure|    yes|[0.0,0.0,0.0,1.0,...|\n",
      "|  0.0|(23,[1,10,13,14,1...| 46|  technician| married| tertiary|     no|      0|     no|  no|       1|  167|       1| failure|    yes|[0.0,1.0,0.0,0.0,...|\n",
      "|  0.0|(23,[9,10,13,14,1...| 38|entrepreneur| married| tertiary|     no|   1110|    yes|  no|       2|  183|       2| failure|    yes|[0.0,0.0,0.0,0.0,...|\n",
      "|  0.0|(23,[5,10,12,14,1...| 32|    services| married|secondary|     no|    983|    yes|  no|       2|  133|       1| failure|    yes|[0.0,0.0,0.0,0.0,...|\n",
      "|  0.0|(23,[7,10,12,14,1...| 31|  unemployed| married|secondary|     no|    314|    yes|  no|       3|  178|       7| failure|    yes|[0.0,0.0,0.0,0.0,...|\n",
      "|  0.0|(23,[3,10,14,16,1...| 50| blue-collar| married|  primary|     no|  12519|    yes|  no|       3|   34|       1| failure|    yes|[0.0,0.0,0.0,1.0,...|\n",
      "+-----+--------------------+---+------------+--------+---------+-------+-------+-------+----+--------+-----+--------+--------+-------+--------------------+\n",
      "only showing top 15 rows\n",
      "\n"
     ]
    }
   ],
   "source": [
    "\n",
    "#Apply Min-Max normalisation on each attribute using MinMaxScaler  \n",
    "from pyspark.ml.feature import MinMaxScaler\n",
    "\n",
    "minmaxscaler = MinMaxScaler(inputCol = \"features\", outputCol = \"Normalised_features\")\n",
    "scaler = minmaxscaler.fit(df2)\n",
    "df2 = scaler.transform(df2)\n",
    "df2.show(15)"
   ]
  },
  {
   "cell_type": "markdown",
   "metadata": {
    "colab_type": "text",
    "id": "9trUY7ZgCzhW"
   },
   "source": [
    "## 4. Unsupervised learning"
   ]
  },
  {
   "cell_type": "markdown",
   "metadata": {
    "colab_type": "text",
    "id": "KTQfUch2Cmmi"
   },
   "source": [
    "### 4.1 K-means"
   ]
  },
  {
   "cell_type": "code",
   "execution_count": 13,
   "metadata": {
    "colab": {
     "base_uri": "https://localhost:8080/",
     "height": 225
    },
    "colab_type": "code",
    "id": "dGGZI70Ohqgg",
    "outputId": "c91ad726-4159-4283-9224-411f4577571a"
   },
   "outputs": [
    {
     "name": "stdout",
     "output_type": "stream",
     "text": [
      "Silhouette with squared euclidean distance = 0.06039474174824377\n",
      "Within set of Sum Squared Errors = 4231.872688705953\n",
      "Cluster Centers:\n",
      "[0.57541899 0.13184358 0.0603352  0.01340782 0.04804469 0.00782123\n",
      " 0.03575419 0.03575419 0.0603352  0.01675978 0.47486034 0.45027933\n",
      " 0.         0.97094972 0.99776536 0.62569832 0.92625698 0.48826816\n",
      " 0.31088587 0.03688247 0.07516506 0.21330303 0.03718187]\n",
      "[0.0311042  0.18351477 0.19906687 0.20139969 0.11897356 0.11508554\n",
      " 0.04821151 0.04276827 0.0155521  0.02177294 0.62908243 0.26360809\n",
      " 0.84836703 0.         0.99611198 0.49533437 0.88569207 0.57465008\n",
      " 0.36131971 0.02968395 0.07429662 0.25288935 0.03981625]\n",
      "Accuracy = 0.520861989912884\n"
     ]
    }
   ],
   "source": [
    "# Perform unsupervised learning on df2 with k-means \n",
    "# you can use whole df2 as both training and testing data, \n",
    "# evaluate the clustering result using Accuracy.  \n",
    "\n",
    "from pyspark.ml.clustering import KMeans\n",
    "from pyspark.ml.evaluation import ClusteringEvaluator\n",
    "from pyspark.ml.evaluation import MulticlassClassificationEvaluator\n",
    "from pyspark.ml.evaluation import BinaryClassificationEvaluator\n",
    "\n",
    "#here we are training a Kmeans model\n",
    "k_means =KMeans(featuresCol = \"Normalised_features\").setK(2).setSeed(1)\n",
    "NModel = k_means.fit(df2)\n",
    "\n",
    "#here we are making predictions\n",
    "Predict = NModel.transform(df2)\n",
    "\n",
    "#here we are evaluating Clustering by Caluclating Silhouette Score\n",
    "evaluator = ClusteringEvaluator()\n",
    "silhouette = evaluator.evaluate(Predict)\n",
    "print(\"Silhouette with squared euclidean distance = \" + str(silhouette))\n",
    "wssse = NModel.computeCost(df2)\n",
    "print(\"Within set of Sum Squared Errors = \" + str(wssse))\n",
    "\n",
    "#to show the results\n",
    "centers = NModel.clusterCenters()\n",
    "print(\"Cluster Centers:\")\n",
    "for center in centers:\n",
    "  print(center)\n",
    "  \n",
    "accuracy_km = Predict.select(\"deposit\",\"prediction\").collect()\n",
    "\n",
    "def getCluster(c):\n",
    "  if c == 'yes':\n",
    "    return 0\n",
    "  else:\n",
    "    return 1\n",
    "  \n",
    "def getAccuracy(outcomes):\n",
    "  count = 0;\n",
    "  for outcome in outcomes:\n",
    "    if getCluster(outcome[0]) == outcome[1]:\n",
    "      count += 1\n",
    "  return count/ len(outcomes)\n",
    "\n",
    "accuracy = getAccuracy(accuracy_km)\n",
    "print(\"Accuracy = \" + str(accuracy))"
   ]
  },
  {
   "cell_type": "markdown",
   "metadata": {
    "colab_type": "text",
    "id": "FHom8o2KCt36"
   },
   "source": [
    "### 4.2 PCA"
   ]
  },
  {
   "cell_type": "code",
   "execution_count": 14,
   "metadata": {
    "colab": {
     "base_uri": "https://localhost:8080/",
     "height": 598
    },
    "colab_type": "code",
    "id": "wT4cx5uGTjmj",
    "outputId": "4cbbf300-0ce6-4d9a-85ff-a0a285e7bfb9"
   },
   "outputs": [
    {
     "name": "stdout",
     "output_type": "stream",
     "text": [
      "+-----+--------------------+---+------------+--------+---------+-------+-------+-------+----+--------+-----+--------+--------+-------+--------------------+--------------------+\n",
      "|label|            features|age|         job| marital|education|default|balance|housing|loan|campaign|pdays|previous|poutcome|deposit| Normalised_features|        pca_features|\n",
      "+-----+--------------------+---+------------+--------+---------+-------+-------+-------+----+--------+-----+--------+--------+-------+--------------------+--------------------+\n",
      "|  0.0|(23,[5,10,12,14,1...| 33|    services| married|secondary|     no|   3444|    yes|  no|       1|   91|       4| failure|    yes|[0.0,0.0,0.0,0.0,...|[0.96364248505160...|\n",
      "|  0.0|(23,[1,10,12,14,1...| 56|  technician| married|secondary|     no|    589|    yes|  no|       1|  147|       2| success|    yes|[0.0,1.0,0.0,0.0,...|[0.83734101836268...|\n",
      "|  0.0|(23,[2,10,13,14,1...| 34|      admin.| married| tertiary|     no|    899|    yes|  no|       1|  170|       3| failure|    yes|[0.0,0.0,1.0,0.0,...|[-0.1084500265257...|\n",
      "|  0.0|(23,[4,10,13,14,1...| 53|     retired| married| tertiary|     no|   2269|     no|  no|       2|  150|       1| success|    yes|[0.0,0.0,0.0,0.0,...|[-0.4795609426700...|\n",
      "|  0.0|(23,[1,10,12,14,1...| 37|  technician| married|secondary|     no|   5115|    yes|  no|       2|  171|       4| failure|    yes|[0.0,1.0,0.0,0.0,...|[0.95767948650617...|\n",
      "|  0.0|(23,[9,10,12,14,1...| 45|entrepreneur| married|secondary|     no|    781|     no| yes|       2|  126|       2| failure|    yes|[0.0,0.0,0.0,0.0,...|[0.78790279189690...|\n",
      "|  0.0|(23,[7,12,14,16,1...| 46|  unemployed|divorced|secondary|     no|   3354|    yes|  no|       1|  174|       1| success|    yes|[0.0,0.0,0.0,0.0,...|[0.51243046926688...|\n",
      "|  0.0|(23,[0,10,13,14,1...| 40|  management| married| tertiary|     no|   3352|    yes|  no|       2|   27|       1| success|    yes|[1.0,0.0,0.0,0.0,...|[-0.7369547765884...|\n",
      "|  0.0|(23,[1,10,13,14,1...| 32|  technician| married| tertiary|     no|   4654|    yes| yes|       1|  128|       2| failure|    yes|[0.0,1.0,0.0,0.0,...|[-0.1028260652716...|\n",
      "|  0.0|(23,[3,10,12,14,1...| 30| blue-collar| married|secondary|     no|    501|    yes| yes|       1|  177|       1| failure|    yes|[0.0,0.0,0.0,1.0,...|[1.06615145941459...|\n",
      "+-----+--------------------+---+------------+--------+---------+-------+-------+-------+----+--------+-----+--------+--------+-------+--------------------+--------------------+\n",
      "only showing top 10 rows\n",
      "\n"
     ]
    },
    {
     "data": {
      "text/plain": [
       "<matplotlib.axes._subplots.AxesSubplot at 0x7f311d74aa20>"
      ]
     },
     "execution_count": 14,
     "metadata": {
      "tags": []
     },
     "output_type": "execute_result"
    },
    {
     "data": {
      "image/png": "[encoded data removed]",
      "text/plain": [
       "<Figure size 432x288 with 1 Axes>"
      ]
     },
     "metadata": {
      "tags": []
     },
     "output_type": "display_data"
    }
   ],
   "source": [
    "#Generate a scatter plot using the first two PCA components to investigate the data distribution.\n",
    "from pyspark.ml.feature import PCA\n",
    "from pyspark.ml.linalg import Vectors\n",
    "import seaborn as sns\n",
    "import matplotlib.pyplot as plt\n",
    "import pandas as pd\n",
    "\n",
    "pca_mod = PCA(k=23, inputCol = \"Normalised_features\", outputCol = \"pca_features\")\n",
    "pcamodel = pca_mod.fit(df2)\n",
    "\n",
    "transformed = pcamodel.transform(df2)\n",
    "transformed.show(10)\n",
    "\n",
    "#scatter plots for 1st two components\n",
    "pca_d = transformed.select('pca_features','label').toPandas()\n",
    "\n",
    "component1 =[]\n",
    "component2 = []\n",
    "label =[]\n",
    "\n",
    "for index , row in pca_d.iterrows():\n",
    "  component1.append(row.pca_features[0])\n",
    "  component2.append(row.pca_features[1])\n",
    "  label.append(row.label)\n",
    "  \n",
    "pca_dframe = pd.DataFrame()\n",
    "pca_dframe['Component 1'] = component1\n",
    "pca_dframe['Component 2'] = component2\n",
    "pca_dframe['label'] = label\n",
    "\n",
    "pca_dframe.head(20)\n",
    "sns.scatterplot(x= 'Component 1', y = 'Component 2', data = pca_dframe, hue ='label')\n"
   ]
  },
  {
   "cell_type": "markdown",
   "metadata": {
    "colab_type": "text",
    "id": "ulp_uILXCv4Z"
   },
   "source": [
    "## 5. Supervised learning"
   ]
  },
  {
   "cell_type": "code",
   "execution_count": 15,
   "metadata": {
    "colab": {
     "base_uri": "https://localhost:8080/",
     "height": 52
    },
    "colab_type": "code",
    "id": "0O7tszcPfnHN",
    "outputId": "6288e1cd-5bdb-4520-87a7-3c828bee86f2"
   },
   "outputs": [
    {
     "name": "stdout",
     "output_type": "stream",
     "text": [
      "Training Dataset Count: 1535\n",
      "Test Dataset Count: 646\n"
     ]
    }
   ],
   "source": [
    "train, test = df2.randomSplit([0.7, 0.3], seed = 742)\n",
    "print(\"Training Dataset Count: \" + str(train.count()))\n",
    "print(\"Test Dataset Count: \" + str(test.count()))"
   ]
  },
  {
   "cell_type": "markdown",
   "metadata": {
    "colab_type": "text",
    "id": "2SsHdh7YC-eN"
   },
   "source": [
    "### 5.1 LogisticRegression"
   ]
  },
  {
   "cell_type": "code",
   "execution_count": 16,
   "metadata": {
    "colab": {
     "base_uri": "https://localhost:8080/",
     "height": 35
    },
    "colab_type": "code",
    "id": "Vqo_ywFQYxSj",
    "outputId": "8fb0e62d-3e77-463d-8ee0-ede8678611eb"
   },
   "outputs": [
    {
     "name": "stdout",
     "output_type": "stream",
     "text": [
      "Accuracy = 0.7368421052631579\n"
     ]
    }
   ],
   "source": [
    "# Logistic Regression\n",
    "from pyspark.ml.classification import LogisticRegression\n",
    "from pyspark.ml.evaluation import MulticlassClassificationEvaluator\n",
    "from pyspark.ml.evaluation import BinaryClassificationEvaluator \n",
    "\n",
    "RegM = LogisticRegression(featuresCol ='features', labelCol ='label',maxIter = 10)\n",
    "reg_model = RegM.fit(train)\n",
    "\n",
    "Predict = reg_model.transform(test)\n",
    "\n",
    "evaluator = MulticlassClassificationEvaluator()\n",
    "accuracy = evaluator.evaluate(Predict, {evaluator.metricName: \"accuracy\"})\n",
    "print(\"Accuracy = \" + str(accuracy))"
   ]
  },
  {
   "cell_type": "code",
   "execution_count": 17,
   "metadata": {
    "colab": {
     "base_uri": "https://localhost:8080/",
     "height": 269
    },
    "colab_type": "code",
    "id": "hANwFUzhgG83",
    "outputId": "3de7af34-ae30-408c-9bf2-baee9cf388a1"
   },
   "outputs": [
    {
     "data": {
      "image/png": "[encoded data removed]",
      "text/plain": [
       "<Figure size 432x288 with 1 Axes>"
      ]
     },
     "metadata": {
      "tags": []
     },
     "output_type": "display_data"
    }
   ],
   "source": [
    "#Exam the coefficients\n",
    "import matplotlib.pyplot as plt\n",
    "import numpy as np\n",
    "reg_model = np.sort(reg_model.coefficients)\n",
    "plt.plot(reg_model)\n",
    "plt.ylabel('Coefficients')\n",
    "plt.show()"
   ]
  },
  {
   "cell_type": "markdown",
   "metadata": {
    "colab_type": "text",
    "id": "evM5eiJoDHw2"
   },
   "source": [
    "### 5.2 Decision tree"
   ]
  },
  {
   "cell_type": "code",
   "execution_count": 19,
   "metadata": {
    "colab": {
     "base_uri": "https://localhost:8080/",
     "height": 35
    },
    "colab_type": "code",
    "id": "He4mlHb7hBoY",
    "outputId": "bc06fed2-1bee-468a-de5e-02813ffe5255"
   },
   "outputs": [
    {
     "name": "stdout",
     "output_type": "stream",
     "text": [
      "Accuracy = 0.7770897832817337\n"
     ]
    }
   ],
   "source": [
    "#Decision tree\n",
    "\n",
    "\n",
    "from pyspark.ml.classification import DecisionTreeClassifier \n",
    "\n",
    "decision_tree = DecisionTreeClassifier(featuresCol = 'features', labelCol = 'label', maxDepth = 3)\n",
    "decisionmodel = decision_tree.fit(train)\n",
    "PredictionA = decisionmodel.transform(test)\n",
    "\n",
    "evaluator_Acc = MulticlassClassificationEvaluator()\n",
    "AccuracyA =evaluator.evaluate(PredictionA, {evaluator.metricName: \"accuracy\"})\n",
    "print(\"Accuracy = \" + str(AccuracyA))"
   ]
  },
  {
   "cell_type": "markdown",
   "metadata": {
    "colab_type": "text",
    "id": "CaE-Z_IlDKXF"
   },
   "source": [
    "### 5.3 NaiveBayes"
   ]
  },
  {
   "cell_type": "code",
   "execution_count": 20,
   "metadata": {
    "colab": {
     "base_uri": "https://localhost:8080/",
     "height": 399
    },
    "colab_type": "code",
    "id": "v2XL6I0t7irt",
    "outputId": "30939be5-eaf1-4150-a6e1-78409f4b7cad"
   },
   "outputs": [
    {
     "name": "stdout",
     "output_type": "stream",
     "text": [
      "+--------------------+-----+--------------------+----------+--------------------+\n",
      "|            features|label|       rawPrediction|prediction|         probability|\n",
      "+--------------------+-----+--------------------+----------+--------------------+\n",
      "|(23,[0,10,12,14,1...|  0.0|[-18.099423060967...|       0.0|[0.71479969025784...|\n",
      "|(23,[0,10,12,14,1...|  0.0|[-19.734874367002...|       0.0|[0.71241655363917...|\n",
      "|(23,[0,10,12,14,1...|  0.0|[-17.739083418637...|       0.0|[0.83907706761111...|\n",
      "|(23,[0,10,12,14,1...|  0.0|[-17.613712853360...|       0.0|[0.53910788436275...|\n",
      "|(23,[0,10,12,14,1...|  0.0|[-18.764334307940...|       0.0|[0.53925399923964...|\n",
      "|(23,[0,10,12,14,1...|  0.0|[-18.360821086663...|       0.0|[0.53327534457948...|\n",
      "|(23,[0,10,13,14,1...|  0.0|[-19.810477562475...|       0.0|[0.83405743649553...|\n",
      "|(23,[0,10,13,14,1...|  0.0|[-19.027789035675...|       0.0|[0.83769169387408...|\n",
      "|(23,[0,10,13,14,1...|  0.0|[-19.193148913684...|       0.0|[0.83323098523096...|\n",
      "|(23,[0,10,13,14,1...|  0.0|[-19.921365567025...|       0.0|[0.83501712379445...|\n",
      "|(23,[0,10,13,14,1...|  0.0|[-22.522515032194...|       0.0|[0.80814059362705...|\n",
      "|(23,[0,10,13,14,1...|  0.0|[-19.525305931720...|       0.0|[0.83467682045966...|\n",
      "|(23,[0,10,13,14,1...|  0.0|[-20.381078473208...|       0.0|[0.83283088278787...|\n",
      "|(23,[0,10,13,14,1...|  0.0|[-20.143905238013...|       0.0|[0.83867434706355...|\n",
      "|(23,[0,10,13,14,1...|  0.0|[-16.216746093287...|       0.0|[0.91643308998559...|\n",
      "+--------------------+-----+--------------------+----------+--------------------+\n",
      "only showing top 15 rows\n",
      "\n",
      "Accuracy = 0.7291021671826625\n"
     ]
    }
   ],
   "source": [
    "#NaiveBayes\n",
    "\n",
    "\n",
    "from pyspark.ml.classification import NaiveBayes\n",
    "from pyspark.ml.evaluation import MulticlassClassificationEvaluator\n",
    "\n",
    "Naive_b = NaiveBayes(featuresCol = \"Normalised_features\", labelCol = \"label\", smoothing = 1, modelType = \"multinomial\")\n",
    "nbmodel = Naive_b.fit(train)\n",
    "\n",
    "PredictionB = nbmodel.transform(test)\n",
    "PredictionB.select('features','label','rawPrediction','prediction','probability').show(15)\n",
    "\n",
    "evaluator_B = MulticlassClassificationEvaluator(predictionCol = \"prediction\")\n",
    "AccuracyB = evaluator.evaluate(PredictionB, {evaluator.metricName: \"accuracy\"})\n",
    "print(\"Accuracy = \" +str(AccuracyB))\n",
    " "
   ]
  }
 ],
 "metadata": {
  "colab": {
   "collapsed_sections": [],
   "name": "ASSIGNMENT_2_FINAL.ipynb",
   "provenance": [],
   "toc_visible": true,
   "version": "0.3.2"
  },
  "kernelspec": {
   "display_name": "Python 3",
   "language": "python",
   "name": "python3"
  },
  "language_info": {
   "codemirror_mode": {
    "name": "ipython",
    "version": 3
   },
   "file_extension": ".py",
   "mimetype": "text/x-python",
   "name": "python",
   "nbconvert_exporter": "python",
   "pygments_lexer": "ipython3",
   "version": "3.7.3"
  }
 },
 "nbformat": 4,
 "nbformat_minor": 1
}
