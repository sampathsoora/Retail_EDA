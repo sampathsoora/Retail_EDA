{
  "nbformat": 4,
  "nbformat_minor": 0,
  "metadata": {
    "colab": {
      "name": "TextProcessing.ipynb",
      "provenance": [],
      "authorship_tag": "ABX9TyNb+Q0VQTtmS2Yv8x8geybH",
      "include_colab_link": true
    },
    "kernelspec": {
      "name": "python3",
      "display_name": "Python 3"
    },
    "language_info": {
      "name": "python"
    }
  },
  "cells": [
    {
      "cell_type": "markdown",
      "metadata": {
        "id": "view-in-github",
        "colab_type": "text"
      },
      "source": [
        "<a href=\"https://colab.research.google.com/github/sampathsoora/Retail_EDA/blob/main/TextProcessing.ipynb\" target=\"_parent\"><img src=\"https://colab.research.google.com/assets/colab-badge.svg\" alt=\"Open In Colab\"/></a>"
      ]
    },
    {
      "cell_type": "markdown",
      "metadata": {
        "id": "5fVOiuJgR6if"
      },
      "source": [
        "# 1. Working with Strings"
      ]
    },
    {
      "cell_type": "code",
      "metadata": {
        "colab": {
          "base_uri": "https://localhost:8080/"
        },
        "id": "ndnF_h74SPt-",
        "outputId": "26f9369f-ae95-4d98-b05a-a1fdaa6974c6"
      },
      "source": [
        "ss = \"Hello World!\"\n",
        "a = ss.upper()\n",
        "print(a)"
      ],
      "execution_count": 3,
      "outputs": [
        {
          "output_type": "stream",
          "text": [
            "HELLO WORLD!\n"
          ],
          "name": "stdout"
        }
      ]
    },
    {
      "cell_type": "code",
      "metadata": {
        "colab": {
          "base_uri": "https://localhost:8080/"
        },
        "id": "tlRcvUHpSl4k",
        "outputId": "30fc6aee-a4a8-4255-a5ed-e7619514b869"
      },
      "source": [
        "b = a.lower()\n",
        "print(b)"
      ],
      "execution_count": 4,
      "outputs": [
        {
          "output_type": "stream",
          "text": [
            "hello world!\n"
          ],
          "name": "stdout"
        }
      ]
    },
    {
      "cell_type": "code",
      "metadata": {
        "colab": {
          "base_uri": "https://localhost:8080/"
        },
        "id": "Eo3cECitSutY",
        "outputId": "2696738b-7d08-493a-cf48-d1ba3ce9ef89"
      },
      "source": [
        "ss = \"    Hello, World    \"\n",
        "\n",
        "els = ss.count(\"l\")\n",
        "print(els)"
      ],
      "execution_count": 5,
      "outputs": [
        {
          "output_type": "stream",
          "text": [
            "3\n"
          ],
          "name": "stdout"
        }
      ]
    },
    {
      "cell_type": "code",
      "metadata": {
        "colab": {
          "base_uri": "https://localhost:8080/"
        },
        "id": "O0RG-CrxS5oP",
        "outputId": "55a5b095-1a66-4920-b047-ceb4d8f23c16"
      },
      "source": [
        "print(\"***\" + ss.strip() + \"***\")"
      ],
      "execution_count": 6,
      "outputs": [
        {
          "output_type": "stream",
          "text": [
            "***Hello, World***\n"
          ],
          "name": "stdout"
        }
      ]
    },
    {
      "cell_type": "code",
      "metadata": {
        "colab": {
          "base_uri": "https://localhost:8080/"
        },
        "id": "fAt1flhtS7vI",
        "outputId": "0f2de0c7-af7c-4342-e46f-2649854c5d1e"
      },
      "source": [
        "print(\"***\" + ss.lstrip() + \"***\")"
      ],
      "execution_count": 7,
      "outputs": [
        {
          "output_type": "stream",
          "text": [
            "***Hello, World    ***\n"
          ],
          "name": "stdout"
        }
      ]
    },
    {
      "cell_type": "code",
      "metadata": {
        "colab": {
          "base_uri": "https://localhost:8080/"
        },
        "id": "dh1z7e-qTC-V",
        "outputId": "25ba3360-7627-4404-f741-61e7e7de428a"
      },
      "source": [
        "print(\"***\" + ss.rstrip() + \"***\")"
      ],
      "execution_count": 8,
      "outputs": [
        {
          "output_type": "stream",
          "text": [
            "***    Hello, World***\n"
          ],
          "name": "stdout"
        }
      ]
    },
    {
      "cell_type": "code",
      "metadata": {
        "colab": {
          "base_uri": "https://localhost:8080/"
        },
        "id": "r_kARDLWTNju",
        "outputId": "cf5c1607-bc7f-4d2b-a2e7-0ff7fbbcba9e"
      },
      "source": [
        "print(\"***\" + ss.strip() + \"***\")"
      ],
      "execution_count": 9,
      "outputs": [
        {
          "output_type": "stream",
          "text": [
            "***Hello, World***\n"
          ],
          "name": "stdout"
        }
      ]
    },
    {
      "cell_type": "code",
      "metadata": {
        "colab": {
          "base_uri": "https://localhost:8080/"
        },
        "id": "0DkkGFbJTQx3",
        "outputId": "33757ef2-14fd-4a11-e338-4c960818b048"
      },
      "source": [
        "news = ss.replace(\"o\", \"***\")\n",
        "print(news)"
      ],
      "execution_count": 10,
      "outputs": [
        {
          "output_type": "stream",
          "text": [
            "    Hell***, W***rld    \n"
          ],
          "name": "stdout"
        }
      ]
    },
    {
      "cell_type": "code",
      "metadata": {
        "colab": {
          "base_uri": "https://localhost:8080/"
        },
        "id": "-MXN2-kkTYhc",
        "outputId": "b839bc52-6a50-4c7f-abe0-c77b862a8f52"
      },
      "source": [
        "food = \"banana bread\"\n",
        "print(food.capitalize())"
      ],
      "execution_count": 11,
      "outputs": [
        {
          "output_type": "stream",
          "text": [
            "Banana bread\n"
          ],
          "name": "stdout"
        }
      ]
    },
    {
      "cell_type": "code",
      "metadata": {
        "colab": {
          "base_uri": "https://localhost:8080/"
        },
        "id": "viCT1oN-TjYw",
        "outputId": "225071b9-dc62-4957-8fb0-3ae4ef4d0aef"
      },
      "source": [
        "print(\"*\" + food.center(25) + \"*\")"
      ],
      "execution_count": 12,
      "outputs": [
        {
          "output_type": "stream",
          "text": [
            "*       banana bread      *\n"
          ],
          "name": "stdout"
        }
      ]
    },
    {
      "cell_type": "code",
      "metadata": {
        "colab": {
          "base_uri": "https://localhost:8080/"
        },
        "id": "pN5b9J3ETlD-",
        "outputId": "e35e23b1-346c-4bdf-871d-269b11597b6c"
      },
      "source": [
        "print(\"*\" + food.ljust(25) + \"*\")     # stars added to show bounds"
      ],
      "execution_count": 13,
      "outputs": [
        {
          "output_type": "stream",
          "text": [
            "*banana bread             *\n"
          ],
          "name": "stdout"
        }
      ]
    },
    {
      "cell_type": "code",
      "metadata": {
        "colab": {
          "base_uri": "https://localhost:8080/"
        },
        "id": "FbyUF2i7TxOD",
        "outputId": "c2965163-7a92-4bb1-b5a7-291162c8cab0"
      },
      "source": [
        "print(\"*\" + food.rjust(25) + \"*\")"
      ],
      "execution_count": 14,
      "outputs": [
        {
          "output_type": "stream",
          "text": [
            "*             banana bread*\n"
          ],
          "name": "stdout"
        }
      ]
    },
    {
      "cell_type": "code",
      "metadata": {
        "colab": {
          "base_uri": "https://localhost:8080/"
        },
        "id": "K02bq78rT224",
        "outputId": "a64ab28f-71db-4699-ec4e-d81ed5cf71b7"
      },
      "source": [
        "print(food.find(\"e\"))"
      ],
      "execution_count": 15,
      "outputs": [
        {
          "output_type": "stream",
          "text": [
            "9\n"
          ],
          "name": "stdout"
        }
      ]
    },
    {
      "cell_type": "code",
      "metadata": {
        "colab": {
          "base_uri": "https://localhost:8080/"
        },
        "id": "3yWDDbUsUIsq",
        "outputId": "7319d9c9-4ea8-4727-dbbf-c081944fe81c"
      },
      "source": [
        "print(food.find(\"na\"))"
      ],
      "execution_count": 16,
      "outputs": [
        {
          "output_type": "stream",
          "text": [
            "2\n"
          ],
          "name": "stdout"
        }
      ]
    },
    {
      "cell_type": "code",
      "metadata": {
        "colab": {
          "base_uri": "https://localhost:8080/"
        },
        "id": "7uqwE_-SUTPs",
        "outputId": "2c32aaa8-14ff-4ca6-87ab-6c2c4d87491b"
      },
      "source": [
        "print(food.find(\"b\"))"
      ],
      "execution_count": 17,
      "outputs": [
        {
          "output_type": "stream",
          "text": [
            "0\n"
          ],
          "name": "stdout"
        }
      ]
    },
    {
      "cell_type": "code",
      "metadata": {
        "colab": {
          "base_uri": "https://localhost:8080/"
        },
        "id": "_JNDHw9nUVUu",
        "outputId": "0a314a03-3c7b-44b2-8877-f3d17eaa9f9c"
      },
      "source": [
        "print(food.rfind(\"e\"))"
      ],
      "execution_count": 18,
      "outputs": [
        {
          "output_type": "stream",
          "text": [
            "9\n"
          ],
          "name": "stdout"
        }
      ]
    },
    {
      "cell_type": "code",
      "metadata": {
        "colab": {
          "base_uri": "https://localhost:8080/"
        },
        "id": "rXYNMQ4wUY4U",
        "outputId": "217ccefb-dabd-48af-c841-666841b67b47"
      },
      "source": [
        "print(food.rfind(\"na\"))"
      ],
      "execution_count": 19,
      "outputs": [
        {
          "output_type": "stream",
          "text": [
            "4\n"
          ],
          "name": "stdout"
        }
      ]
    },
    {
      "cell_type": "code",
      "metadata": {
        "colab": {
          "base_uri": "https://localhost:8080/"
        },
        "id": "D0dtleSZUv-O",
        "outputId": "d1c11e20-d7f7-44d0-b194-9c0ad7f5abef"
      },
      "source": [
        "print(food.find(\"b\"))"
      ],
      "execution_count": 20,
      "outputs": [
        {
          "output_type": "stream",
          "text": [
            "0\n"
          ],
          "name": "stdout"
        }
      ]
    },
    {
      "cell_type": "code",
      "metadata": {
        "colab": {
          "base_uri": "https://localhost:8080/"
        },
        "id": "hBlmEmjoU1El",
        "outputId": "f8fb7f74-dddc-4500-9739-f4a5aebca877"
      },
      "source": [
        "print(food.rfind(\"e\"))"
      ],
      "execution_count": 21,
      "outputs": [
        {
          "output_type": "stream",
          "text": [
            "9\n"
          ],
          "name": "stdout"
        }
      ]
    },
    {
      "cell_type": "code",
      "metadata": {
        "colab": {
          "base_uri": "https://localhost:8080/"
        },
        "id": "ztOf1bECU5NV",
        "outputId": "476e932a-c28f-4f12-e434-2a8f8e80b75d"
      },
      "source": [
        "print(food.rfind(\"b\"))"
      ],
      "execution_count": 22,
      "outputs": [
        {
          "output_type": "stream",
          "text": [
            "7\n"
          ],
          "name": "stdout"
        }
      ]
    },
    {
      "cell_type": "code",
      "metadata": {
        "colab": {
          "base_uri": "https://localhost:8080/"
        },
        "id": "0sHhqbgWVEd_",
        "outputId": "6d68737b-4a7c-417e-ed24-6bd8e3531b89"
      },
      "source": [
        "print(food.index(\"e\"))"
      ],
      "execution_count": 23,
      "outputs": [
        {
          "output_type": "stream",
          "text": [
            "9\n"
          ],
          "name": "stdout"
        }
      ]
    },
    {
      "cell_type": "code",
      "metadata": {
        "colab": {
          "base_uri": "https://localhost:8080/"
        },
        "id": "YWDuQ4IhVMQR",
        "outputId": "e0b15a9b-58a7-444e-f82d-cef02c68084e"
      },
      "source": [
        "print('p' in 'apple')"
      ],
      "execution_count": 24,
      "outputs": [
        {
          "output_type": "stream",
          "text": [
            "True\n"
          ],
          "name": "stdout"
        }
      ]
    },
    {
      "cell_type": "code",
      "metadata": {
        "colab": {
          "base_uri": "https://localhost:8080/"
        },
        "id": "Hie5cOneVRI5",
        "outputId": "1f4efc86-6b1c-4fac-aef3-d084b93a770f"
      },
      "source": [
        "print('i' in 'apple')"
      ],
      "execution_count": 25,
      "outputs": [
        {
          "output_type": "stream",
          "text": [
            "False\n"
          ],
          "name": "stdout"
        }
      ]
    },
    {
      "cell_type": "code",
      "metadata": {
        "colab": {
          "base_uri": "https://localhost:8080/"
        },
        "id": "rupWmreTVVEx",
        "outputId": "1cbc250b-31f9-49e9-b701-37cfac4140b8"
      },
      "source": [
        "print('ap' in 'apple')"
      ],
      "execution_count": 26,
      "outputs": [
        {
          "output_type": "stream",
          "text": [
            "True\n"
          ],
          "name": "stdout"
        }
      ]
    },
    {
      "cell_type": "code",
      "metadata": {
        "colab": {
          "base_uri": "https://localhost:8080/"
        },
        "id": "9q7Qy5DDVWQL",
        "outputId": "a89acda1-88f2-483b-8aa4-2a241f818ab6"
      },
      "source": [
        "\n",
        "print('pa' in 'apple')"
      ],
      "execution_count": 27,
      "outputs": [
        {
          "output_type": "stream",
          "text": [
            "False\n"
          ],
          "name": "stdout"
        }
      ]
    },
    {
      "cell_type": "code",
      "metadata": {
        "colab": {
          "base_uri": "https://localhost:8080/"
        },
        "id": "Ev2Oj8-wVY90",
        "outputId": "7abdea35-fba4-499e-ac72-e87a3f4eb6f5"
      },
      "source": [
        "print('a' in 'a')"
      ],
      "execution_count": 28,
      "outputs": [
        {
          "output_type": "stream",
          "text": [
            "True\n"
          ],
          "name": "stdout"
        }
      ]
    },
    {
      "cell_type": "code",
      "metadata": {
        "colab": {
          "base_uri": "https://localhost:8080/"
        },
        "id": "mfb04qfHVhs9",
        "outputId": "fc78a973-3ab6-44ae-c14f-0f352f25f88c"
      },
      "source": [
        "\n",
        "print('apple' in 'apple')"
      ],
      "execution_count": 29,
      "outputs": [
        {
          "output_type": "stream",
          "text": [
            "True\n"
          ],
          "name": "stdout"
        }
      ]
    },
    {
      "cell_type": "code",
      "metadata": {
        "colab": {
          "base_uri": "https://localhost:8080/"
        },
        "id": "O0QYEM3kVjOm",
        "outputId": "67da86e5-b76f-4d82-c80f-ed461e6ceedc"
      },
      "source": [
        "print('' in 'a')"
      ],
      "execution_count": 30,
      "outputs": [
        {
          "output_type": "stream",
          "text": [
            "True\n"
          ],
          "name": "stdout"
        }
      ]
    },
    {
      "cell_type": "code",
      "metadata": {
        "colab": {
          "base_uri": "https://localhost:8080/"
        },
        "id": "PGI33A7WVlzB",
        "outputId": "17485035-672a-4b42-e2a5-126009d130c2"
      },
      "source": [
        "print('' in 'apple')"
      ],
      "execution_count": 31,
      "outputs": [
        {
          "output_type": "stream",
          "text": [
            "True\n"
          ],
          "name": "stdout"
        }
      ]
    },
    {
      "cell_type": "code",
      "metadata": {
        "colab": {
          "base_uri": "https://localhost:8080/"
        },
        "id": "GeAvUm5lVoYj",
        "outputId": "b7a74d3c-8a39-4340-84a7-e647e8a287d6"
      },
      "source": [
        "print('x' not in 'apple')"
      ],
      "execution_count": 32,
      "outputs": [
        {
          "output_type": "stream",
          "text": [
            "True\n"
          ],
          "name": "stdout"
        }
      ]
    },
    {
      "cell_type": "code",
      "metadata": {
        "colab": {
          "base_uri": "https://localhost:8080/"
        },
        "id": "QHyzBtyhV-Fw",
        "outputId": "74e865b6-3fdb-44c7-d57d-d559575f598a"
      },
      "source": [
        "song = \"The rain in Spain...\"\n",
        "wds = song.split()\n",
        "print(wds)"
      ],
      "execution_count": 33,
      "outputs": [
        {
          "output_type": "stream",
          "text": [
            "['The', 'rain', 'in', 'Spain...']\n"
          ],
          "name": "stdout"
        }
      ]
    },
    {
      "cell_type": "code",
      "metadata": {
        "colab": {
          "base_uri": "https://localhost:8080/"
        },
        "id": "YoXH76OZWBnj",
        "outputId": "b3c25a3f-720e-4472-8eab-ec3e8a3d93a9"
      },
      "source": [
        "wds = song.split('ai')\n",
        "print(wds)"
      ],
      "execution_count": 34,
      "outputs": [
        {
          "output_type": "stream",
          "text": [
            "['The r', 'n in Sp', 'n...']\n"
          ],
          "name": "stdout"
        }
      ]
    },
    {
      "cell_type": "code",
      "metadata": {
        "colab": {
          "base_uri": "https://localhost:8080/"
        },
        "id": "x-6HFD0pWKHQ",
        "outputId": "461b212f-f9ab-43eb-c6d6-760d833e80b6"
      },
      "source": [
        "wds = [\"red\", \"blue\", \"green\"]\n",
        "glue = ';'\n",
        "s = glue.join(wds)\n",
        "print(s)"
      ],
      "execution_count": 35,
      "outputs": [
        {
          "output_type": "stream",
          "text": [
            "red;blue;green\n"
          ],
          "name": "stdout"
        }
      ]
    },
    {
      "cell_type": "code",
      "metadata": {
        "colab": {
          "base_uri": "https://localhost:8080/"
        },
        "id": "yT7PHW1PWb_G",
        "outputId": "c3293232-0060-4ea9-caaa-327d34b40ecb"
      },
      "source": [
        "print(\"***\".join(wds))"
      ],
      "execution_count": 36,
      "outputs": [
        {
          "output_type": "stream",
          "text": [
            "red***blue***green\n"
          ],
          "name": "stdout"
        }
      ]
    },
    {
      "cell_type": "code",
      "metadata": {
        "colab": {
          "base_uri": "https://localhost:8080/"
        },
        "id": "A1VHPsywWd33",
        "outputId": "a18a04b1-f2c3-42ae-ad38-a8b9c5c95879"
      },
      "source": [
        "print(\" \".join(wds))"
      ],
      "execution_count": 37,
      "outputs": [
        {
          "output_type": "stream",
          "text": [
            "red blue green\n"
          ],
          "name": "stdout"
        }
      ]
    },
    {
      "cell_type": "markdown",
      "metadata": {
        "id": "LT3_cwfRWtyg"
      },
      "source": [
        "# Regular Expression"
      ]
    },
    {
      "cell_type": "code",
      "metadata": {
        "id": "iE3gSVPYWyzZ"
      },
      "source": [
        "import re"
      ],
      "execution_count": 38,
      "outputs": []
    },
    {
      "cell_type": "code",
      "metadata": {
        "colab": {
          "base_uri": "https://localhost:8080/"
        },
        "id": "IEAURF5LZDNj",
        "outputId": "71239dde-7b28-480c-c0f4-0498290b1d76"
      },
      "source": [
        "str = 'an example word:cat!!'\n",
        "match = re.search(r'word:\\w\\w\\w', str)\n",
        "\n",
        "# If-statement after search() tests whether it succeeded\n",
        "if match:                      \n",
        "    print('found', match.group())  ## 'found word:cat'\n",
        "else:\n",
        "    print('did not find')"
      ],
      "execution_count": 39,
      "outputs": [
        {
          "output_type": "stream",
          "text": [
            "found word:cat\n"
          ],
          "name": "stdout"
        }
      ]
    }
  ]
}