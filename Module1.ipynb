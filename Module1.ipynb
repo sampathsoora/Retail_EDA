{
  "nbformat": 4,
  "nbformat_minor": 0,
  "metadata": {
    "colab": {
      "name": "Module1.ipynb",
      "provenance": [],
      "collapsed_sections": [
        "0P_FidAanTj0",
        "crCqYIrJm2tm",
        "C5Zm_FKYoevx"
      ],
      "toc_visible": true,
      "authorship_tag": "ABX9TyNDJ9VICnL1isEsf3jAsL8w",
      "include_colab_link": true
    },
    "kernelspec": {
      "name": "python3",
      "display_name": "Python 3"
    },
    "language_info": {
      "name": "python"
    }
  },
  "cells": [
    {
      "cell_type": "markdown",
      "metadata": {
        "id": "view-in-github",
        "colab_type": "text"
      },
      "source": [
        "<a href=\"https://colab.research.google.com/github/sampathsoora/Retail_EDA/blob/main/Module1.ipynb\" target=\"_parent\"><img src=\"https://colab.research.google.com/assets/colab-badge.svg\" alt=\"Open In Colab\"/></a>"
      ]
    },
    {
      "cell_type": "markdown",
      "metadata": {
        "id": "7ME2xHFbkxJD"
      },
      "source": [
        "Variables and Datatypes"
      ]
    },
    {
      "cell_type": "markdown",
      "metadata": {
        "id": "0P_FidAanTj0"
      },
      "source": [
        "# Variable Section"
      ]
    },
    {
      "cell_type": "code",
      "metadata": {
        "id": "6_Ue8mfPlRdH"
      },
      "source": [
        "name = \"Pink Floyd\""
      ],
      "execution_count": null,
      "outputs": []
    },
    {
      "cell_type": "code",
      "metadata": {
        "colab": {
          "base_uri": "https://localhost:8080/"
        },
        "id": "tpqbg7VVlPWe",
        "outputId": "09d9687b-2fb4-4906-99e7-07301278a3b3"
      },
      "source": [
        "print(name)"
      ],
      "execution_count": null,
      "outputs": [
        {
          "output_type": "stream",
          "text": [
            "Pink Floyd\n"
          ],
          "name": "stdout"
        }
      ]
    },
    {
      "cell_type": "code",
      "metadata": {
        "colab": {
          "base_uri": "https://localhost:8080/"
        },
        "id": "qabA3QvYlN6_",
        "outputId": "6d559c02-f1e7-438e-d851-048d6a36778a"
      },
      "source": [
        "type(name)"
      ],
      "execution_count": null,
      "outputs": [
        {
          "output_type": "execute_result",
          "data": {
            "text/plain": [
              "str"
            ]
          },
          "metadata": {
            "tags": []
          },
          "execution_count": 4
        }
      ]
    },
    {
      "cell_type": "code",
      "metadata": {
        "colab": {
          "base_uri": "https://localhost:8080/"
        },
        "id": "qHSCHo5glcqI",
        "outputId": "b027ecd7-6d97-4446-bdf6-415171e48a3a"
      },
      "source": [
        "name = 1.5\n",
        "print(name)\n",
        "type(name)"
      ],
      "execution_count": null,
      "outputs": [
        {
          "output_type": "stream",
          "text": [
            "1.5\n"
          ],
          "name": "stdout"
        },
        {
          "output_type": "execute_result",
          "data": {
            "text/plain": [
              "float"
            ]
          },
          "metadata": {
            "tags": []
          },
          "execution_count": 5
        }
      ]
    },
    {
      "cell_type": "markdown",
      "metadata": {
        "id": "crCqYIrJm2tm"
      },
      "source": [
        "# New Section"
      ]
    },
    {
      "cell_type": "code",
      "metadata": {
        "id": "by-cdAC_nGUd"
      },
      "source": [
        "i = 3"
      ],
      "execution_count": null,
      "outputs": []
    },
    {
      "cell_type": "code",
      "metadata": {
        "colab": {
          "base_uri": "https://localhost:8080/"
        },
        "id": "XQEjfZhcnIw0",
        "outputId": "7f890b13-3a09-478d-d35e-c1a6eb88b8c8"
      },
      "source": [
        "print(i)"
      ],
      "execution_count": null,
      "outputs": [
        {
          "output_type": "stream",
          "text": [
            "3\n"
          ],
          "name": "stdout"
        }
      ]
    },
    {
      "cell_type": "markdown",
      "metadata": {
        "id": "C5Zm_FKYoevx"
      },
      "source": [
        "# Arithmetic Operation"
      ]
    },
    {
      "cell_type": "code",
      "metadata": {
        "colab": {
          "base_uri": "https://localhost:8080/"
        },
        "id": "kWBUMRswprax",
        "outputId": "28a35284-f703-4da4-b506-2ef99fe4cf4a"
      },
      "source": [
        "a = 2\n",
        "b = 4 \n",
        "c = a + b \n",
        "print(\"a: \",a) \n",
        "print(\"b: \",b) \n",
        "print(\"c: \",c)"
      ],
      "execution_count": null,
      "outputs": [
        {
          "output_type": "stream",
          "text": [
            "a:  2\n",
            "b:  4\n",
            "c:  6\n"
          ],
          "name": "stdout"
        }
      ]
    },
    {
      "cell_type": "code",
      "metadata": {
        "colab": {
          "base_uri": "https://localhost:8080/"
        },
        "id": "o8YbKeGcpzEv",
        "outputId": "9dbd5bda-05d5-4221-edcf-93b8dfb80565"
      },
      "source": [
        "b = a ** 2\n",
        "print(b)"
      ],
      "execution_count": null,
      "outputs": [
        {
          "output_type": "stream",
          "text": [
            "4\n"
          ],
          "name": "stdout"
        }
      ]
    },
    {
      "cell_type": "markdown",
      "metadata": {
        "id": "4EGkF26RqSOz"
      },
      "source": [
        "# Condition operators"
      ]
    },
    {
      "cell_type": "code",
      "metadata": {
        "colab": {
          "base_uri": "https://localhost:8080/"
        },
        "id": "sdeISEqYqUWI",
        "outputId": "92d1afa3-5535-40cb-e2d7-18c44a200c8d"
      },
      "source": [
        "age = 19\n",
        "if age >= 18:\n",
        "  print(\"DL acquired\")\n",
        "else:\n",
        "    print(\"Wait\")"
      ],
      "execution_count": null,
      "outputs": [
        {
          "output_type": "stream",
          "text": [
            "DL acquired\n"
          ],
          "name": "stdout"
        }
      ]
    },
    {
      "cell_type": "code",
      "metadata": {
        "colab": {
          "base_uri": "https://localhost:8080/"
        },
        "id": "xFP1xvYErYms",
        "outputId": "75798577-721e-4134-bd41-9ee7f7b870f0"
      },
      "source": [
        "age = 16\n",
        "if age >= 18:\n",
        "  print(\"DL acquired\")\n",
        "elif age == 17:\n",
        "  print(\"Wait\")\n",
        "else:\n",
        "  print(\"Not eligible\")  "
      ],
      "execution_count": null,
      "outputs": [
        {
          "output_type": "stream",
          "text": [
            "Not eligible\n"
          ],
          "name": "stdout"
        }
      ]
    },
    {
      "cell_type": "code",
      "metadata": {
        "colab": {
          "base_uri": "https://localhost:8080/"
        },
        "id": "qnOMshihs4jE",
        "outputId": "4e9d5a8f-4db4-45a2-bc07-5948019be349"
      },
      "source": [
        "for i in range(1,8):\n",
        "  print(i)\n",
        "  print(i, i ** 2)"
      ],
      "execution_count": null,
      "outputs": [
        {
          "output_type": "stream",
          "text": [
            "1\n",
            "1 1\n",
            "2\n",
            "2 4\n",
            "3\n",
            "3 9\n",
            "4\n",
            "4 16\n",
            "5\n",
            "5 25\n",
            "6\n",
            "6 36\n",
            "7\n",
            "7 49\n"
          ],
          "name": "stdout"
        }
      ]
    },
    {
      "cell_type": "code",
      "metadata": {
        "colab": {
          "base_uri": "https://localhost:8080/"
        },
        "id": "m2lCI444tnfx",
        "outputId": "aa025927-0685-430a-8950-04b338c69183"
      },
      "source": [
        "i = 0\n",
        "while i < 5:\n",
        "  print(i)\n",
        "  i += 1"
      ],
      "execution_count": null,
      "outputs": [
        {
          "output_type": "stream",
          "text": [
            "0\n",
            "1\n",
            "2\n",
            "3\n",
            "4\n"
          ],
          "name": "stdout"
        }
      ]
    },
    {
      "cell_type": "markdown",
      "metadata": {
        "id": "VByWCKvlZUki"
      },
      "source": [
        "# Defining Methods Operation"
      ]
    },
    {
      "cell_type": "code",
      "metadata": {
        "colab": {
          "base_uri": "https://localhost:8080/"
        },
        "id": "-eRsU5n4Zb41",
        "outputId": "c1563e3c-00ac-4bdb-9540-f7223a7062de"
      },
      "source": [
        "def add(a,b):\n",
        "  return a+b\n",
        "\n",
        "sum = print(\"sum:\",add(3,4))"
      ],
      "execution_count": 2,
      "outputs": [
        {
          "output_type": "stream",
          "text": [
            "sum: 7\n"
          ],
          "name": "stdout"
        }
      ]
    },
    {
      "cell_type": "markdown",
      "metadata": {
        "id": "2qhTjh6pZ0Pt"
      },
      "source": [
        "# Method Operation without return"
      ]
    },
    {
      "cell_type": "code",
      "metadata": {
        "colab": {
          "base_uri": "https://localhost:8080/"
        },
        "id": "TBzU0VhNacwA",
        "outputId": "e9d8488e-7cf5-4b8e-90fc-abd5fda6db9a"
      },
      "source": [
        "def display():\n",
        "   i = 1\n",
        "   while i < 5:\n",
        "      print(i)\n",
        "      i += 1\n",
        "\n",
        "display()"
      ],
      "execution_count": 10,
      "outputs": [
        {
          "output_type": "stream",
          "text": [
            "1\n",
            "2\n",
            "3\n",
            "4\n"
          ],
          "name": "stdout"
        }
      ]
    },
    {
      "cell_type": "markdown",
      "metadata": {
        "id": "SnyBZheVcdiv"
      },
      "source": [
        "# List"
      ]
    },
    {
      "cell_type": "code",
      "metadata": {
        "colab": {
          "base_uri": "https://localhost:8080/"
        },
        "id": "ceOH6BYNcgD3",
        "outputId": "4685f292-f78c-47dd-a430-8c44d599c68d"
      },
      "source": [
        "name1 = \"Soora\"\n",
        "name2 = \"Sampath\"\n",
        "\n",
        "nameList = [name1, name2]\n",
        "\n",
        "type (nameList)\n",
        "print(nameList)"
      ],
      "execution_count": 17,
      "outputs": [
        {
          "output_type": "stream",
          "text": [
            "['Soora', 'Sampath']\n"
          ],
          "name": "stdout"
        }
      ]
    },
    {
      "cell_type": "code",
      "metadata": {
        "colab": {
          "base_uri": "https://localhost:8080/"
        },
        "id": "FmvZsChCdNHa",
        "outputId": "0499b92e-4c21-49ac-d27d-1e3232a41b8a"
      },
      "source": [
        "contact = 1234\n",
        "\n",
        "disc = [name1, name2, contact]\n",
        "\n",
        "type (disc)"
      ],
      "execution_count": 20,
      "outputs": [
        {
          "output_type": "execute_result",
          "data": {
            "text/plain": [
              "list"
            ]
          },
          "metadata": {
            "tags": []
          },
          "execution_count": 20
        }
      ]
    },
    {
      "cell_type": "code",
      "metadata": {
        "colab": {
          "base_uri": "https://localhost:8080/"
        },
        "id": "o6THBP7wdhi8",
        "outputId": "7ec06626-0b7d-4cee-913a-1f097560e433"
      },
      "source": [
        "print(disc)"
      ],
      "execution_count": 21,
      "outputs": [
        {
          "output_type": "stream",
          "text": [
            "['Soora', 'Sampath', 1234]\n"
          ],
          "name": "stdout"
        }
      ]
    },
    {
      "cell_type": "code",
      "metadata": {
        "colab": {
          "base_uri": "https://localhost:8080/"
        },
        "id": "z18iBwMUeV9z",
        "outputId": "208851c7-010a-401c-aa6e-7aa845c9d5bf"
      },
      "source": [
        "print(disc[0])"
      ],
      "execution_count": 22,
      "outputs": [
        {
          "output_type": "stream",
          "text": [
            "Soora\n"
          ],
          "name": "stdout"
        }
      ]
    },
    {
      "cell_type": "code",
      "metadata": {
        "colab": {
          "base_uri": "https://localhost:8080/"
        },
        "id": "HK3_tch3ecIu",
        "outputId": "afc3646b-0129-46d5-d6f8-fbdd7ff813eb"
      },
      "source": [
        "print(disc[1:2])"
      ],
      "execution_count": 23,
      "outputs": [
        {
          "output_type": "stream",
          "text": [
            "['Sampath']\n"
          ],
          "name": "stdout"
        }
      ]
    },
    {
      "cell_type": "code",
      "metadata": {
        "colab": {
          "base_uri": "https://localhost:8080/"
        },
        "id": "ED9GexkWegcZ",
        "outputId": "f9e3ce60-d515-4e7d-f988-e4158f5b530c"
      },
      "source": [
        "print(disc[1:3])"
      ],
      "execution_count": 24,
      "outputs": [
        {
          "output_type": "stream",
          "text": [
            "['Sampath', 1234]\n"
          ],
          "name": "stdout"
        }
      ]
    },
    {
      "cell_type": "code",
      "metadata": {
        "colab": {
          "base_uri": "https://localhost:8080/"
        },
        "id": "PfrZ4_PLemu2",
        "outputId": "b4872e31-aa2f-4954-c376-f410070443ed"
      },
      "source": [
        "disc[1] = \"Berrington\"\n",
        "print(disc)"
      ],
      "execution_count": 25,
      "outputs": [
        {
          "output_type": "stream",
          "text": [
            "['Soora', 'Berrington', 1234]\n"
          ],
          "name": "stdout"
        }
      ]
    },
    {
      "cell_type": "code",
      "metadata": {
        "colab": {
          "base_uri": "https://localhost:8080/"
        },
        "id": "iByKBNGtfDlV",
        "outputId": "7a097c5b-7ab5-4f29-9f57-fba79f8ee61c"
      },
      "source": [
        "disc[1:2] = \"Luke\", \"Hartley\"\n",
        "print(disc)"
      ],
      "execution_count": 26,
      "outputs": [
        {
          "output_type": "stream",
          "text": [
            "['Soora', 'Luke', 'Hartley', 1234]\n"
          ],
          "name": "stdout"
        }
      ]
    },
    {
      "cell_type": "code",
      "metadata": {
        "colab": {
          "base_uri": "https://localhost:8080/"
        },
        "id": "dt-NsboNulzi",
        "outputId": "36e5ceff-184c-4483-c10d-e87e275ee7a7"
      },
      "source": [
        "print(disc)"
      ],
      "execution_count": 28,
      "outputs": [
        {
          "output_type": "stream",
          "text": [
            "['Soora', 'Luke', 'Hartley', 1234]\n"
          ],
          "name": "stdout"
        }
      ]
    },
    {
      "cell_type": "code",
      "metadata": {
        "colab": {
          "base_uri": "https://localhost:8080/"
        },
        "id": "vIFKTRQyvuNH",
        "outputId": "dcf886bc-c130-48c0-d2a9-fedc5c49b4b1"
      },
      "source": [
        "disc[1] = \"Sampath\"\n",
        "print(disc)"
      ],
      "execution_count": 29,
      "outputs": [
        {
          "output_type": "stream",
          "text": [
            "['Soora', 'Sampath', 'Hartley', 1234]\n"
          ],
          "name": "stdout"
        }
      ]
    },
    {
      "cell_type": "code",
      "metadata": {
        "colab": {
          "base_uri": "https://localhost:8080/"
        },
        "id": "XMg5i4mfv5WT",
        "outputId": "a6c3414b-26f6-4c42-d4b9-3ac10fe102a0"
      },
      "source": [
        "disc[2] = \"Kumar\"\n",
        "print(disc)"
      ],
      "execution_count": 30,
      "outputs": [
        {
          "output_type": "stream",
          "text": [
            "['Soora', 'Sampath', 'Kumar', 1234]\n"
          ],
          "name": "stdout"
        }
      ]
    },
    {
      "cell_type": "code",
      "metadata": {
        "colab": {
          "base_uri": "https://localhost:8080/"
        },
        "id": "P6S1BQdgwCr9",
        "outputId": "d74debce-6bf2-47b6-847c-8d7df319a95d"
      },
      "source": [
        "len(disc)"
      ],
      "execution_count": 31,
      "outputs": [
        {
          "output_type": "execute_result",
          "data": {
            "text/plain": [
              "4"
            ]
          },
          "metadata": {
            "tags": []
          },
          "execution_count": 31
        }
      ]
    },
    {
      "cell_type": "code",
      "metadata": {
        "colab": {
          "base_uri": "https://localhost:8080/"
        },
        "id": "IFfGvOY9wFBV",
        "outputId": "51b40dea-22b3-4c83-e586-37529a345f82"
      },
      "source": [
        "discCopy = disc\n",
        "print(discCopy)\n",
        "print(disc)"
      ],
      "execution_count": 33,
      "outputs": [
        {
          "output_type": "stream",
          "text": [
            "['Soora', 'Sampath', 'Kumar', 1234]\n",
            "['Soora', 'Sampath', 'Kumar', 1234]\n"
          ],
          "name": "stdout"
        }
      ]
    },
    {
      "cell_type": "code",
      "metadata": {
        "colab": {
          "base_uri": "https://localhost:8080/"
        },
        "id": "lWJKd9PrwUl1",
        "outputId": "b8b69d10-8714-40cf-e9be-ac546fdd2732"
      },
      "source": [
        "discCopy[0] = \"John\"\n",
        "print(discCopy)"
      ],
      "execution_count": 35,
      "outputs": [
        {
          "output_type": "stream",
          "text": [
            "['John', 'Sampath', 'Kumar', 1234]\n"
          ],
          "name": "stdout"
        }
      ]
    },
    {
      "cell_type": "code",
      "metadata": {
        "colab": {
          "base_uri": "https://localhost:8080/"
        },
        "id": "6meuCr4twb78",
        "outputId": "973569fb-96c9-4b36-a1ba-f0633662abc7"
      },
      "source": [
        "print(disc)"
      ],
      "execution_count": 36,
      "outputs": [
        {
          "output_type": "stream",
          "text": [
            "['John', 'Sampath', 'Kumar', 1234]\n"
          ],
          "name": "stdout"
        }
      ]
    },
    {
      "cell_type": "code",
      "metadata": {
        "colab": {
          "base_uri": "https://localhost:8080/"
        },
        "id": "9c9CMVBKwqIM",
        "outputId": "dd7950d9-7303-4ab5-b6af-10b489fe9773"
      },
      "source": [
        "discCopyCopy = discCopy\n",
        "print(discCopyCopy)"
      ],
      "execution_count": 37,
      "outputs": [
        {
          "output_type": "stream",
          "text": [
            "['John', 'Sampath', 'Kumar', 1234]\n"
          ],
          "name": "stdout"
        }
      ]
    },
    {
      "cell_type": "code",
      "metadata": {
        "colab": {
          "base_uri": "https://localhost:8080/"
        },
        "id": "zhYtW-dEw-4j",
        "outputId": "7cdb194a-568f-4e0b-ea1d-fcc109fbadea"
      },
      "source": [
        "print(discCopy)"
      ],
      "execution_count": 38,
      "outputs": [
        {
          "output_type": "stream",
          "text": [
            "['John', 'Sampath', 'Kumar', 1234]\n"
          ],
          "name": "stdout"
        }
      ]
    },
    {
      "cell_type": "code",
      "metadata": {
        "colab": {
          "base_uri": "https://localhost:8080/"
        },
        "id": "stDCzu62xm2a",
        "outputId": "cd991c6b-5995-4020-e85f-7140ef5674a6"
      },
      "source": [
        "discCopyCopy[0] = \"Vidrohi\"\n",
        "print(discCopyCopy)"
      ],
      "execution_count": 39,
      "outputs": [
        {
          "output_type": "stream",
          "text": [
            "['Vidrohi', 'Sampath', 'Kumar', 1234]\n"
          ],
          "name": "stdout"
        }
      ]
    },
    {
      "cell_type": "code",
      "metadata": {
        "colab": {
          "base_uri": "https://localhost:8080/"
        },
        "id": "6V16vL5jx1vO",
        "outputId": "09aef9d2-83ce-4862-f1d9-11e813bf2f8c"
      },
      "source": [
        "print(discCopy)"
      ],
      "execution_count": 41,
      "outputs": [
        {
          "output_type": "stream",
          "text": [
            "['Vidrohi', 'Sampath', 'Kumar', 1234]\n"
          ],
          "name": "stdout"
        }
      ]
    },
    {
      "cell_type": "code",
      "metadata": {
        "colab": {
          "base_uri": "https://localhost:8080/"
        },
        "id": "OoTEXmZmzXPN",
        "outputId": "14db1880-d68d-4c57-b272-921697d97d42"
      },
      "source": [
        "mergedDisc = discCopy + discCopyCopy\n",
        "print(mergedDisc)"
      ],
      "execution_count": 43,
      "outputs": [
        {
          "output_type": "stream",
          "text": [
            "['Vidrohi', 'Sampath', 'Kumar', 1234, 'Vidrohi', 'Sampath', 'Kumar', 1234]\n"
          ],
          "name": "stdout"
        }
      ]
    },
    {
      "cell_type": "code",
      "metadata": {
        "colab": {
          "base_uri": "https://localhost:8080/"
        },
        "id": "VlC3Ah_lz_xk",
        "outputId": "e7f657db-551f-41cd-eee3-59407591aec5"
      },
      "source": [
        "len(mergedDisc)"
      ],
      "execution_count": 44,
      "outputs": [
        {
          "output_type": "execute_result",
          "data": {
            "text/plain": [
              "8"
            ]
          },
          "metadata": {
            "tags": []
          },
          "execution_count": 44
        }
      ]
    },
    {
      "cell_type": "code",
      "metadata": {
        "colab": {
          "base_uri": "https://localhost:8080/"
        },
        "id": "YwFRcadN1nOD",
        "outputId": "259bee99-5e32-4841-ab29-2095956a54c1"
      },
      "source": [
        "my_List = [\"Soora\", 9999]\n",
        "print(my_List)"
      ],
      "execution_count": 45,
      "outputs": [
        {
          "output_type": "stream",
          "text": [
            "['Soora', 9999]\n"
          ],
          "name": "stdout"
        }
      ]
    },
    {
      "cell_type": "code",
      "metadata": {
        "colab": {
          "base_uri": "https://localhost:8080/"
        },
        "id": "4ld8YN5s12Hx",
        "outputId": "f8697642-4b93-467a-a0fb-2e4832ce5142"
      },
      "source": [
        "my_Tuple = tuple(my_List)\n",
        "print(my_Tuple)"
      ],
      "execution_count": 46,
      "outputs": [
        {
          "output_type": "stream",
          "text": [
            "('Soora', 9999)\n"
          ],
          "name": "stdout"
        }
      ]
    },
    {
      "cell_type": "code",
      "metadata": {
        "colab": {
          "base_uri": "https://localhost:8080/"
        },
        "id": "Kw_eHuxs2DQO",
        "outputId": "e5b3631d-8383-41c8-df14-143fbfb3c7c3"
      },
      "source": [
        "type(my_Tuple)"
      ],
      "execution_count": 47,
      "outputs": [
        {
          "output_type": "execute_result",
          "data": {
            "text/plain": [
              "tuple"
            ]
          },
          "metadata": {
            "tags": []
          },
          "execution_count": 47
        }
      ]
    },
    {
      "cell_type": "code",
      "metadata": {
        "colab": {
          "base_uri": "https://localhost:8080/"
        },
        "id": "32c1bQhi2uLI",
        "outputId": "06573693-2eb0-4cef-9b50-de7fd50a39a7"
      },
      "source": [
        "print(my_Tuple)"
      ],
      "execution_count": 48,
      "outputs": [
        {
          "output_type": "stream",
          "text": [
            "('Soora', 9999)\n"
          ],
          "name": "stdout"
        }
      ]
    },
    {
      "cell_type": "code",
      "metadata": {
        "colab": {
          "base_uri": "https://localhost:8080/"
        },
        "id": "Q7FlTvrQ2xEp",
        "outputId": "6ba98235-01d6-48f3-8553-5bab49321c40"
      },
      "source": [
        "print(my_List)"
      ],
      "execution_count": 49,
      "outputs": [
        {
          "output_type": "stream",
          "text": [
            "['Soora', 9999]\n"
          ],
          "name": "stdout"
        }
      ]
    },
    {
      "cell_type": "code",
      "metadata": {
        "colab": {
          "base_uri": "https://localhost:8080/"
        },
        "id": "4oraVIwE3OxP",
        "outputId": "27dbec19-758c-48f8-f601-8c6a71d24448"
      },
      "source": [
        "print(my_Tuple[0])"
      ],
      "execution_count": 50,
      "outputs": [
        {
          "output_type": "stream",
          "text": [
            "Soora\n"
          ],
          "name": "stdout"
        }
      ]
    },
    {
      "cell_type": "code",
      "metadata": {
        "colab": {
          "base_uri": "https://localhost:8080/",
          "height": 163
        },
        "id": "kjzkxo1q3a5m",
        "outputId": "a5d75023-5698-40b5-b03d-ed284bc9c278"
      },
      "source": [
        "my_Tuple[0] = \"Kumar\""
      ],
      "execution_count": 51,
      "outputs": [
        {
          "output_type": "error",
          "ename": "TypeError",
          "evalue": "ignored",
          "traceback": [
            "\u001b[0;31m---------------------------------------------------------------------------\u001b[0m",
            "\u001b[0;31mTypeError\u001b[0m                                 Traceback (most recent call last)",
            "\u001b[0;32m<ipython-input-51-df4c97a5bc23>\u001b[0m in \u001b[0;36m<module>\u001b[0;34m()\u001b[0m\n\u001b[0;32m----> 1\u001b[0;31m \u001b[0mmy_Tuple\u001b[0m\u001b[0;34m[\u001b[0m\u001b[0;36m0\u001b[0m\u001b[0;34m]\u001b[0m \u001b[0;34m=\u001b[0m \u001b[0;34m\"Kumar\"\u001b[0m\u001b[0;34m\u001b[0m\u001b[0;34m\u001b[0m\u001b[0m\n\u001b[0m",
            "\u001b[0;31mTypeError\u001b[0m: 'tuple' object does not support item assignment"
          ]
        }
      ]
    },
    {
      "cell_type": "code",
      "metadata": {
        "colab": {
          "base_uri": "https://localhost:8080/"
        },
        "id": "_EDRgAcSG6R9",
        "outputId": "8877f896-42fa-4f52-ff9e-2ac5f46760cc"
      },
      "source": [
        "my_List_New = [\"Soora\", 9999, 9999]\n",
        "print(my_List_New)"
      ],
      "execution_count": 54,
      "outputs": [
        {
          "output_type": "stream",
          "text": [
            "['Soora', 9999, 9999]\n"
          ],
          "name": "stdout"
        }
      ]
    },
    {
      "cell_type": "code",
      "metadata": {
        "colab": {
          "base_uri": "https://localhost:8080/"
        },
        "id": "0fwVCydOHGVD",
        "outputId": "0ce70980-1e4f-40ef-a656-6a2bb4080948"
      },
      "source": [
        "my_Set = set(my_List_New)\n",
        "print(my_Set)"
      ],
      "execution_count": 55,
      "outputs": [
        {
          "output_type": "stream",
          "text": [
            "{'Soora', 9999}\n"
          ],
          "name": "stdout"
        }
      ]
    },
    {
      "cell_type": "code",
      "metadata": {
        "colab": {
          "base_uri": "https://localhost:8080/",
          "height": 163
        },
        "id": "jwqvYRF9Hc3T",
        "outputId": "70cf9c84-8734-47cc-8469-89beca59a0d2"
      },
      "source": [
        "my_Set[0] = \"Kumar\""
      ],
      "execution_count": 56,
      "outputs": [
        {
          "output_type": "error",
          "ename": "TypeError",
          "evalue": "ignored",
          "traceback": [
            "\u001b[0;31m---------------------------------------------------------------------------\u001b[0m",
            "\u001b[0;31mTypeError\u001b[0m                                 Traceback (most recent call last)",
            "\u001b[0;32m<ipython-input-56-5d3e5e969d5c>\u001b[0m in \u001b[0;36m<module>\u001b[0;34m()\u001b[0m\n\u001b[0;32m----> 1\u001b[0;31m \u001b[0mmy_Set\u001b[0m\u001b[0;34m[\u001b[0m\u001b[0;36m0\u001b[0m\u001b[0;34m]\u001b[0m \u001b[0;34m=\u001b[0m \u001b[0;34m\"Kumar\"\u001b[0m\u001b[0;34m\u001b[0m\u001b[0;34m\u001b[0m\u001b[0m\n\u001b[0m",
            "\u001b[0;31mTypeError\u001b[0m: 'set' object does not support item assignment"
          ]
        }
      ]
    },
    {
      "cell_type": "code",
      "metadata": {
        "colab": {
          "base_uri": "https://localhost:8080/"
        },
        "id": "gcFgnINZIAhT",
        "outputId": "e2ec2bff-30c8-4899-cbc1-7b9ccc02e572"
      },
      "source": [
        "my_Dictionary = {}\n",
        "type (my_Dictionary) "
      ],
      "execution_count": 64,
      "outputs": [
        {
          "output_type": "execute_result",
          "data": {
            "text/plain": [
              "dict"
            ]
          },
          "metadata": {
            "tags": []
          },
          "execution_count": 64
        }
      ]
    },
    {
      "cell_type": "code",
      "metadata": {
        "id": "uhsEVpN-I4DU"
      },
      "source": [
        "my_Dictionary[\"name:\"] = \"Soora\"\n",
        "my_Dictionary[\"number:\"] = 9999"
      ],
      "execution_count": 66,
      "outputs": []
    },
    {
      "cell_type": "code",
      "metadata": {
        "colab": {
          "base_uri": "https://localhost:8080/"
        },
        "id": "OJxLP8K1JPs-",
        "outputId": "98f7b9a1-56e6-4eea-fc48-c2a71b59d88d"
      },
      "source": [
        "print(my_Dictionary)"
      ],
      "execution_count": 68,
      "outputs": [
        {
          "output_type": "stream",
          "text": [
            "{'name:': 'Soora', 'number:': 9999}\n"
          ],
          "name": "stdout"
        }
      ]
    },
    {
      "cell_type": "code",
      "metadata": {
        "colab": {
          "base_uri": "https://localhost:8080/"
        },
        "id": "077W3gfJJjJP",
        "outputId": "6d609e30-d62d-4ca2-876c-f544d8c7f0cf"
      },
      "source": [
        "print(my_Dictionary[\"name:\"])"
      ],
      "execution_count": 70,
      "outputs": [
        {
          "output_type": "stream",
          "text": [
            "Soora\n"
          ],
          "name": "stdout"
        }
      ]
    },
    {
      "cell_type": "code",
      "metadata": {
        "colab": {
          "base_uri": "https://localhost:8080/"
        },
        "id": "Ns6hVGKBJ3Wn",
        "outputId": "614cc8f8-08a1-47d3-ba8a-1b529e83b3d0"
      },
      "source": [
        "print(my_Dictionary[\"number:\"])"
      ],
      "execution_count": 71,
      "outputs": [
        {
          "output_type": "stream",
          "text": [
            "9999\n"
          ],
          "name": "stdout"
        }
      ]
    },
    {
      "cell_type": "markdown",
      "metadata": {
        "id": "Md0cvcl7Kfja"
      },
      "source": [
        "# Importing Class and Packages"
      ]
    },
    {
      "cell_type": "code",
      "metadata": {
        "colab": {
          "base_uri": "https://localhost:8080/"
        },
        "id": "dRPx0G4BKlhZ",
        "outputId": "066d11b0-0a54-428f-92dd-f1610799631b"
      },
      "source": [
        "import math as m\n",
        "m.factorial(5)"
      ],
      "execution_count": 72,
      "outputs": [
        {
          "output_type": "execute_result",
          "data": {
            "text/plain": [
              "120"
            ]
          },
          "metadata": {
            "tags": []
          },
          "execution_count": 72
        }
      ]
    },
    {
      "cell_type": "code",
      "metadata": {
        "colab": {
          "base_uri": "https://localhost:8080/"
        },
        "id": "07Bx1Q1rK3vS",
        "outputId": "d0ed5697-27a5-45f1-8e10-3da057e83181"
      },
      "source": [
        "m.factorial(3)"
      ],
      "execution_count": 73,
      "outputs": [
        {
          "output_type": "execute_result",
          "data": {
            "text/plain": [
              "6"
            ]
          },
          "metadata": {
            "tags": []
          },
          "execution_count": 73
        }
      ]
    },
    {
      "cell_type": "code",
      "metadata": {
        "colab": {
          "base_uri": "https://localhost:8080/"
        },
        "id": "ukPAjz-JLTKp",
        "outputId": "4612eb70-c8e3-4338-d5ad-142d465be6f3"
      },
      "source": [
        "m.sqrt(9)"
      ],
      "execution_count": 74,
      "outputs": [
        {
          "output_type": "execute_result",
          "data": {
            "text/plain": [
              "3.0"
            ]
          },
          "metadata": {
            "tags": []
          },
          "execution_count": 74
        }
      ]
    },
    {
      "cell_type": "code",
      "metadata": {
        "id": "1pE_xJoLLV8s"
      },
      "source": [
        "class MyClass:\n",
        "  def add(self,a,b):\n",
        "    return a + b"
      ],
      "execution_count": 86,
      "outputs": []
    },
    {
      "cell_type": "code",
      "metadata": {
        "id": "U3z1xEtvLpcQ"
      },
      "source": [
        "objMyClass = MyClass()"
      ],
      "execution_count": 87,
      "outputs": []
    },
    {
      "cell_type": "code",
      "metadata": {
        "colab": {
          "base_uri": "https://localhost:8080/"
        },
        "id": "dIAC_KS0Lv0i",
        "outputId": "2f3f219f-7226-4e21-d2c7-407de3f044cf"
      },
      "source": [
        "objMyClass.add(3,2)"
      ],
      "execution_count": 88,
      "outputs": [
        {
          "output_type": "execute_result",
          "data": {
            "text/plain": [
              "5"
            ]
          },
          "metadata": {
            "tags": []
          },
          "execution_count": 88
        }
      ]
    },
    {
      "cell_type": "code",
      "metadata": {
        "id": "oswTrgkBNPzQ"
      },
      "source": [
        ""
      ],
      "execution_count": null,
      "outputs": []
    }
  ]
}