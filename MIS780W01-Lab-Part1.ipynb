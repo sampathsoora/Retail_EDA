{
 "cells": [
  {
   "cell_type": "markdown",
   "metadata": {
    "colab_type": "text",
    "id": "UP2Th8B0LLey"
   },
   "source": [
    "# MIS780 - Advanced Artificial Intelligence for Business\n",
    "\n",
    "## Week 1 - Part 1: Python Programming Review"
   ]
  },
  {
   "cell_type": "markdown",
   "metadata": {
    "colab_type": "text",
    "id": "V0vSWcazLLe3"
   },
   "source": [
    "In this session, you will review your python programming skills using **Jupyter notebook**. \n",
    "\n",
    "- Install the [Anaconda](https://www.anaconda.com/distribution/), and run it locally.\n",
    "- Launch Jupyter notebook and open lab content (.ipynb file extension).\n",
    "\n",
    "In Jupyter notebook, you will be able to execute and modify your *Python* code efficiently. "
   ]
  },
  {
   "cell_type": "markdown",
   "metadata": {},
   "source": [
    "\n",
    "## Table of Content\n",
    "\n",
    "\n",
    "1. [Python Data Structures](#cell_Structures)\n",
    "    - [Lists](#cell_Lists) \n",
    "    - [Tuples](#cell_Tuples)\n",
    "    - [String](#cell_String)\n",
    "    - [Sets](#cell_Sets)\n",
    "    - [Dictionaries](#cell_Dictionaries)\n",
    "    - [Python range()](#cell_range)\n",
    "    \n",
    "\n",
    "2. [Python Control Flow](#cell_ControlFlow)\n",
    "    - [if...else Statement](#cell_ifelse) \n",
    "    - [while Loop](#cell_whileLoop) \n",
    "    - [for Loop](#cell_forLoop) \n",
    "\n",
    "\n",
    "3. [Python Function](#cell_start)\n",
    "    - [Simple Function](#cell_simplefunction)\n",
    "    - [Recursive function](#cell_recursivefunction)\n",
    "    - [Lambda function](#cell_lambdafunction)\n",
    "    - [Modules](#cell_Modules)\n",
    "\n",
    "\n",
    "4. [Python File Input/Output](#cell_InputOutput)\n",
    "    - [Write to a file](#cell_Write)\n",
    "    - [Read a file](#cell_Read)\n",
    "\n",
    "\n",
    "5. [Python Exception Handling](#cell_Exception)\n",
    "\n",
    "\n",
    "6. [Python Object Oriented Programming](#cell_oop)\n",
    "    - [Class and Objects](#cell_classobject)\n",
    "    - [Creating Objects](#cell_object)\n",
    "    - [Constructors](#cell_Constructors)\n",
    "    - [Inheritance](#cell_Inheritance) \n",
    "    \n",
    "    \n",
    "7. [Exercise: Simple Calculator Program](#cell_Calculator)"
   ]
  },
  {
   "cell_type": "markdown",
   "metadata": {
    "colab_type": "text",
    "id": "THnW6RPgLLf6"
   },
   "source": [
    "<a id = \"cell_Structures\"></a>\n",
    "### 1. Python Data Structures\n",
    "\n",
    "Python offers a range of compound datatypes often referred to as sequences. You will learn about those built-in types in this section.\n",
    "\n",
    "<a id = \"cell_Lists\"></a>\n",
    "### Lists\n",
    "\n",
    "A list is created by placing all the items (elements) inside a square bracket `[]` separated by commas. It can have any number of items and they may be of different types (integer, float, string etc.)"
   ]
  },
  {
   "cell_type": "code",
   "execution_count": null,
   "metadata": {},
   "outputs": [],
   "source": [
    "# empty list\n",
    "my_list = []\n",
    "\n",
    "# list of integers\n",
    "my_list = [1, 2, 3, 4, 5, 6]\n",
    "print('my_list:', my_list)\n"
   ]
  },
  {
   "cell_type": "code",
   "execution_count": null,
   "metadata": {
    "colab": {},
    "colab_type": "code",
    "id": "CG-9AQrmLLf7"
   },
   "outputs": [],
   "source": [
    "# empty list\n",
    "my_list = []\n",
    "\n",
    "# list of integers\n",
    "my_list = [1, 2, 3, 4, 5, 6]\n",
    "print('my_list:', my_list)\n",
    "\n",
    "# list with mixed data types\n",
    "my_list = [2, \"Hi\", 4.5]\n",
    "print('my_list:', my_list)"
   ]
  },
  {
   "cell_type": "markdown",
   "metadata": {
    "colab_type": "text",
    "id": "ZPKAMR6WLLgI"
   },
   "source": [
    "Access elements of a list. You use the index operator `[]` to access an item in a list. Index starts from 0. So, a list having 10 elements will have index from 0 to 9."
   ]
  },
  {
   "cell_type": "code",
   "execution_count": null,
   "metadata": {
    "colab": {},
    "colab_type": "code",
    "id": "5ZsarfIpLLgO"
   },
   "outputs": [],
   "source": [
    "language = [\"French\", \"German\", \"English\", \"Polish\"]\n",
    "\n",
    "# Accessing first element\n",
    "print(language[0])\n",
    "\n",
    "# Accessing fourth element\n",
    "print(language[2])"
   ]
  },
  {
   "cell_type": "markdown",
   "metadata": {
    "colab_type": "text",
    "id": "cm9IgbLyLLgU"
   },
   "source": [
    "<a id = \"cell_Tuples\"></a>\n",
    "### Tuples\n",
    "\n",
    "A tuple is created by placing all the items (elements) inside a round bracket `()` separated by commas. Tuple is similar to a list except you cannot change elements of a tuple once it is defined. Whereas in a list, items can be modified."
   ]
  },
  {
   "cell_type": "code",
   "execution_count": null,
   "metadata": {
    "colab": {},
    "colab_type": "code",
    "id": "zilCIz-GLLga"
   },
   "outputs": [],
   "source": [
    "language = (\"French\", \"German\", \"English\", \"Polish\")\n",
    "print(language)"
   ]
  },
  {
   "cell_type": "markdown",
   "metadata": {
    "colab": {},
    "colab_type": "code",
    "id": "cHelVR_8LLgg"
   },
   "source": [
    "access elements of a tuple in a similar way like a list."
   ]
  },
  {
   "cell_type": "code",
   "execution_count": null,
   "metadata": {
    "colab_type": "text",
    "id": "zshg7IvZLLgp"
   },
   "outputs": [],
   "source": [
    "language = (\"French\", \"German\", \"English\", \"Polish\")\n",
    "\n",
    "print(language[1]) #Output: German\n",
    "print(language[3]) #Output: Polish\n",
    "print(language[-1]) # Output: Polish"
   ]
  },
  {
   "cell_type": "markdown",
   "metadata": {
    "colab_type": "text",
    "id": "grJ6X6aMLLg8"
   },
   "source": [
    "You cannot delete elements of a tuple, however, you can entirely delete a tuple itself using del operator."
   ]
  },
  {
   "cell_type": "code",
   "execution_count": null,
   "metadata": {
    "colab": {},
    "colab_type": "code",
    "id": "QcxK0VgBLLg9"
   },
   "outputs": [],
   "source": [
    "language = (\"French\", \"German\", \"English\", \"Polish\")\n",
    "del language\n",
    "\n",
    "# NameError: name 'language' is not defined\n",
    "print(language)"
   ]
  },
  {
   "cell_type": "markdown",
   "metadata": {
    "colab_type": "text",
    "id": "W3vLIE_bLLhC"
   },
   "source": [
    "<a id = \"cell_String\"></a>\n",
    "### String\n",
    "\n",
    "A string is a sequence of characters. Here are different ways to create a string."
   ]
  },
  {
   "cell_type": "code",
   "execution_count": null,
   "metadata": {
    "colab": {},
    "colab_type": "code",
    "id": "kcq185ULLLhD"
   },
   "outputs": [],
   "source": [
    "# all of the following are equivalent\n",
    "my_string = 'Hello'\n",
    "print(my_string)\n",
    "\n",
    "my_string = \"Hello\"\n",
    "print(my_string)\n",
    "\n",
    "my_string = '''Hello'''\n",
    "print(my_string)\n",
    "\n",
    "# triple quotes string can extend multiple lines\n",
    "my_string = \"\"\"Hello, welcome to\n",
    "           the Advanced AI for Business\"\"\"\n",
    "print(my_string)"
   ]
  },
  {
   "cell_type": "markdown",
   "metadata": {
    "colab_type": "text",
    "id": "ncHDozPILLhI"
   },
   "source": [
    "You can access individual characters of a string using indexing (in a similar manner like lists and tuples)."
   ]
  },
  {
   "cell_type": "code",
   "execution_count": null,
   "metadata": {
    "colab": {},
    "colab_type": "code",
    "id": "X-DGDDQaLLhI"
   },
   "outputs": [],
   "source": [
    "str = 'Advanced Artificial Intelligence for Business'\n",
    "print('str = ', str)\n",
    "\n",
    "print('str[0] = ', str[0]) # Output: A\n",
    "\n",
    "print('str[-1] = ', str[-1]) # Output: s\n",
    "\n",
    "#slicing 2nd to 5th character\n",
    "print('str[1:5] = ', str[1:5]) # Output: dvan\n",
    "\n",
    "#slicing 6th to 2nd last character\n",
    "print('str[20:-2] = ', str[20:38]) # Output: Intelligence for Busine"
   ]
  },
  {
   "cell_type": "markdown",
   "metadata": {
    "colab_type": "text",
    "id": "bwoz8VV2LLhS"
   },
   "source": [
    "Strings are immutable. You cannot change elements of a string once it is assigned. However, you can assign one string to another. Also, you can delete the string using del operator.\n",
    "\n",
    "Concatenation is a common string operation. To concatenate strings, you use + operator. Similarly, the * operator can be used to repeat the string for a given number of times."
   ]
  },
  {
   "cell_type": "code",
   "execution_count": null,
   "metadata": {
    "colab": {},
    "colab_type": "code",
    "id": "q1mgdutELLhU"
   },
   "outputs": [],
   "source": [
    "str1 = 'Welcome to '\n",
    "str2 ='MIS780 '\n",
    "\n",
    "# Output: Welcome to MIS780\n",
    "print(str1 + str2)\n",
    "\n",
    "# MIS780 MIS780 MIS780\n",
    "print(str2 * 3)"
   ]
  },
  {
   "cell_type": "markdown",
   "metadata": {
    "colab_type": "text",
    "id": "i5Kx0MKLLLhZ"
   },
   "source": [
    "<a id = \"cell_Sets\"></a>\n",
    "### Sets\n",
    "\n",
    "A set is an unordered collection of items where every element is unique (no duplicates). A set is created by placing all the items (elements) inside a curly bracket `{}` separated by commas."
   ]
  },
  {
   "cell_type": "code",
   "execution_count": null,
   "metadata": {
    "colab": {},
    "colab_type": "code",
    "id": "5j7kVvnnLLhd"
   },
   "outputs": [],
   "source": [
    "# set of integers\n",
    "my_set = {1, 2, 3}\n",
    "print(my_set)\n",
    "\n",
    "# set of mixed datatypes\n",
    "my_set = {1.0, \"Welcome\", (1, 2, 3)}\n",
    "print(my_set)"
   ]
  },
  {
   "cell_type": "markdown",
   "metadata": {
    "colab_type": "text",
    "id": "glnQnKz6LLhi"
   },
   "source": [
    "Sets are mutable. You can add, remove and delete elements of a set. However, you cannot replace one item of a set with another as they are unordered and indexing have no meaning."
   ]
  },
  {
   "cell_type": "code",
   "execution_count": null,
   "metadata": {
    "colab": {},
    "colab_type": "code",
    "id": "DC97cQs2LLhj"
   },
   "outputs": [],
   "source": [
    "# set of integers\n",
    "my_set = {1, 2}\n",
    "\n",
    "my_set.add(4)\n",
    "print(my_set) # Output: {1, 2, 4}\n",
    "\n",
    "my_set.add(2)\n",
    "print(my_set) # Output: {1, 2, 4}\n",
    "\n",
    "my_set.update([3, 4, 5])\n",
    "print(my_set) # Output: {1, 2, 3, 4, 5}\n",
    "\n",
    "my_set.remove(4)\n",
    "print(my_set) # Output: {1, 2, 3, 5}"
   ]
  },
  {
   "cell_type": "markdown",
   "metadata": {
    "colab_type": "text",
    "id": "kp8W43nnLLhv"
   },
   "source": [
    "Some commonly used set operations:"
   ]
  },
  {
   "cell_type": "code",
   "execution_count": null,
   "metadata": {},
   "outputs": [],
   "source": [
    "A = {1, 2, 3}\n",
    "B = {2, 3, 4, 5}\n",
    "\n",
    "# Equivalent to A.union(B) \n",
    "# Also equivalent to B.union(A)\n",
    "print(A | B) # Output: {1, 2, 3, 4, 5}\n",
    "\n"
   ]
  },
  {
   "cell_type": "code",
   "execution_count": null,
   "metadata": {},
   "outputs": [],
   "source": [
    "\n",
    "\n",
    "# Equivalent to A.intersection(B)\n",
    "# Also equivalent to B.intersection(A)\n",
    "print (A & B) # Output: {2, 3}"
   ]
  },
  {
   "cell_type": "code",
   "execution_count": null,
   "metadata": {},
   "outputs": [],
   "source": [
    "# Set Difference\n",
    "print (A - B) # Output: {1}"
   ]
  },
  {
   "cell_type": "code",
   "execution_count": null,
   "metadata": {
    "colab": {},
    "colab_type": "code",
    "id": "U5PUlblFLLh3"
   },
   "outputs": [],
   "source": [
    "# Set Symmetric Difference\n",
    "print(A ^ B)  # Output: {1, 4, 5}"
   ]
  },
  {
   "cell_type": "markdown",
   "metadata": {
    "colab_type": "text",
    "id": "cm0OdobTLLh9"
   },
   "source": [
    "<a id = \"cell_Dictionaries\"></a>\n",
    "### Dictionaries\n",
    "\n",
    "Dictionary is an unordered collection of items. While other compound data types have only value as an element, a dictionary has a `key: value` pair. For example:"
   ]
  },
  {
   "cell_type": "code",
   "execution_count": null,
   "metadata": {},
   "outputs": [],
   "source": [
    "# empty dictionary\n",
    "my_dict = {}\n",
    "\n",
    "# dictionary with integer keys\n",
    "my_dict = {1: 'MIS772', 2: 'MIS780'}\n",
    "print(my_dict[1])\n"
   ]
  },
  {
   "cell_type": "code",
   "execution_count": null,
   "metadata": {
    "colab": {},
    "colab_type": "code",
    "id": "6Hx7whpWLLh9"
   },
   "outputs": [],
   "source": [
    "# dictionary with mixed keys\n",
    "my_dict = {'unit': 'MIS780', 1: [2, 4, 3]}\n",
    "print(my_dict['unit'])\n",
    "print(my_dict[1])\n",
    "\n",
    "person = {'name':'Jack', 'age': 26, 'salary': 4534.2}\n",
    "print('Age of Jack is: ', person['age']) # Output: 26"
   ]
  },
  {
   "cell_type": "markdown",
   "metadata": {
    "colab_type": "text",
    "id": "SxYdplr7LLiB"
   },
   "source": [
    "Change, add or delete dictionary elements."
   ]
  },
  {
   "cell_type": "code",
   "execution_count": null,
   "metadata": {
    "colab": {},
    "colab_type": "code",
    "id": "atOH5kwTLLiC"
   },
   "outputs": [],
   "source": [
    "subject = {'name':'MIS780', 'mark': 70}\n",
    "\n",
    "# Changing mark to 80\n",
    "subject['mark'] = 80 \n",
    "print(subject) \n",
    "\n",
    "# Adding grade key, value pair\n",
    "subject['grade'] = 'HD'\n",
    "print(subject) \n",
    "\n",
    "# Deleting age\n",
    "del subject['grade']\n",
    "print(subject) \n",
    "\n",
    "# Deleting entire dictionary\n",
    "del subject"
   ]
  },
  {
   "cell_type": "markdown",
   "metadata": {
    "colab_type": "text",
    "id": "3e2FhseULLiE"
   },
   "source": [
    "<a id = \"cell_range\"></a>\n",
    "### Python range()\n",
    "\n",
    "`range()` returns an immutable sequence of numbers between the given start integer to the stop integer. The output is an iterable and you can convert it to list, tuple, set and so on"
   ]
  },
  {
   "cell_type": "code",
   "execution_count": null,
   "metadata": {
    "colab": {},
    "colab_type": "code",
    "id": "b4rw4CjPLLiG"
   },
   "outputs": [],
   "source": [
    "numbers = range(1, 6)\n",
    "\n",
    "print(list(numbers)) # Output: [1, 2, 3, 4, 5]\n",
    "print(tuple(numbers)) # Output: (1, 2, 3, 4, 5)\n",
    "print(set(numbers)) # Output: {1, 2, 3, 4, 5}\n",
    "\n",
    "# Output: {1: 99, 2: 99, 3: 99, 4: 99, 5: 99} \n",
    "print(dict.fromkeys(numbers, 99))"
   ]
  },
  {
   "cell_type": "markdown",
   "metadata": {
    "colab_type": "text",
    "id": "aUcMPHTMLLiS"
   },
   "source": [
    "<a id = \"cell_ControlFlow\"></a>\n",
    "### 2. Python Control Flow\n",
    " \n",
    "<a id = \"cell_ifelse\"></a>\n",
    "### if...else Statement\n",
    " \n",
    "The `if...else` statement is used if you want perform different action (run different code) on different condition.\n",
    "\n",
    "A code block starts with indentation and ends with the first unindented line. The amount of indentation is up to you, but it must be consistent throughout that block."
   ]
  },
  {
   "cell_type": "code",
   "execution_count": null,
   "metadata": {
    "colab_type": "text",
    "id": "NTaPssJ_LLiT"
   },
   "outputs": [],
   "source": [
    "num = 3\n",
    "\n",
    "if num > 0:\n",
    "    print(\"Positive number\")\n",
    "elif num == 0:\n",
    "    print(\"Zero\")\n",
    "else:\n",
    "    print(\"Negative number\")\n",
    "# Output: Negative number"
   ]
  },
  {
   "cell_type": "markdown",
   "metadata": {
    "colab": {},
    "colab_type": "code",
    "id": "4bJEQg_MLLiU"
   },
   "source": [
    "<a id = \"cell_whileLoop\"></a>\n",
    "### while Loop\n",
    "\n",
    "`while` loop is used to iterate over a block of code as long as the test expression (condition) is `true`. "
   ]
  },
  {
   "cell_type": "code",
   "execution_count": null,
   "metadata": {
    "colab": {},
    "colab_type": "code",
    "id": "p6bV4vC9LLiX"
   },
   "outputs": [],
   "source": [
    "n = 50\n",
    "\n",
    "# initialize sum and counter\n",
    "sum = 0\n",
    "i = 1\n",
    "\n",
    "while i <= 50:\n",
    "    sum = sum + i\n",
    "    i = i+1    # update counter\n",
    "\n",
    "print(\"The sum is\", sum)\n",
    "\n",
    "# Output: The sum is 1275"
   ]
  },
  {
   "cell_type": "markdown",
   "metadata": {
    "colab_type": "text",
    "id": "XTDUWNsPLLie"
   },
   "source": [
    "<a id = \"cell_forLoop\"></a>\n",
    "### for Loop\n",
    "\n",
    "`for` loop is used to iterate over a sequence (list, tuple, string) or other iterable objects. Iterating over a sequence is called traversal."
   ]
  },
  {
   "cell_type": "code",
   "execution_count": null,
   "metadata": {
    "colab": {},
    "colab_type": "code",
    "id": "l5ee7L9mLLif"
   },
   "outputs": [],
   "source": [
    "numbers = [6, 5, 3, 8, 4, 2]\n",
    "\n",
    "sum = 0\n",
    "\n",
    "# iterate over the list\n",
    "for val in numbers:\n",
    "  sum = sum+val\n",
    "\n",
    "print(\"The sum is\", sum) # Output: The sum is 28"
   ]
  },
  {
   "cell_type": "markdown",
   "metadata": {
    "colab_type": "text",
    "id": "6ID6qNctLLil"
   },
   "source": [
    "The `break` statement terminates the loop containing it."
   ]
  },
  {
   "cell_type": "code",
   "execution_count": null,
   "metadata": {
    "colab": {},
    "colab_type": "code",
    "id": "hT18fhA8LLim"
   },
   "outputs": [],
   "source": [
    "for val in \"string\":\n",
    "    if val == \"r\":\n",
    "        break\n",
    "    print(val)\n",
    "    \n",
    "print(\"The end\")"
   ]
  },
  {
   "cell_type": "markdown",
   "metadata": {
    "colab_type": "text",
    "id": "Z-YaXqCSLLir"
   },
   "source": [
    "The `continue` statement is used to skip the rest of the code inside a loop for the current iteration only."
   ]
  },
  {
   "cell_type": "code",
   "execution_count": null,
   "metadata": {
    "colab": {},
    "colab_type": "code",
    "id": "WIZ3IGCILLis"
   },
   "outputs": [],
   "source": [
    "for val in \"string\":\n",
    "    if val == \"r\":\n",
    "        continue\n",
    "        \n",
    "    print(val)\n",
    "\n",
    "print(\"The end\")"
   ]
  },
  {
   "cell_type": "markdown",
   "metadata": {
    "colab_type": "text",
    "id": "I0sASGehLLiz"
   },
   "source": [
    "Suppose, you have a loop or a function that is not implemented yet, but want to implement it in the future. They cannot have an empty body. The interpreter would complain. So, you use the `pass` statement to construct a body that does nothing."
   ]
  },
  {
   "cell_type": "code",
   "execution_count": null,
   "metadata": {
    "colab": {},
    "colab_type": "code",
    "id": "Q8-htgKSLLi0"
   },
   "outputs": [],
   "source": [
    "sequence = {'p', 'a', 's', 's'}\n",
    "for val in sequence:\n",
    "    pass"
   ]
  },
  {
   "cell_type": "markdown",
   "metadata": {
    "colab_type": "text",
    "collapsed": true,
    "id": "Mk39mzf8LLjd"
   },
   "source": [
    "<a id = \"cell_function\"></a>\n",
    "### 3. Python Function\n",
    "\n",
    "<a id = \"cell_simplefunction\"></a>\n",
    "### Simple Function"
   ]
  },
  {
   "cell_type": "markdown",
   "metadata": {
    "colab_type": "text",
    "id": "DI609niBLLje"
   },
   "source": [
    "A function is a group of related statements that perform a specific task. You use `def` keyword to create functions in Python.\n",
    "\n",
    "You have to call the function to run the codes inside it."
   ]
  },
  {
   "cell_type": "code",
   "execution_count": null,
   "metadata": {
    "colab": {},
    "colab_type": "code",
    "id": "V62kYzxKLLjf"
   },
   "outputs": [],
   "source": [
    "def print_lines():\n",
    "  print(\"Welcome to MIS772.\")\n",
    "  print(\"Welcome to MIS780.\")\n",
    "    \n",
    "# function call\n",
    "print_lines()"
   ]
  },
  {
   "cell_type": "markdown",
   "metadata": {
    "colab": {},
    "colab_type": "code",
    "id": "Boe-ivfiLLjh"
   },
   "source": [
    "A function can accept arguments."
   ]
  },
  {
   "cell_type": "code",
   "execution_count": null,
   "metadata": {
    "colab": {},
    "colab_type": "code",
    "id": "4wGHArWZLLji"
   },
   "outputs": [],
   "source": [
    "def add_numbers(a, b):\n",
    "  sum = a + b\n",
    "  print(sum)\n",
    "\n"
   ]
  },
  {
   "cell_type": "markdown",
   "metadata": {
    "colab_type": "text",
    "id": "T7mJiYNiLLjk"
   },
   "source": [
    "You can also return value from a function using `return` statement."
   ]
  },
  {
   "cell_type": "code",
   "execution_count": null,
   "metadata": {},
   "outputs": [],
   "source": [
    "add_numbers(3543, 3545) # Output: 9"
   ]
  },
  {
   "cell_type": "code",
   "execution_count": null,
   "metadata": {
    "colab": {},
    "colab_type": "code",
    "id": "i9bnxwLRLLjk"
   },
   "outputs": [],
   "source": [
    "def add_numbers(a, b):\n",
    "  sum = a + b\n",
    "  return sum\n",
    "\n",
    "result = add_numbers(4, 5)\n",
    "print(result) # Output: 9"
   ]
  },
  {
   "cell_type": "markdown",
   "metadata": {
    "colab_type": "text",
    "id": "s_NS6zzbLLjl"
   },
   "source": [
    "<a id = \"cell_recursivefunction\"></a>\n",
    "### Recursive function\n",
    "\n",
    "A function that calls itself is known as recursive function and this process is called recursion.\n",
    "\n",
    "Every recursive function must have a base condition that stops the recursion or else the function calls itself infinitely."
   ]
  },
  {
   "cell_type": "code",
   "execution_count": null,
   "metadata": {
    "colab": {},
    "colab_type": "code",
    "id": "hpz8oajsLLjp"
   },
   "outputs": [],
   "source": [
    "# Recursive function to find the factorial of a number\n",
    "def calc_factorial(x):\n",
    "    if x == 1:\n",
    "        return 1\n",
    "    else:\n",
    "        return (x * calc_factorial(x-1))\n",
    "\n",
    "num = 4\n",
    "print(\"The factorial of\", num, \"is\", calc_factorial(num)) \n",
    "# Output: The factorial of 4 is 24"
   ]
  },
  {
   "cell_type": "markdown",
   "metadata": {
    "colab": {},
    "colab_type": "code",
    "id": "vZnUQd69LLjx"
   },
   "source": [
    "<a id = \"cell_lambdafunction\"></a>\n",
    "### Lambda function\n",
    "\n",
    "You can define functions without a name. These functions are called lambda or anonymous function. To create a lambda function, `lambda` keyword is used."
   ]
  },
  {
   "cell_type": "code",
   "execution_count": null,
   "metadata": {
    "colab": {},
    "colab_type": "code",
    "id": "Zfw9EfrqLLj0"
   },
   "outputs": [],
   "source": [
    "square = lambda x: x ** 2\n",
    "\n",
    "print(square(5)) # Output: 25"
   ]
  },
  {
   "cell_type": "markdown",
   "metadata": {
    "colab_type": "text",
    "id": "_rZvY3UlLLj1"
   },
   "source": [
    "<a id = \"cell_Modules\"></a>\n",
    "### Modules\n",
    "\n",
    "Modules refer to a file containing Python statements and definitions.\n",
    "\n",
    "A file containing Python code, for e.g.: `example.py`, is called a module and its module name would be `example`.\n",
    "\n",
    "Copy the below code into a new python script file and save it as `example.py` in the same folder with this MIS780W01-Lab notebook. (You can use `NotePad` to enter the code and save as option `All File (*.*)` to save the file)\n",
    "\n",
    "`def add(a, b):\n",
    "    return a + b`\n",
    "   \n",
    "To use this module, we use `import` keyword."
   ]
  },
  {
   "cell_type": "code",
   "execution_count": null,
   "metadata": {
    "colab": {},
    "colab_type": "code",
    "id": "l4dFT7CYLLj1"
   },
   "outputs": [],
   "source": [
    "# importing example module\n",
    "import example \n",
    "\n",
    "# accessing the function inside the module using . operator\n",
    "example.add(2, 4.5) "
   ]
  },
  {
   "cell_type": "markdown",
   "metadata": {
    "colab_type": "text",
    "id": "SRn9iUKrLLj8"
   },
   "source": [
    "Python has a many standard modules readily available for use."
   ]
  },
  {
   "cell_type": "code",
   "execution_count": null,
   "metadata": {
    "colab": {},
    "colab_type": "code",
    "id": "TJOHXNYOLLj8"
   },
   "outputs": [],
   "source": [
    "import math\n",
    "\n",
    "result = math.log2(5) # return the base-2 logarithm\n",
    "print(result) # Output: 2.321928094887362"
   ]
  },
  {
   "cell_type": "markdown",
   "metadata": {
    "colab": {},
    "colab_type": "code",
    "id": "e3678xUuLLj9"
   },
   "source": [
    "You can also import specific names from a module without importing the module as a whole."
   ]
  },
  {
   "cell_type": "code",
   "execution_count": null,
   "metadata": {
    "colab": {},
    "colab_type": "code",
    "id": "AgVnOhigLLj-"
   },
   "outputs": [],
   "source": [
    "from math import pi\n",
    "\n",
    "print(\"The value of pi is\", pi)\n",
    "# Output: The value of pi is 3.141592653589793"
   ]
  },
  {
   "cell_type": "markdown",
   "metadata": {
    "colab_type": "text",
    "id": "B3ClkWDGLLkG"
   },
   "source": [
    "<a id = \"cell_InputOutput\"></a>\n",
    "### 4. Python File Input/Output\n",
    "\n",
    "<a id = \"cell_Write\"></a>\n",
    "### Write to a file\n",
    "\n",
    "In order to write into a file in Python, we need to open it in write `w`, append `a` or exclusive creation `x` mode."
   ]
  },
  {
   "cell_type": "code",
   "execution_count": null,
   "metadata": {
    "colab_type": "text",
    "id": "DWqLiEZ1LLkH"
   },
   "outputs": [],
   "source": [
    "with open(\"test.txt\",'w',encoding = 'utf-8') as f:\n",
    "   f.write(\"my first file\\n\")\n",
    "   f.write(\"This file\\n\")\n",
    "   f.write(\"contains three lines\\n\")\n",
    "f.close()"
   ]
  },
  {
   "cell_type": "markdown",
   "metadata": {
    "colab": {},
    "colab_type": "code",
    "id": "uotQ6pd8LLkH"
   },
   "source": [
    "<a id = \"cell_Read\"></a>\n",
    "### Read a file\n",
    "\n",
    "To read a file in Python, you must open the file in reading mode."
   ]
  },
  {
   "cell_type": "code",
   "execution_count": null,
   "metadata": {
    "colab_type": "text",
    "id": "jhMpU6dfLLkJ"
   },
   "outputs": [],
   "source": [
    "f = open(\"test.txt\",'r',encoding = 'utf-8')\n",
    "for x in f:\n",
    "  print('Each Line: ', x)\n",
    "\n",
    "f.close()"
   ]
  },
  {
   "cell_type": "markdown",
   "metadata": {
    "colab_type": "text",
    "id": "FaIP1_b4LLkL"
   },
   "source": [
    "We can use the read(size) method to read in size number of data."
   ]
  },
  {
   "cell_type": "code",
   "execution_count": null,
   "metadata": {
    "colab": {},
    "colab_type": "code",
    "id": "pe9Ey8M-LLkL"
   },
   "outputs": [],
   "source": [
    "f = open(\"test.txt\",'r',encoding = 'utf-8')\n",
    "f.read(10)    # read the first 10 characters"
   ]
  },
  {
   "cell_type": "markdown",
   "metadata": {
    "colab_type": "text",
    "id": "OyEkpA3mLLkR"
   },
   "source": [
    "<a id = \"cell_Exception\"></a>\n",
    "### 5. Python Exception Handling\n",
    "\n",
    "Errors that occur at runtime are called exceptions. They occur, for example, when a file we try to open does not exist `FileNotFoundError`, dividing a number by zero `ZeroDivisionError` etc. Exceptions can be handled using `try` statement."
   ]
  },
  {
   "cell_type": "code",
   "execution_count": null,
   "metadata": {
    "colab": {},
    "colab_type": "code",
    "id": "33qCABY9LLkS"
   },
   "outputs": [],
   "source": [
    "# import module sys to get the type of exception\n",
    "import sys\n",
    "\n",
    "randomList = ['a', 0, 2]\n",
    "\n",
    "for entry in randomList:\n",
    "    try:\n",
    "        print(\"The entry is\", entry)\n",
    "        r = 1/int(entry)\n",
    "        break\n",
    "    except:\n",
    "        print(\"Oops!\",sys.exc_info()[0],\"occurred.\")\n",
    "        print(\"Next entry.\")\n",
    "        print()\n",
    "print(\"The reciprocal of\",entry,\"is\",r)"
   ]
  },
  {
   "cell_type": "markdown",
   "metadata": {
    "colab_type": "text",
    "id": "tlMQpvLnLLkt"
   },
   "source": [
    "<a id = \"cell_oop\"></a>\n",
    "### 6. Python Object Oriented Programming\n",
    "\n",
    "<a id = \"cell_classobject\"></a>\n",
    "### Class and Objects\n",
    "\n",
    "Object is simply a collection of data (variables) and methods (functions) that act on data. And, class is a blueprint for the object.\n",
    "\n",
    "Define a class:"
   ]
  },
  {
   "cell_type": "code",
   "execution_count": null,
   "metadata": {},
   "outputs": [],
   "source": [
    "class MyClass:\n",
    "   \"\"\"This is my class\"\"\"\n",
    "   a_variable = 10\n",
    "   def func(self):\n",
    "      print('Hello') "
   ]
  },
  {
   "cell_type": "markdown",
   "metadata": {},
   "source": [
    "As soon as you define a class, a new class object is created with the same name. This class object allows us to access the different attributes as well as to instantiate new objects of that class."
   ]
  },
  {
   "cell_type": "code",
   "execution_count": null,
   "metadata": {},
   "outputs": [],
   "source": [
    "print(MyClass.a_variable)\n",
    "\n",
    "print(MyClass.func)\n",
    "\n",
    "print(MyClass.__doc__)"
   ]
  },
  {
   "cell_type": "markdown",
   "metadata": {},
   "source": [
    "<a id = \"cell_object\"></a>\n",
    "### Creating Objects\n",
    "\n",
    "You can also create objects of the class."
   ]
  },
  {
   "cell_type": "code",
   "execution_count": null,
   "metadata": {},
   "outputs": [],
   "source": [
    "obj1 = MyClass()\n",
    "print(obj1.a_variable)        # Output: 10\n",
    " \n",
    "obj2 = MyClass()\n",
    "print(obj1.a_variable + 5)    # Output: 15\n",
    "\n",
    "obj1.func()"
   ]
  },
  {
   "cell_type": "markdown",
   "metadata": {},
   "source": [
    "<a id = \"cell_Constructors\"></a>\n",
    "### Constructors\n",
    "\n",
    "A method with name `__init()__` is a constructor. This method is automatically called when an object is instantiated."
   ]
  },
  {
   "cell_type": "code",
   "execution_count": null,
   "metadata": {},
   "outputs": [],
   "source": [
    "class ComplexNumber:\n",
    "    def __init__(self,r = 0,i = 0):  # constructor\n",
    "        self.real = r\n",
    "        self.imag = i\n",
    "\n",
    "    def getData(self):\n",
    "        print(\"{0}+{1}j\".format(self.real,self.imag))\n",
    "\n",
    "\n",
    "c1 = ComplexNumber(2,3) # Create a new ComplexNumber object\n",
    "c1.getData() # Output: 2+3j\n",
    "\n",
    "c2 = ComplexNumber() # Create a new ComplexNumber object\n",
    "c2.getData() # Output: 0+0j"
   ]
  },
  {
   "cell_type": "markdown",
   "metadata": {},
   "source": [
    "<a id = \"cell_Inheritance\"></a>\n",
    "### Inheritance\n",
    "\n",
    "Inheritance refers to defining a new class with little or no modification to an existing class."
   ]
  },
  {
   "cell_type": "code",
   "execution_count": null,
   "metadata": {},
   "outputs": [],
   "source": [
    "class Mammal:\n",
    "  def displayMammalFeatures(self):\n",
    "    print('Mammal is a warm-blooded animal.')"
   ]
  },
  {
   "cell_type": "markdown",
   "metadata": {},
   "source": [
    "Derive a new class `Dog` from this `Mammal` class."
   ]
  },
  {
   "cell_type": "code",
   "execution_count": null,
   "metadata": {},
   "outputs": [],
   "source": [
    "class Dog(Mammal):\n",
    "  def displayDogFeatures(self):\n",
    "    print('Dog has 4 legs.')\n",
    "\n",
    "d = Dog()\n",
    "d.displayDogFeatures()\n",
    "d.displayMammalFeatures()"
   ]
  },
  {
   "cell_type": "markdown",
   "metadata": {},
   "source": [
    "<a id = \"cell_Calculator\"></a>\n",
    "### <font color=\"blue\">7. Exercise: Simple Calculator Program</font> \n",
    "\n",
    "Write a program that ask user to select one of the four operations (*_Add, Subtract, Multiply, Divide_*). Once an operation is selected, the program should ask user to input two numbers, and then display the result of the selected operation.\n",
    "\n",
    "Example ouput:\n",
    "\n",
    "Select operation.\n",
    "\n",
    "1.Add\n",
    "2.Subtract\n",
    "3.Multiply\n",
    "4.Divide\n",
    "\n",
    "Enter choice(1/2/3/4): 3\n",
    "\n",
    "Enter first number: 4\n",
    "\n",
    "Enter second number: 2\n",
    "\n",
    "4.0 * 2.0 = 8.0"
   ]
  },
  {
   "cell_type": "markdown",
   "metadata": {},
   "source": [
    "<details><summary><font color=\"blue\"><b>Click here for solution:</b></font></summary>\n",
    "# Program make a simple calculator\n",
    "# This function adds two numbers \n",
    "def add(x, y):\n",
    "   return x + y\n",
    "# This function subtracts two numbers \n",
    "def subtract(x, y):\n",
    "   return x - y\n",
    "# This function multiplies two numbers\n",
    "def multiply(x, y):\n",
    "   return x * y\n",
    "# This function divides two numbers\n",
    "def divide(x, y):\n",
    "   return x / y\n",
    "\n",
    "print(\"Select operation.\")\n",
    "print(\"1.Add\")\n",
    "print(\"2.Subtract\")\n",
    "print(\"3.Multiply\")\n",
    "print(\"4.Divide\")\n",
    "\n",
    "choice = input(\"Enter choice(1/2/3/4): \")\n",
    "num1 = float(input(\"Enter first number: \"))\n",
    "num2 = float(input(\"Enter second number: \"))\n",
    "\n",
    "if choice == '1':\n",
    "   print(num1,\"+\",num2,\"=\", add(num1,num2))\n",
    "elif choice == '2':\n",
    "   print(num1,\"-\",num2,\"=\", subtract(num1,num2))\n",
    "elif choice == '3':\n",
    "   print(num1,\"*\",num2,\"=\", multiply(num1,num2))\n",
    "elif choice == '4':\n",
    "   print(num1,\"/\",num2,\"=\", divide(num1,num2))\n",
    "else:\n",
    "   print(\"Invalid input\")"
   ]
  },
  {
   "cell_type": "code",
   "execution_count": null,
   "metadata": {},
   "outputs": [],
   "source": [
    "#Place your solution here\n",
    "# Program make a simple calculator\n",
    "# This function adds two numbers \n",
    "def add(x, y):\n",
    "   return x + y\n",
    "# This function subtracts two numbers \n",
    "def subtract(x, y):\n",
    "   return x - y\n",
    "# This function multiplies two numbers\n",
    "def multiply(x, y):\n",
    "   return x * y\n",
    "# This function divides two numbers\n",
    "def divide(x, y):\n",
    "   return x / y\n",
    "\n",
    "print(\"Select operation.\")\n",
    "print(\"1.Add\")\n",
    "print(\"2.Subtract\")\n",
    "print(\"3.Multiply\")\n",
    "print(\"4.Divide\")\n",
    "\n",
    "choice = input(\"Enter choice(1/2/3/4): \")\n",
    "num1 = float(input(\"Enter first number: \"))\n",
    "num2 = float(input(\"Enter second number: \"))\n",
    "\n",
    "if choice == '1':\n",
    "   print(num1,\"+\",num2,\"=\", add(num1,num2))\n",
    "elif choice == '2':\n",
    "   print(num1,\"-\",num2,\"=\", subtract(num1,num2))\n",
    "elif choice == '3':\n",
    "   print(num1,\"*\",num2,\"=\", multiply(num1,num2))\n",
    "elif choice == '4':\n",
    "   print(num1,\"/\",num2,\"=\", divide(num1,num2))\n",
    "else:\n",
    "   print(\"Invalid input\")"
   ]
  },
  {
   "cell_type": "markdown",
   "metadata": {},
   "source": [
    "### References: \n",
    "\n",
    "- Python 3 Tutorial, programiz https://www.programiz.com/python-programming/tutorial\n",
    "- Guido van Rossum and the Python development team (2018). Python Tutorial, Release 3.7.0, Python Software Foundation, https://bugs.python.org/file47781/Tutorial_EDIT.pdf"
   ]
  }
 ],
 "metadata": {
  "colab": {
   "collapsed_sections": [],
   "name": "SIT742P01A-Python.ipynb",
   "provenance": [],
   "version": "0.3.2"
  },
  "kernelspec": {
   "display_name": "Python 3",
   "language": "python",
   "name": "python3"
  },
  "language_info": {
   "codemirror_mode": {
    "name": "ipython",
    "version": 3
   },
   "file_extension": ".py",
   "mimetype": "text/x-python",
   "name": "python",
   "nbconvert_exporter": "python",
   "pygments_lexer": "ipython3",
   "version": "3.8.5"
  }
 },
 "nbformat": 4,
 "nbformat_minor": 1
}
