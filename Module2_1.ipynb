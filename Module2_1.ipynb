{
  "nbformat": 4,
  "nbformat_minor": 0,
  "metadata": {
    "colab": {
      "name": "Module2_1.ipynb",
      "provenance": [],
      "authorship_tag": "ABX9TyM6YwFPEHvRjux22kqDChyP",
      "include_colab_link": true
    },
    "kernelspec": {
      "name": "python3",
      "display_name": "Python 3"
    },
    "language_info": {
      "name": "python"
    }
  },
  "cells": [
    {
      "cell_type": "markdown",
      "metadata": {
        "id": "view-in-github",
        "colab_type": "text"
      },
      "source": [
        "<a href=\"https://colab.research.google.com/github/sampathsoora/Retail_EDA/blob/main/Module2_1.ipynb\" target=\"_parent\"><img src=\"https://colab.research.google.com/assets/colab-badge.svg\" alt=\"Open In Colab\"/></a>"
      ]
    },
    {
      "cell_type": "markdown",
      "metadata": {
        "id": "gNXmH8H0jHxX"
      },
      "source": [
        "# Importing a module"
      ]
    },
    {
      "cell_type": "code",
      "metadata": {
        "colab": {
          "base_uri": "https://localhost:8080/"
        },
        "id": "XyRyO3sIjOH0",
        "outputId": "416f814c-d282-4732-9ed8-c80a79446ad1"
      },
      "source": [
        "import math\n",
        "\n",
        "x = 2\n",
        "y1 = math.exp(x)\n",
        "y2 = math.log(x)\n",
        "\n",
        "print(\"e^{} is {} and log({}) is {}\".format(x, y1, x, y2))"
      ],
      "execution_count": 1,
      "outputs": [
        {
          "output_type": "stream",
          "text": [
            "e^2 is 7.38905609893065 and log(2) is 0.6931471805599453\n"
          ],
          "name": "stdout"
        }
      ]
    },
    {
      "cell_type": "code",
      "metadata": {
        "colab": {
          "base_uri": "https://localhost:8080/"
        },
        "id": "YMAj1lJ1j8LN",
        "outputId": "8a9b69cc-65ac-44bb-ab92-3e01fb274d1a"
      },
      "source": [
        "from math import exp\n",
        "\n",
        "x = 2\n",
        "y = exp(x)  # no need to math.exp()\n",
        "\n",
        "print(\"e^{} is {}\".format(x, y))"
      ],
      "execution_count": 2,
      "outputs": [
        {
          "output_type": "stream",
          "text": [
            "e^2 is 7.38905609893065\n"
          ],
          "name": "stdout"
        }
      ]
    },
    {
      "cell_type": "code",
      "metadata": {
        "colab": {
          "base_uri": "https://localhost:8080/"
        },
        "id": "cWtP0Q2WkY2e",
        "outputId": "70079db4-6f72-4b35-b230-d8dfdd927e6c"
      },
      "source": [
        "# you can change the name of the imported object\n",
        "from math import exp as myfun\n",
        "\n",
        "x = 2\n",
        "y = myfun(x)\n",
        "\n",
        "print(\"e^{} is {}\".format(x, y))"
      ],
      "execution_count": 3,
      "outputs": [
        {
          "output_type": "stream",
          "text": [
            "e^2 is 7.38905609893065\n"
          ],
          "name": "stdout"
        }
      ]
    },
    {
      "cell_type": "code",
      "metadata": {
        "colab": {
          "base_uri": "https://localhost:8080/"
        },
        "id": "9PhCMEf1kuvF",
        "outputId": "ef282666-19bb-4d27-e4ef-941188b995bb"
      },
      "source": [
        "from math import *\n",
        "\n",
        "x = 2\n",
        "y1 = exp(x)\n",
        "y2 = log(x)\n",
        "\n",
        "print(\"e^{} is {} and log({}) is {}\".format(x, y1, x, y2))"
      ],
      "execution_count": 4,
      "outputs": [
        {
          "output_type": "stream",
          "text": [
            "e^2 is 7.38905609893065 and log(2) is 0.6931471805599453\n"
          ],
          "name": "stdout"
        }
      ]
    },
    {
      "cell_type": "code",
      "metadata": {
        "colab": {
          "base_uri": "https://localhost:8080/"
        },
        "id": "Zr7vCZX7kzFY",
        "outputId": "1a12a071-e74f-46e9-d711-76f71d82daa0"
      },
      "source": [
        "import math\n",
        "n = 10\n",
        "# factorial means that the result when you multiply a whole number by all the numbers below it\n",
        "# Hence, factorial(n) = n * (n-1) * (n-2) * ...... * 1\n",
        "print(math.factorial(n))"
      ],
      "execution_count": 6,
      "outputs": [
        {
          "output_type": "stream",
          "text": [
            "3628800\n"
          ],
          "name": "stdout"
        }
      ]
    },
    {
      "cell_type": "code",
      "metadata": {
        "colab": {
          "base_uri": "https://localhost:8080/"
        },
        "id": "hHJcHyZDlYT5",
        "outputId": "463905df-98d5-4148-b625-eeb41751b41d"
      },
      "source": [
        "def my_factorial(n):\n",
        "    if n==1:\n",
        "        return 1\n",
        "    else:\n",
        "        return n * my_factorial(n-1)    \n",
        "print(my_factorial(10))"
      ],
      "execution_count": 7,
      "outputs": [
        {
          "output_type": "stream",
          "text": [
            "3628800\n"
          ],
          "name": "stdout"
        }
      ]
    },
    {
      "cell_type": "markdown",
      "metadata": {
        "id": "Twr3zHh_lg0p"
      },
      "source": [
        "# Python Simple I/O"
      ]
    },
    {
      "cell_type": "code",
      "metadata": {
        "colab": {
          "base_uri": "https://localhost:8080/"
        },
        "id": "KP6hPwP3llxM",
        "outputId": "2be16199-7a93-4cd9-b690-146719f0c4b8"
      },
      "source": [
        "x = input('What is your name? ')\n",
        "\n",
        "print(\"x is {}\".format(type(x)))\n",
        "print(\"Your name is {}\".format(x))"
      ],
      "execution_count": 8,
      "outputs": [
        {
          "output_type": "stream",
          "text": [
            "What is your name? Soora\n",
            "x is <class 'str'>\n",
            "Your name is Soora\n"
          ],
          "name": "stdout"
        }
      ]
    },
    {
      "cell_type": "code",
      "metadata": {
        "colab": {
          "base_uri": "https://localhost:8080/"
        },
        "id": "Zwu2bsp9lxwT",
        "outputId": "126a74b9-0144-4e11-8e27-37004bcf868d"
      },
      "source": [
        "x = input('Enter a real number between -1 and 1: ')\n",
        "y = math.acos(float(x))\n",
        "# acos function is used as the trigonometric function that is equal to the ratio of the side adjacent to an acute angle (in a right-angled triangle) to the hypotenuse.\n",
        "print('acos({}) = {}'.format(x,y))"
      ],
      "execution_count": 10,
      "outputs": [
        {
          "output_type": "stream",
          "text": [
            "Enter a real number between -1 and 1: 0.98\n",
            "acos(0.98) = 0.20033484232311968\n"
          ],
          "name": "stdout"
        }
      ]
    },
    {
      "cell_type": "code",
      "metadata": {
        "colab": {
          "base_uri": "https://localhost:8080/"
        },
        "id": "Mi36_jD0l9GK",
        "outputId": "c208148a-85e2-4d39-b612-0ec87b5a700d"
      },
      "source": [
        "# Add if-else statement on the exercise 3\n",
        "x = input('Enter a real number between -1 and 1: ')\n",
        "x = float(x)\n",
        "if x>=-1 and x<=1:\n",
        "    y = math.acos(x)\n",
        "    print('acos({}) = {}'.format(x,y))\n",
        "else:\n",
        "    print('Out of range')"
      ],
      "execution_count": 12,
      "outputs": [
        {
          "output_type": "stream",
          "text": [
            "Enter a real number between -1 and 1: 2\n",
            "Out of range\n"
          ],
          "name": "stdout"
        }
      ]
    },
    {
      "cell_type": "code",
      "metadata": {
        "colab": {
          "base_uri": "https://localhost:8080/"
        },
        "id": "zbnUcS_OmdT7",
        "outputId": "626f5592-ec68-48c8-9e3d-a4a27a7d1c1d"
      },
      "source": [
        "name = \"John\"\n",
        "msg = \"Hello\"\n",
        "\n",
        "print(msg)\n",
        "print(msg, name)"
      ],
      "execution_count": 13,
      "outputs": [
        {
          "output_type": "stream",
          "text": [
            "Hello\n",
            "Hello John\n"
          ],
          "name": "stdout"
        }
      ]
    },
    {
      "cell_type": "code",
      "metadata": {
        "colab": {
          "base_uri": "https://localhost:8080/"
        },
        "id": "Ku-kPZwvmjxF",
        "outputId": "aac19f23-ccff-46f2-a697-31fb6e44d53d"
      },
      "source": [
        "print('Sample is using the end=\\'\\,\\'')\n",
        "for i in range(10):\n",
        "    print(i, end=',')    \n",
        "print('\\nSample is using the end=\\' \\'')   \n",
        "for i in range(10):    \n",
        "    print(i, end=' ')\n",
        "print('\\nSample is without the end arguments') \n",
        "for i in range(10):    \n",
        "    print(i)"
      ],
      "execution_count": 14,
      "outputs": [
        {
          "output_type": "stream",
          "text": [
            "Sample is using the end='\\,'\n",
            "0,1,2,3,4,5,6,7,8,9,\n",
            "Sample is using the end=' '\n",
            "0 1 2 3 4 5 6 7 8 9 \n",
            "Sample is without the end arguments\n",
            "0\n",
            "1\n",
            "2\n",
            "3\n",
            "4\n",
            "5\n",
            "6\n",
            "7\n",
            "8\n",
            "9\n"
          ],
          "name": "stdout"
        }
      ]
    },
    {
      "cell_type": "markdown",
      "metadata": {
        "id": "RG3iA2oDtNO8"
      },
      "source": [
        "# DateTime Module"
      ]
    },
    {
      "cell_type": "code",
      "metadata": {
        "colab": {
          "base_uri": "https://localhost:8080/"
        },
        "id": "v417GvKdmy3v",
        "outputId": "7bd54ddc-c6f2-4720-c69f-398b66b2fb10"
      },
      "source": [
        "\n",
        "import datetime\n",
        "\n",
        "t = datetime.time(11, 21, 33)\n",
        "print(t)\n",
        "print('hour  :', t.hour)\n",
        "print('minute:', t.minute)\n",
        "print('second:', t.second)\n",
        "print('microsecond:', t.microsecond)\n",
        "print('tzinfo:', t.tzinfo)"
      ],
      "execution_count": 15,
      "outputs": [
        {
          "output_type": "stream",
          "text": [
            "11:21:33\n",
            "hour  : 11\n",
            "minute: 21\n",
            "second: 33\n",
            "microsecond: 0\n",
            "tzinfo: None\n"
          ],
          "name": "stdout"
        }
      ]
    },
    {
      "cell_type": "code",
      "metadata": {
        "colab": {
          "base_uri": "https://localhost:8080/"
        },
        "id": "_D8Dx2venyEe",
        "outputId": "47889815-4e58-4537-a5f0-780f669429b7"
      },
      "source": [
        "import datetime\n",
        "\n",
        "today = datetime.date.today()\n",
        "print(today)\n",
        "print('ctime:', today.ctime())\n",
        "print('tuple:', today.timetuple())\n",
        "print('ordinal:', today.toordinal())\n",
        "print('Year:', today.year)\n",
        "print('Mon :', today.month)\n",
        "print('Day :', today.day)"
      ],
      "execution_count": 16,
      "outputs": [
        {
          "output_type": "stream",
          "text": [
            "2021-04-07\n",
            "ctime: Wed Apr  7 00:00:00 2021\n",
            "tuple: time.struct_time(tm_year=2021, tm_mon=4, tm_mday=7, tm_hour=0, tm_min=0, tm_sec=0, tm_wday=2, tm_yday=97, tm_isdst=-1)\n",
            "ordinal: 737887\n",
            "Year: 2021\n",
            "Mon : 4\n",
            "Day : 7\n"
          ],
          "name": "stdout"
        }
      ]
    },
    {
      "cell_type": "code",
      "metadata": {
        "colab": {
          "base_uri": "https://localhost:8080/"
        },
        "id": "TiVc-RcSoD2o",
        "outputId": "50bfcbab-c299-430f-ba2f-238298bef0b5"
      },
      "source": [
        "import datetime\n",
        "\n",
        "d1 = datetime.date(2013, 3, 12)\n",
        "print('d1:', d1)\n",
        "\n",
        "d2 = d1.replace(year=2015)\n",
        "print('d2:', d2)"
      ],
      "execution_count": 17,
      "outputs": [
        {
          "output_type": "stream",
          "text": [
            "d1: 2013-03-12\n",
            "d2: 2015-03-12\n"
          ],
          "name": "stdout"
        }
      ]
    },
    {
      "cell_type": "code",
      "metadata": {
        "colab": {
          "base_uri": "https://localhost:8080/"
        },
        "id": "L8ob3v6XoSyl",
        "outputId": "f464f927-dd3e-4c09-dd59-aa25d3077845"
      },
      "source": [
        "import datetime\n",
        "day_of_week = {0 : 'Monday',\n",
        "              1: 'Tuesday',\n",
        "              2: 'Wednesday',\n",
        "              3: 'Thursday',\n",
        "              4: 'Friday',\n",
        "              5: 'Saturday',\n",
        "              6: 'Sunday'}\n",
        "# you could also use a list to store the days o the week\n",
        "# and it would work just fine.\n",
        "# days_of_week = ['Mon', 'Tue', 'Wed', 'Thu', 'Fri', 'Sat', 'Sun']\n",
        "\n",
        "print('Today is', day_of_week[datetime.date.today().weekday()])\n",
        "\n",
        "# Assume my birthday value is 10/10/2008\n",
        "my_birthdate = datetime.date(2008,7,9)\n",
        "print('I was born on', day_of_week[my_birthdate.weekday()])\n",
        "\n",
        "# Change the previous birthday year value with 2019\n",
        "t2 = my_birthdate.replace(year=2019)\n",
        "print('and my birthday this year is on a', day_of_week[t2.weekday()])"
      ],
      "execution_count": 19,
      "outputs": [
        {
          "output_type": "stream",
          "text": [
            "Today is Wednesday\n",
            "I was born on Wednesday\n",
            "and my birthday this year is on a Tuesday\n"
          ],
          "name": "stdout"
        }
      ]
    },
    {
      "cell_type": "code",
      "metadata": {
        "colab": {
          "base_uri": "https://localhost:8080/"
        },
        "id": "BePrDycOonuA",
        "outputId": "68234120-2fd0-4069-e605-18fe4f8155db"
      },
      "source": [
        "today = datetime.datetime.today()\n",
        "print(today)\n",
        "\n",
        "tomorrow = today + datetime.timedelta(days=1)  \n",
        "print(tomorrow)"
      ],
      "execution_count": 20,
      "outputs": [
        {
          "output_type": "stream",
          "text": [
            "2021-04-07 18:41:43.475764\n",
            "2021-04-08 18:41:43.475764\n"
          ],
          "name": "stdout"
        }
      ]
    },
    {
      "cell_type": "code",
      "metadata": {
        "colab": {
          "base_uri": "https://localhost:8080/"
        },
        "id": "mRZ52sJhpDbL",
        "outputId": "a6e93cb0-b1fb-4607-fb3c-a0481b772171"
      },
      "source": [
        "import datetime\n",
        "day_of_week = {0 : 'Monday',\n",
        "              1: 'Tuesday',\n",
        "              2: 'Wednesday',\n",
        "              3: 'Thursday',\n",
        "              4: 'Friday',\n",
        "              5: 'Saturday',\n",
        "              6: 'Sunday'}\n",
        "# You could also use a list to store the days o the week\n",
        "# and it would work just fine.\n",
        "# days_of_week = ['Mon', 'Tue', 'Wed', 'Thu', 'Fri', 'Sat', 'Sun']\n",
        "\n",
        "print('Today is', day_of_week[datetime.date.today().weekday()])\n",
        "\n",
        "# Assume my birthday value is 10/10/2008\n",
        "my_birthdate = datetime.date(2008,10,10)\n",
        "print('I was born on', day_of_week[my_birthdate.weekday()])\n",
        "\n",
        "# Change the previous birthday year value with 2019\n",
        "#You need to note that both 2012 and 2016 are leap year, which are 366 days in one year not 365 days.\n",
        "t2 = my_birthdate + datetime.timedelta(days=365)*9 + datetime.timedelta(days=366)*2\n",
        "print('and my birthday this year is on a', day_of_week[t2.weekday()])"
      ],
      "execution_count": 21,
      "outputs": [
        {
          "output_type": "stream",
          "text": [
            "Today is Wednesday\n",
            "I was born on Friday\n",
            "and my birthday this year is on a Thursday\n"
          ],
          "name": "stdout"
        }
      ]
    },
    {
      "cell_type": "code",
      "metadata": {
        "colab": {
          "base_uri": "https://localhost:8080/"
        },
        "id": "kN5EVMu7pmP4",
        "outputId": "c24b9019-c23e-4446-c543-b1a536d66446"
      },
      "source": [
        "today = datetime.datetime.today()\n",
        "print('ISO     :', today)"
      ],
      "execution_count": 22,
      "outputs": [
        {
          "output_type": "stream",
          "text": [
            "ISO     : 2021-04-07 18:47:43.969387\n"
          ],
          "name": "stdout"
        }
      ]
    },
    {
      "cell_type": "code",
      "metadata": {
        "colab": {
          "base_uri": "https://localhost:8080/"
        },
        "id": "eA_H8zUbqhrU",
        "outputId": "a2de2601-9248-4b61-cc88-473029b233fc"
      },
      "source": [
        "str_format = \"%a %b %d %H:%M:%S %Y\"\n",
        "s = today.strftime(str_format)\n",
        "print('strftime:', s)"
      ],
      "execution_count": 23,
      "outputs": [
        {
          "output_type": "stream",
          "text": [
            "strftime: Wed Apr 07 18:47:43 2021\n"
          ],
          "name": "stdout"
        }
      ]
    },
    {
      "cell_type": "code",
      "metadata": {
        "colab": {
          "base_uri": "https://localhost:8080/"
        },
        "id": "EcgrssFKqz9B",
        "outputId": "edc3b571-5096-4a55-e9bd-05a3c95141dd"
      },
      "source": [
        "print(s)\n",
        "\n",
        "d = datetime.datetime.strptime(s, str_format)\n",
        "print(d)\n",
        "print('strptime:', d.strftime(str_format))"
      ],
      "execution_count": 25,
      "outputs": [
        {
          "output_type": "stream",
          "text": [
            "Wed Apr 07 18:47:43 2021\n",
            "2021-04-07 18:47:43\n",
            "strptime: Wed Apr 07 18:47:43 2021\n"
          ],
          "name": "stdout"
        }
      ]
    },
    {
      "cell_type": "code",
      "metadata": {
        "colab": {
          "base_uri": "https://localhost:8080/"
        },
        "id": "oHLACx_4q7D6",
        "outputId": "65eb7e37-3af5-41a4-fb4e-ddb27f5b932d"
      },
      "source": [
        "# Define a string variable \"s\", its value is 07/03/2017\n",
        "s = \"07/03/2017\"\n",
        "# Define the string format\n",
        "str_format = \"%m/%d/%Y\"\n",
        "\n",
        "\n",
        "d = datetime.datetime.strptime(s, str_format)\n",
        "print(d)"
      ],
      "execution_count": 26,
      "outputs": [
        {
          "output_type": "stream",
          "text": [
            "2017-07-03 00:00:00\n"
          ],
          "name": "stdout"
        }
      ]
    },
    {
      "cell_type": "code",
      "metadata": {
        "colab": {
          "base_uri": "https://localhost:8080/"
        },
        "id": "hU-s1lOorWTp",
        "outputId": "071fef68-e97d-470c-ed88-d8cda53fbd49"
      },
      "source": [
        "s = '7/30/2017 - 12:13'\n",
        "str_format = \"%m/%d/%Y - %H:%M\"\n",
        "t = datetime.datetime.strptime(s, str_format)\n",
        "print(t)"
      ],
      "execution_count": 27,
      "outputs": [
        {
          "output_type": "stream",
          "text": [
            "2017-07-30 12:13:00\n"
          ],
          "name": "stdout"
        }
      ]
    },
    {
      "cell_type": "markdown",
      "metadata": {
        "id": "an4dE3tGtXW7"
      },
      "source": [
        "# Numpy Module"
      ]
    },
    {
      "cell_type": "code",
      "metadata": {
        "id": "apEgYYbut7lZ"
      },
      "source": [
        "import numpy as np"
      ],
      "execution_count": 32,
      "outputs": []
    },
    {
      "cell_type": "code",
      "metadata": {
        "colab": {
          "base_uri": "https://localhost:8080/"
        },
        "id": "HE7vhpH6tdCS",
        "outputId": "4b175d88-6073-4cae-a4af-908beb0f6069"
      },
      "source": [
        "x = [1, 7, 3, 4, 0, -5]\n",
        "print(x)"
      ],
      "execution_count": 29,
      "outputs": [
        {
          "output_type": "stream",
          "text": [
            "[1, 7, 3, 4, 0, -5]\n"
          ],
          "name": "stdout"
        }
      ]
    },
    {
      "cell_type": "code",
      "metadata": {
        "colab": {
          "base_uri": "https://localhost:8080/"
        },
        "id": "LPt9t-wJtyLI",
        "outputId": "d5ba7e5c-1039-4bdf-8982-fe84e981d026"
      },
      "source": [
        "y = np.array(x)\n",
        "type(y)"
      ],
      "execution_count": 33,
      "outputs": [
        {
          "output_type": "execute_result",
          "data": {
            "text/plain": [
              "numpy.ndarray"
            ]
          },
          "metadata": {
            "tags": []
          },
          "execution_count": 33
        }
      ]
    },
    {
      "cell_type": "code",
      "metadata": {
        "colab": {
          "base_uri": "https://localhost:8080/"
        },
        "id": "iw0bWQ0EuAKw",
        "outputId": "75ad44cf-1983-4ff1-f1a8-a3bd1abd8816"
      },
      "source": [
        "range(5)"
      ],
      "execution_count": 34,
      "outputs": [
        {
          "output_type": "execute_result",
          "data": {
            "text/plain": [
              "range(0, 5)"
            ]
          },
          "metadata": {
            "tags": []
          },
          "execution_count": 34
        }
      ]
    },
    {
      "cell_type": "code",
      "metadata": {
        "colab": {
          "base_uri": "https://localhost:8080/"
        },
        "id": "flzXjKA8uEzL",
        "outputId": "12bc4d50-8b47-446f-cf9f-f13d3d9f5bcd"
      },
      "source": [
        "print(np.array(range(5)))"
      ],
      "execution_count": 35,
      "outputs": [
        {
          "output_type": "stream",
          "text": [
            "[0 1 2 3 4]\n"
          ],
          "name": "stdout"
        }
      ]
    },
    {
      "cell_type": "code",
      "metadata": {
        "colab": {
          "base_uri": "https://localhost:8080/"
        },
        "id": "1s-F0l1buIx3",
        "outputId": "5c23b0f6-e109-4c8a-ebcc-e71631d9a5b7"
      },
      "source": [
        "print(np.arange(2, 3, 0.2))  # Why is there no value 3.0 in the output?"
      ],
      "execution_count": 36,
      "outputs": [
        {
          "output_type": "stream",
          "text": [
            "[2.  2.2 2.4 2.6 2.8]\n"
          ],
          "name": "stdout"
        }
      ]
    },
    {
      "cell_type": "code",
      "metadata": {
        "colab": {
          "base_uri": "https://localhost:8080/"
        },
        "id": "5S5emonMuWxL",
        "outputId": "b240391e-cbf0-4edb-9963-a8778b33b179"
      },
      "source": [
        "print(np.linspace(2, 3, 5))    # returns numbers spaced evenly on a linear scale, both endspoints are included"
      ],
      "execution_count": 42,
      "outputs": [
        {
          "output_type": "stream",
          "text": [
            "[2.   2.25 2.5  2.75 3.  ]\n"
          ],
          "name": "stdout"
        }
      ]
    },
    {
      "cell_type": "code",
      "metadata": {
        "colab": {
          "base_uri": "https://localhost:8080/"
        },
        "id": "dZW_GfAFuw4w",
        "outputId": "b9590a8b-a016-4946-9e2e-824969ef1d75"
      },
      "source": [
        "print(np.logspace(2, 3, 5))   # returns numbers spaced evenly on a log scale"
      ],
      "execution_count": 38,
      "outputs": [
        {
          "output_type": "stream",
          "text": [
            "[ 100.          177.827941    316.22776602  562.34132519 1000.        ]\n"
          ],
          "name": "stdout"
        }
      ]
    },
    {
      "cell_type": "code",
      "metadata": {
        "id": "RI1N1S8au3a4"
      },
      "source": [
        "np.logspace?"
      ],
      "execution_count": 43,
      "outputs": []
    },
    {
      "cell_type": "code",
      "metadata": {
        "colab": {
          "base_uri": "https://localhost:8080/"
        },
        "id": "IKNoACLVvZMi",
        "outputId": "e03f5b93-ba16-4919-fdff-c07e025d98a3"
      },
      "source": [
        "print(np.zeros(5))"
      ],
      "execution_count": 44,
      "outputs": [
        {
          "output_type": "stream",
          "text": [
            "[0. 0. 0. 0. 0.]\n"
          ],
          "name": "stdout"
        }
      ]
    },
    {
      "cell_type": "code",
      "metadata": {
        "colab": {
          "base_uri": "https://localhost:8080/"
        },
        "id": "qtIctqfxvfLT",
        "outputId": "3cabae4f-e3db-48a2-b8a7-a37d76aa3ef7"
      },
      "source": [
        "print(\"The 1st sample is\",np.ones(5, dtype=int))   # you can specify the data type, default is float\n",
        "print(\"The 2nd sample is \",np.ones(5, dtype=float)) \n",
        "print(\"The 3rd sample is \",np.ones((5,5), dtype=int)) \n",
        "print(\"The 4th sample is \",np.ones((5,5,5), dtype=int))"
      ],
      "execution_count": 45,
      "outputs": [
        {
          "output_type": "stream",
          "text": [
            "The 1st sample is [1 1 1 1 1]\n",
            "The 2nd sample is  [1. 1. 1. 1. 1.]\n",
            "The 3rd sample is  [[1 1 1 1 1]\n",
            " [1 1 1 1 1]\n",
            " [1 1 1 1 1]\n",
            " [1 1 1 1 1]\n",
            " [1 1 1 1 1]]\n",
            "The 4th sample is  [[[1 1 1 1 1]\n",
            "  [1 1 1 1 1]\n",
            "  [1 1 1 1 1]\n",
            "  [1 1 1 1 1]\n",
            "  [1 1 1 1 1]]\n",
            "\n",
            " [[1 1 1 1 1]\n",
            "  [1 1 1 1 1]\n",
            "  [1 1 1 1 1]\n",
            "  [1 1 1 1 1]\n",
            "  [1 1 1 1 1]]\n",
            "\n",
            " [[1 1 1 1 1]\n",
            "  [1 1 1 1 1]\n",
            "  [1 1 1 1 1]\n",
            "  [1 1 1 1 1]\n",
            "  [1 1 1 1 1]]\n",
            "\n",
            " [[1 1 1 1 1]\n",
            "  [1 1 1 1 1]\n",
            "  [1 1 1 1 1]\n",
            "  [1 1 1 1 1]\n",
            "  [1 1 1 1 1]]\n",
            "\n",
            " [[1 1 1 1 1]\n",
            "  [1 1 1 1 1]\n",
            "  [1 1 1 1 1]\n",
            "  [1 1 1 1 1]\n",
            "  [1 1 1 1 1]]]\n"
          ],
          "name": "stdout"
        }
      ]
    },
    {
      "cell_type": "code",
      "metadata": {
        "colab": {
          "base_uri": "https://localhost:8080/",
          "height": 129
        },
        "id": "T_f-7yUkvlZv",
        "outputId": "016f41a7-1e00-4aa6-9242-bec9934b1372"
      },
      "source": [
        "np.ones? # You can use this command to learn what is the function of np.ones"
      ],
      "execution_count": 48,
      "outputs": [
        {
          "output_type": "error",
          "ename": "SyntaxError",
          "evalue": "ignored",
          "traceback": [
            "\u001b[0;36m  File \u001b[0;32m\"<ipython-input-48-04b9831ca7d1>\"\u001b[0;36m, line \u001b[0;32m1\u001b[0m\n\u001b[0;31m    np.ones? # You can use this command to learn what is the function of np.ones\u001b[0m\n\u001b[0m           ^\u001b[0m\n\u001b[0;31mSyntaxError\u001b[0m\u001b[0;31m:\u001b[0m invalid syntax\n"
          ]
        }
      ]
    },
    {
      "cell_type": "code",
      "metadata": {
        "colab": {
          "base_uri": "https://localhost:8080/"
        },
        "id": "XL6xnH0vv0O4",
        "outputId": "6a2927fb-5150-4a7e-fca0-551cd8dbd2d7"
      },
      "source": [
        "x, y = np.mgrid[0:5, 0:3]\n",
        "\n",
        "print(x)\n",
        "print(y)"
      ],
      "execution_count": 49,
      "outputs": [
        {
          "output_type": "stream",
          "text": [
            "[[0 0 0]\n",
            " [1 1 1]\n",
            " [2 2 2]\n",
            " [3 3 3]\n",
            " [4 4 4]]\n",
            "[[0 1 2]\n",
            " [0 1 2]\n",
            " [0 1 2]\n",
            " [0 1 2]\n",
            " [0 1 2]]\n"
          ],
          "name": "stdout"
        }
      ]
    },
    {
      "cell_type": "code",
      "metadata": {
        "id": "dBkjRK5kwF61"
      },
      "source": [
        "np.mgrid?"
      ],
      "execution_count": 50,
      "outputs": []
    },
    {
      "cell_type": "code",
      "metadata": {
        "id": "SyvErsMDwOxk"
      },
      "source": [
        "y = np.array([3, 0, -4, 6, 12, 2])"
      ],
      "execution_count": 51,
      "outputs": []
    },
    {
      "cell_type": "code",
      "metadata": {
        "colab": {
          "base_uri": "https://localhost:8080/"
        },
        "id": "z_epm-Fxwi-j",
        "outputId": "36227b76-68b2-4c1d-8118-efa3377dad6c"
      },
      "source": [
        "print(\"number of dimensions:\\t\", y.ndim)        \n",
        "print(\"dimension of the array:\", y.shape)       \n",
        "print(\"numerical data type:\\t\", y.dtype)\n",
        "print(\"maximum of the array:\\t\", y.max())       \n",
        "print(\"index of the array max:\", y.argmax())    \n",
        "print(\"mean of the array:\\t\", y.mean())"
      ],
      "execution_count": 52,
      "outputs": [
        {
          "output_type": "stream",
          "text": [
            "number of dimensions:\t 1\n",
            "dimension of the array: (6,)\n",
            "numerical data type:\t int64\n",
            "maximum of the array:\t 12\n",
            "index of the array max: 4\n",
            "mean of the array:\t 3.1666666666666665\n"
          ],
          "name": "stdout"
        }
      ]
    },
    {
      "cell_type": "code",
      "metadata": {
        "colab": {
          "base_uri": "https://localhost:8080/"
        },
        "id": "oL_XW4-UwmoM",
        "outputId": "fa8515c3-38b9-4418-b5dd-8321f844d593"
      },
      "source": [
        "x = [[1, 2, 10, 20], [3, 4, 30, 40]]\n",
        "y = np.array(x)\n",
        "print(y)\n",
        "print()\n",
        "print(y.ndim, y.shape)"
      ],
      "execution_count": 53,
      "outputs": [
        {
          "output_type": "stream",
          "text": [
            "[[ 1  2 10 20]\n",
            " [ 3  4 30 40]]\n",
            "\n",
            "2 (2, 4)\n"
          ],
          "name": "stdout"
        }
      ]
    },
    {
      "cell_type": "code",
      "metadata": {
        "id": "frLUgwFdxGXH"
      },
      "source": [
        "x = np.ones((3, 5), dtype='int')"
      ],
      "execution_count": 54,
      "outputs": []
    },
    {
      "cell_type": "code",
      "metadata": {
        "colab": {
          "base_uri": "https://localhost:8080/"
        },
        "id": "3Ul9lk5ZxJmG",
        "outputId": "98b63737-3c45-49e0-eafd-10d7af71d89c"
      },
      "source": [
        "print(x)\n",
        "print()\n",
        "print(x.ndim, x.shape)"
      ],
      "execution_count": 55,
      "outputs": [
        {
          "output_type": "stream",
          "text": [
            "[[1 1 1 1 1]\n",
            " [1 1 1 1 1]\n",
            " [1 1 1 1 1]]\n",
            "\n",
            "2 (3, 5)\n"
          ],
          "name": "stdout"
        }
      ]
    },
    {
      "cell_type": "code",
      "metadata": {
        "colab": {
          "base_uri": "https://localhost:8080/"
        },
        "id": "Ru3FqpBSxTmD",
        "outputId": "9f584379-a601-4869-bdab-12356769d75a"
      },
      "source": [
        "np.diag([1, 2, 3])"
      ],
      "execution_count": 56,
      "outputs": [
        {
          "output_type": "execute_result",
          "data": {
            "text/plain": [
              "array([[1, 0, 0],\n",
              "       [0, 2, 0],\n",
              "       [0, 0, 3]])"
            ]
          },
          "metadata": {
            "tags": []
          },
          "execution_count": 56
        }
      ]
    },
    {
      "cell_type": "code",
      "metadata": {
        "colab": {
          "base_uri": "https://localhost:8080/"
        },
        "id": "7JpHgC_ax-x-",
        "outputId": "2309630d-45aa-4680-bee1-7cf6a14ac03f"
      },
      "source": [
        "x = np.array([2, 8, -2, 4, 3])\n",
        "print(x[3])"
      ],
      "execution_count": 57,
      "outputs": [
        {
          "output_type": "stream",
          "text": [
            "4\n"
          ],
          "name": "stdout"
        }
      ]
    },
    {
      "cell_type": "code",
      "metadata": {
        "colab": {
          "base_uri": "https://localhost:8080/"
        },
        "id": "1JcCMSdjyBVj",
        "outputId": "cebe0db1-3621-4df6-f9cd-588e61e1929a"
      },
      "source": [
        "x = np.array([[7, 6, 8, 6, 4],\n",
        "              [4, 7, -2, 0, 9]])\n",
        "              \n",
        "print(x[1, 3])"
      ],
      "execution_count": 59,
      "outputs": [
        {
          "output_type": "stream",
          "text": [
            "0\n"
          ],
          "name": "stdout"
        }
      ]
    },
    {
      "cell_type": "code",
      "metadata": {
        "colab": {
          "base_uri": "https://localhost:8080/"
        },
        "id": "Dl9VJiuqyMdb",
        "outputId": "3d56b73c-21cb-4d7e-f8be-0f5d355e57dc"
      },
      "source": [
        "print(x[1, :])      # or x[1]"
      ],
      "execution_count": 60,
      "outputs": [
        {
          "output_type": "stream",
          "text": [
            "[ 4  7 -2  0  9]\n"
          ],
          "name": "stdout"
        }
      ]
    },
    {
      "cell_type": "code",
      "metadata": {
        "colab": {
          "base_uri": "https://localhost:8080/"
        },
        "id": "uHZkgn8YyU8L",
        "outputId": "bbeb51c7-ef83-46eb-c2f8-f966ba5db175"
      },
      "source": [
        "print(x[:, 3])"
      ],
      "execution_count": 61,
      "outputs": [
        {
          "output_type": "stream",
          "text": [
            "[6 0]\n"
          ],
          "name": "stdout"
        }
      ]
    },
    {
      "cell_type": "code",
      "metadata": {
        "colab": {
          "base_uri": "https://localhost:8080/"
        },
        "id": "bQJ2pW9myW7H",
        "outputId": "05900981-77e9-42eb-f999-e891f51d46a1"
      },
      "source": [
        "x = np.array([2, 8, -2, 4, 3, 9, 0])\n",
        "\n",
        "idx1 = [1, 3, 4]        # list\n",
        "idx2 = np.array(idx1)   # array\n",
        "\n",
        "print(x[idx1], x[idx2])\n",
        "x[idx2] = 0\n",
        "print(x)"
      ],
      "execution_count": 62,
      "outputs": [
        {
          "output_type": "stream",
          "text": [
            "[8 4 3] [8 4 3]\n",
            "[ 2  0 -2  0  0  9  0]\n"
          ],
          "name": "stdout"
        }
      ]
    },
    {
      "cell_type": "code",
      "metadata": {
        "id": "kX2pzRM8zYRb"
      },
      "source": [
        "x = np.array([2, 8, -2, 4, 3, 9, 0])"
      ],
      "execution_count": 63,
      "outputs": []
    },
    {
      "cell_type": "code",
      "metadata": {
        "id": "LoqWu9YszZZV"
      },
      "source": [
        "mask = np.array([False, True, True, False, False, True, False])"
      ],
      "execution_count": 64,
      "outputs": []
    },
    {
      "cell_type": "code",
      "metadata": {
        "colab": {
          "base_uri": "https://localhost:8080/"
        },
        "id": "Qu6w4Wjvzc-V",
        "outputId": "21bd72e2-6b4f-4ce1-dfcc-eabb0eeba07b"
      },
      "source": [
        "x[mask]"
      ],
      "execution_count": 65,
      "outputs": [
        {
          "output_type": "execute_result",
          "data": {
            "text/plain": [
              "array([ 8, -2,  9])"
            ]
          },
          "metadata": {
            "tags": []
          },
          "execution_count": 65
        }
      ]
    },
    {
      "cell_type": "code",
      "metadata": {
        "colab": {
          "base_uri": "https://localhost:8080/"
        },
        "id": "QafIRRg2zlPl",
        "outputId": "a129384f-89b8-4fb0-b9ce-90a06d38484a"
      },
      "source": [
        "x = np.array([2, 8, -2, 4, 3, 9, 0])\n",
        "mask = (x>=2) * (x<9)\n",
        "x[mask]"
      ],
      "execution_count": 66,
      "outputs": [
        {
          "output_type": "execute_result",
          "data": {
            "text/plain": [
              "array([2, 8, 4, 3])"
            ]
          },
          "metadata": {
            "tags": []
          },
          "execution_count": 66
        }
      ]
    },
    {
      "cell_type": "code",
      "metadata": {
        "colab": {
          "base_uri": "https://localhost:8080/"
        },
        "id": "Lo9NrK0Wz4Ln",
        "outputId": "7ce23b79-cf07-487c-80e8-cfdec5ae0cd0"
      },
      "source": [
        "x = np.array([2, 8, -2, 4, 3, 9, 0])\n",
        "\n",
        "print(x[3:])    # slicing\n",
        "print(x[3:7:2])  # slicing with a specified step"
      ],
      "execution_count": 67,
      "outputs": [
        {
          "output_type": "stream",
          "text": [
            "[4 3 9 0]\n",
            "[4 9]\n"
          ],
          "name": "stdout"
        }
      ]
    },
    {
      "cell_type": "code",
      "metadata": {
        "colab": {
          "base_uri": "https://localhost:8080/"
        },
        "id": "HSrJIItU0IIF",
        "outputId": "13f4d378-e9ad-45f5-f4a8-2cc09dbd1384"
      },
      "source": [
        "x = np.array([[7, 6, 8, 6, 4, 3],\n",
        "              [4, 7, 0, 5, 9, 5],\n",
        "              [7, 3, 6, 3, 5, 1]])\n",
        "              \n",
        "\n",
        "print(x[1, 1:4])\n",
        "print()\n",
        "print(x[:2, 1::2])    # rows zero up to 2, cols 1 up to end with a step=2"
      ],
      "execution_count": 68,
      "outputs": [
        {
          "output_type": "stream",
          "text": [
            "[7 0 5]\n",
            "\n",
            "[[6 6 3]\n",
            " [7 5 5]]\n"
          ],
          "name": "stdout"
        }
      ]
    },
    {
      "cell_type": "code",
      "metadata": {
        "colab": {
          "base_uri": "https://localhost:8080/"
        },
        "id": "8FDnNC8Q1Khi",
        "outputId": "22af2086-8045-4198-b2bd-6cb8fea7c113"
      },
      "source": [
        "a = np.arange(0, 50, 7)\n",
        "print(a)\n",
        "for item in a:\n",
        "    print(item,)"
      ],
      "execution_count": 69,
      "outputs": [
        {
          "output_type": "stream",
          "text": [
            "[ 0  7 14 21 28 35 42 49]\n",
            "0\n",
            "7\n",
            "14\n",
            "21\n",
            "28\n",
            "35\n",
            "42\n",
            "49\n"
          ],
          "name": "stdout"
        }
      ]
    },
    {
      "cell_type": "code",
      "metadata": {
        "colab": {
          "base_uri": "https://localhost:8080/"
        },
        "id": "B17IINMk1cMM",
        "outputId": "9ad3a532-3893-4f3a-9050-232cde0904c8"
      },
      "source": [
        "a = np.arange(0, 50, 7)\n",
        "for i in range(a.shape[0]):\n",
        "    print(a[i],)"
      ],
      "execution_count": 70,
      "outputs": [
        {
          "output_type": "stream",
          "text": [
            "0\n",
            "7\n",
            "14\n",
            "21\n",
            "28\n",
            "35\n",
            "42\n",
            "49\n"
          ],
          "name": "stdout"
        }
      ]
    },
    {
      "cell_type": "code",
      "metadata": {
        "colab": {
          "base_uri": "https://localhost:8080/"
        },
        "id": "mVCut7yb1o1G",
        "outputId": "60518466-08cd-4a8b-a45c-2384964452de"
      },
      "source": [
        "x = [1, 2, 3]\n",
        "y = x\n",
        "print(x, y)"
      ],
      "execution_count": 71,
      "outputs": [
        {
          "output_type": "stream",
          "text": [
            "[1, 2, 3] [1, 2, 3]\n"
          ],
          "name": "stdout"
        }
      ]
    },
    {
      "cell_type": "code",
      "metadata": {
        "colab": {
          "base_uri": "https://localhost:8080/"
        },
        "id": "CWYojQMi1rIS",
        "outputId": "2df6577b-4cae-4353-a1d6-6c1840fc21a2"
      },
      "source": [
        "y[0] = 0       # now we alter an element of y\n",
        "print(x, y)     # note that x has changed as well"
      ],
      "execution_count": 72,
      "outputs": [
        {
          "output_type": "stream",
          "text": [
            "[0, 2, 3] [0, 2, 3]\n"
          ],
          "name": "stdout"
        }
      ]
    },
    {
      "cell_type": "code",
      "metadata": {
        "colab": {
          "base_uri": "https://localhost:8080/"
        },
        "id": "yHiMSsWR2P6I",
        "outputId": "e1823759-cfcb-4967-ceec-d2eb5bab6e0c"
      },
      "source": [
        "x = np.array([1, 2, 3])\n",
        "y = x\n",
        "\n",
        "y[0] = 0       # now we alter an element of y\n",
        "print(x, y)     # note that x has changed as well"
      ],
      "execution_count": 73,
      "outputs": [
        {
          "output_type": "stream",
          "text": [
            "[0 2 3] [0 2 3]\n"
          ],
          "name": "stdout"
        }
      ]
    },
    {
      "cell_type": "code",
      "metadata": {
        "colab": {
          "base_uri": "https://localhost:8080/"
        },
        "id": "cCJYlsDN2WQo",
        "outputId": "95cbb4ed-7c52-405a-d321-df311e174a48"
      },
      "source": [
        "x = np.array([1, 2, 3])\n",
        "y = x.copy()  # or np.copy(x)\n",
        "y[0] = 0\n",
        "\n",
        "print(x, y)"
      ],
      "execution_count": 74,
      "outputs": [
        {
          "output_type": "stream",
          "text": [
            "[1 2 3] [0 2 3]\n"
          ],
          "name": "stdout"
        }
      ]
    },
    {
      "cell_type": "code",
      "metadata": {
        "colab": {
          "base_uri": "https://localhost:8080/"
        },
        "id": "KxXDg1nP2d6F",
        "outputId": "0411365b-ecba-447a-bf00-6bdb8c2a17b8"
      },
      "source": [
        "x1 = np.arange(6)\n",
        "x2 = x1.reshape((2, 3))    # or np.reshape(x1, (2, 3))\n",
        "\n",
        "print(x1)\n",
        "print()\n",
        "print(x2)"
      ],
      "execution_count": 75,
      "outputs": [
        {
          "output_type": "stream",
          "text": [
            "[0 1 2 3 4 5]\n",
            "\n",
            "[[0 1 2]\n",
            " [3 4 5]]\n"
          ],
          "name": "stdout"
        }
      ]
    },
    {
      "cell_type": "code",
      "metadata": {
        "colab": {
          "base_uri": "https://localhost:8080/"
        },
        "id": "9kCkUvt22j5I",
        "outputId": "192c84d7-a00c-44da-e50c-45cc1d5f06a5"
      },
      "source": [
        "x1 = np.arange(5)\n",
        "x2 = x1.astype(float)\n",
        "\n",
        "print(type(x1), x1)\n",
        "print(type(x2), x2)"
      ],
      "execution_count": 76,
      "outputs": [
        {
          "output_type": "stream",
          "text": [
            "<class 'numpy.ndarray'> [0 1 2 3 4]\n",
            "<class 'numpy.ndarray'> [0. 1. 2. 3. 4.]\n"
          ],
          "name": "stdout"
        }
      ]
    },
    {
      "cell_type": "code",
      "metadata": {
        "colab": {
          "base_uri": "https://localhost:8080/"
        },
        "id": "VDIKDCIA2uJr",
        "outputId": "a831df31-4037-47d3-8eac-fc81004188b7"
      },
      "source": [
        "x1 = np.random.randint(5, size=(2, 4))\n",
        "x2 = x1.T\n",
        "\n",
        "print(x1)\n",
        "print()\n",
        "print(x2)"
      ],
      "execution_count": 77,
      "outputs": [
        {
          "output_type": "stream",
          "text": [
            "[[4 1 1 1]\n",
            " [4 2 4 4]]\n",
            "\n",
            "[[4 4]\n",
            " [1 2]\n",
            " [1 4]\n",
            " [1 4]]\n"
          ],
          "name": "stdout"
        }
      ]
    },
    {
      "cell_type": "code",
      "metadata": {
        "id": "uy6n8rfL3Cg8"
      },
      "source": [
        "x1 = np.array([[2, 3, 5, 7], \n",
        "               [2, 4, 6, 8]], dtype=float)\n",
        "x2 = np.array([[6, 5, 4, 3], \n",
        "               [9, 7, 5, 3]], dtype=float)"
      ],
      "execution_count": 78,
      "outputs": []
    },
    {
      "cell_type": "code",
      "metadata": {
        "colab": {
          "base_uri": "https://localhost:8080/"
        },
        "id": "pEYem67W3HpE",
        "outputId": "65ecf878-d68a-431b-a661-e49ecad40f1e"
      },
      "source": [
        "print(x1)\n",
        "print()\n",
        "print(x2)"
      ],
      "execution_count": 79,
      "outputs": [
        {
          "output_type": "stream",
          "text": [
            "[[2. 3. 5. 7.]\n",
            " [2. 4. 6. 8.]]\n",
            "\n",
            "[[6. 5. 4. 3.]\n",
            " [9. 7. 5. 3.]]\n"
          ],
          "name": "stdout"
        }
      ]
    },
    {
      "cell_type": "code",
      "metadata": {
        "colab": {
          "base_uri": "https://localhost:8080/"
        },
        "id": "7o9eupBi3Lia",
        "outputId": "8c6fc4d4-4e76-427c-e056-232980d0c370"
      },
      "source": [
        "print(x1 + x2)"
      ],
      "execution_count": 80,
      "outputs": [
        {
          "output_type": "stream",
          "text": [
            "[[ 8.  8.  9. 10.]\n",
            " [11. 11. 11. 11.]]\n"
          ],
          "name": "stdout"
        }
      ]
    },
    {
      "cell_type": "code",
      "metadata": {
        "colab": {
          "base_uri": "https://localhost:8080/"
        },
        "id": "vjOHH_CD3OkE",
        "outputId": "88f95e78-3326-479c-aebe-943421d7f0b0"
      },
      "source": [
        "print(x1 - x2)"
      ],
      "execution_count": 81,
      "outputs": [
        {
          "output_type": "stream",
          "text": [
            "[[-4. -2.  1.  4.]\n",
            " [-7. -3.  1.  5.]]\n"
          ],
          "name": "stdout"
        }
      ]
    },
    {
      "cell_type": "code",
      "metadata": {
        "colab": {
          "base_uri": "https://localhost:8080/"
        },
        "id": "NM7e3iuG3WZN",
        "outputId": "760d7c66-a9e7-4013-a562-5f54a7ea94fb"
      },
      "source": [
        "print(x1 * x2)"
      ],
      "execution_count": 82,
      "outputs": [
        {
          "output_type": "stream",
          "text": [
            "[[12. 15. 20. 21.]\n",
            " [18. 28. 30. 24.]]\n"
          ],
          "name": "stdout"
        }
      ]
    },
    {
      "cell_type": "code",
      "metadata": {
        "colab": {
          "base_uri": "https://localhost:8080/"
        },
        "id": "jAqkLOu63Ytt",
        "outputId": "dcd7d5b9-d525-45d2-a91c-09b8b96ffeea"
      },
      "source": [
        "print(x1 / x2)"
      ],
      "execution_count": 83,
      "outputs": [
        {
          "output_type": "stream",
          "text": [
            "[[0.33333333 0.6        1.25       2.33333333]\n",
            " [0.22222222 0.57142857 1.2        2.66666667]]\n"
          ],
          "name": "stdout"
        }
      ]
    },
    {
      "cell_type": "code",
      "metadata": {
        "colab": {
          "base_uri": "https://localhost:8080/"
        },
        "id": "i6QQ56nT3kfB",
        "outputId": "b03c30b5-a665-4b97-e2fe-4b9168e4a9f6"
      },
      "source": [
        "print(3 + x1)"
      ],
      "execution_count": 84,
      "outputs": [
        {
          "output_type": "stream",
          "text": [
            "[[ 5.  6.  8. 10.]\n",
            " [ 5.  7.  9. 11.]]\n"
          ],
          "name": "stdout"
        }
      ]
    },
    {
      "cell_type": "code",
      "metadata": {
        "colab": {
          "base_uri": "https://localhost:8080/"
        },
        "id": "MmFNiK-F3rQN",
        "outputId": "1704010e-1f5e-46f7-9461-52bf9cc70a39"
      },
      "source": [
        "print(3 * x1)"
      ],
      "execution_count": 85,
      "outputs": [
        {
          "output_type": "stream",
          "text": [
            "[[ 6.  9. 15. 21.]\n",
            " [ 6. 12. 18. 24.]]\n"
          ],
          "name": "stdout"
        }
      ]
    },
    {
      "cell_type": "code",
      "metadata": {
        "colab": {
          "base_uri": "https://localhost:8080/"
        },
        "id": "mPihCr123uay",
        "outputId": "3fcbaeb6-a47a-4102-e617-a7e1c8d35306"
      },
      "source": [
        "print(3 / x1)"
      ],
      "execution_count": 86,
      "outputs": [
        {
          "output_type": "stream",
          "text": [
            "[[1.5        1.         0.6        0.42857143]\n",
            " [1.5        0.75       0.5        0.375     ]]\n"
          ],
          "name": "stdout"
        }
      ]
    },
    {
      "cell_type": "code",
      "metadata": {
        "colab": {
          "base_uri": "https://localhost:8080/"
        },
        "id": "nsGCkv_13zWG",
        "outputId": "a7aa5e8c-5197-460e-946f-67ed12050c30"
      },
      "source": [
        "x1 = np.array([2, 3, 5, 7])\n",
        "x2 = np.array([2, 4, 6, 7])\n",
        "y = x1<x2\n",
        "\n",
        "print( y, y.dtype)"
      ],
      "execution_count": 87,
      "outputs": [
        {
          "output_type": "stream",
          "text": [
            "[False  True  True False] bool\n"
          ],
          "name": "stdout"
        }
      ]
    },
    {
      "cell_type": "code",
      "metadata": {
        "colab": {
          "base_uri": "https://localhost:8080/"
        },
        "id": "GaPRLZig4Gnv",
        "outputId": "def746b4-1de8-44e5-9862-f607f8014fa2"
      },
      "source": [
        "print (y.all())\n",
        "print (y.any())"
      ],
      "execution_count": 88,
      "outputs": [
        {
          "output_type": "stream",
          "text": [
            "False\n",
            "True\n"
          ],
          "name": "stdout"
        }
      ]
    },
    {
      "cell_type": "code",
      "metadata": {
        "colab": {
          "base_uri": "https://localhost:8080/"
        },
        "id": "KSK3jTKQ4jQK",
        "outputId": "737f61f0-05bb-4d93-c575-0e7e06ccbe69"
      },
      "source": [
        "print( np.random.rand())"
      ],
      "execution_count": 89,
      "outputs": [
        {
          "output_type": "stream",
          "text": [
            "0.8726584611284698\n"
          ],
          "name": "stdout"
        }
      ]
    },
    {
      "cell_type": "code",
      "metadata": {
        "colab": {
          "base_uri": "https://localhost:8080/"
        },
        "id": "GnfhQbkU4n7p",
        "outputId": "f67c40d5-76d0-4d12-bef8-b1bdf5a1d528"
      },
      "source": [
        "# 2x5 random array drawn from standard normal distribution\n",
        "print( np.random.random([2, 5]))"
      ],
      "execution_count": 90,
      "outputs": [
        {
          "output_type": "stream",
          "text": [
            "[[0.57290148 0.53653892 0.60125521 0.57190328 0.54515206]\n",
            " [0.07347023 0.61003739 0.08543369 0.4222546  0.09071287]]\n"
          ],
          "name": "stdout"
        }
      ]
    },
    {
      "cell_type": "code",
      "metadata": {
        "colab": {
          "base_uri": "https://localhost:8080/"
        },
        "id": "Ixc7ioA74rz2",
        "outputId": "5fee5008-86ea-4162-df7e-23cc949ebb55"
      },
      "source": [
        "# 2x5 random array drawn from standard normal distribution\n",
        "print (np.random.rand(2, 5))"
      ],
      "execution_count": 91,
      "outputs": [
        {
          "output_type": "stream",
          "text": [
            "[[0.37817096 0.03116489 0.31140673 0.10619673 0.17503182]\n",
            " [0.39064332 0.94881031 0.14797486 0.95580852 0.86656501]]\n"
          ],
          "name": "stdout"
        }
      ]
    },
    {
      "cell_type": "code",
      "metadata": {
        "colab": {
          "base_uri": "https://localhost:8080/"
        },
        "id": "COG2x3QZ4yg3",
        "outputId": "fba9bb8b-9cfe-4432-a779-b26405bcb4a4"
      },
      "source": [
        "# 2x5 random array drawn from a uniform distribution on {0, 1, 2, ..., 9}\n",
        "print (np.random.randint(10, size=[2, 5]))"
      ],
      "execution_count": 92,
      "outputs": [
        {
          "output_type": "stream",
          "text": [
            "[[2 8 5 3 8]\n",
            " [7 8 8 1 1]]\n"
          ],
          "name": "stdout"
        }
      ]
    },
    {
      "cell_type": "code",
      "metadata": {
        "colab": {
          "base_uri": "https://localhost:8080/"
        },
        "id": "V_6hyMKg4_p4",
        "outputId": "c59c2a52-c8b4-49eb-8abd-4a635812dbec"
      },
      "source": [
        "for i in range(5):\n",
        "    print (np.random.random(),)"
      ],
      "execution_count": 93,
      "outputs": [
        {
          "output_type": "stream",
          "text": [
            "0.5460911366456651\n",
            "0.31088480114301564\n",
            "0.581082648972037\n",
            "0.7900992298629113\n",
            "0.18849893752821767\n"
          ],
          "name": "stdout"
        }
      ]
    },
    {
      "cell_type": "code",
      "metadata": {
        "colab": {
          "base_uri": "https://localhost:8080/"
        },
        "id": "2o7ZgiEZ5Bho",
        "outputId": "82761c42-f61c-4131-846d-f915a669bbd4"
      },
      "source": [
        "for i in range(5):\n",
        "    np.random.seed(100)\n",
        "    print (np.random.random(),)"
      ],
      "execution_count": 94,
      "outputs": [
        {
          "output_type": "stream",
          "text": [
            "0.5434049417909654\n",
            "0.5434049417909654\n",
            "0.5434049417909654\n",
            "0.5434049417909654\n",
            "0.5434049417909654\n"
          ],
          "name": "stdout"
        }
      ]
    },
    {
      "cell_type": "code",
      "metadata": {
        "id": "TYtFhL1f5TXq"
      },
      "source": [
        "def step_func(x):\n",
        "    \"\"\"\n",
        "    scalar implementation of step function\n",
        "    \"\"\"\n",
        "    \n",
        "    if x>=0:\n",
        "        return 1\n",
        "    else:\n",
        "        return 0"
      ],
      "execution_count": 96,
      "outputs": []
    },
    {
      "cell_type": "code",
      "metadata": {
        "colab": {
          "base_uri": "https://localhost:8080/",
          "height": 316
        },
        "id": "22tyRSmw5YQq",
        "outputId": "f8462470-d1eb-411d-c974-bedea8b98bcc"
      },
      "source": [
        "# since step_func expects a scalar and recieves an array instead, \n",
        "# it raises an error\n",
        "step_func(np.array([2, 7, -4, -9, 0, 4]))"
      ],
      "execution_count": 100,
      "outputs": [
        {
          "output_type": "error",
          "ename": "ValueError",
          "evalue": "ignored",
          "traceback": [
            "\u001b[0;31m---------------------------------------------------------------------------\u001b[0m",
            "\u001b[0;31mValueError\u001b[0m                                Traceback (most recent call last)",
            "\u001b[0;32m<ipython-input-100-59c7daaf2d39>\u001b[0m in \u001b[0;36m<module>\u001b[0;34m()\u001b[0m\n\u001b[1;32m      1\u001b[0m \u001b[0;31m# since step_func expects a scalar and recieves an array instead,\u001b[0m\u001b[0;34m\u001b[0m\u001b[0;34m\u001b[0m\u001b[0;34m\u001b[0m\u001b[0m\n\u001b[1;32m      2\u001b[0m \u001b[0;31m# it raises an error\u001b[0m\u001b[0;34m\u001b[0m\u001b[0;34m\u001b[0m\u001b[0;34m\u001b[0m\u001b[0m\n\u001b[0;32m----> 3\u001b[0;31m \u001b[0mstep_func\u001b[0m\u001b[0;34m(\u001b[0m\u001b[0mnp\u001b[0m\u001b[0;34m.\u001b[0m\u001b[0marray\u001b[0m\u001b[0;34m(\u001b[0m\u001b[0;34m[\u001b[0m\u001b[0;36m2\u001b[0m\u001b[0;34m,\u001b[0m \u001b[0;36m7\u001b[0m\u001b[0;34m,\u001b[0m \u001b[0;34m-\u001b[0m\u001b[0;36m4\u001b[0m\u001b[0;34m,\u001b[0m \u001b[0;34m-\u001b[0m\u001b[0;36m9\u001b[0m\u001b[0;34m,\u001b[0m \u001b[0;36m0\u001b[0m\u001b[0;34m,\u001b[0m \u001b[0;36m4\u001b[0m\u001b[0;34m]\u001b[0m\u001b[0;34m)\u001b[0m\u001b[0;34m)\u001b[0m\u001b[0;34m\u001b[0m\u001b[0;34m\u001b[0m\u001b[0m\n\u001b[0m",
            "\u001b[0;32m<ipython-input-96-b94842407185>\u001b[0m in \u001b[0;36mstep_func\u001b[0;34m(x)\u001b[0m\n\u001b[1;32m      4\u001b[0m     \"\"\"\n\u001b[1;32m      5\u001b[0m \u001b[0;34m\u001b[0m\u001b[0m\n\u001b[0;32m----> 6\u001b[0;31m     \u001b[0;32mif\u001b[0m \u001b[0mx\u001b[0m\u001b[0;34m>=\u001b[0m\u001b[0;36m0\u001b[0m\u001b[0;34m:\u001b[0m\u001b[0;34m\u001b[0m\u001b[0;34m\u001b[0m\u001b[0m\n\u001b[0m\u001b[1;32m      7\u001b[0m         \u001b[0;32mreturn\u001b[0m \u001b[0;36m1\u001b[0m\u001b[0;34m\u001b[0m\u001b[0;34m\u001b[0m\u001b[0m\n\u001b[1;32m      8\u001b[0m     \u001b[0;32melse\u001b[0m\u001b[0;34m:\u001b[0m\u001b[0;34m\u001b[0m\u001b[0;34m\u001b[0m\u001b[0m\n",
            "\u001b[0;31mValueError\u001b[0m: The truth value of an array with more than one element is ambiguous. Use a.any() or a.all()"
          ]
        }
      ]
    },
    {
      "cell_type": "code",
      "metadata": {
        "colab": {
          "base_uri": "https://localhost:8080/"
        },
        "id": "wNzCIn8f5daL",
        "outputId": "f7d75e0e-c86c-4a13-9d32-38e4f3daedbc"
      },
      "source": [
        "step_func_vectorized = np.vectorize(step_func)\n",
        "step_func_vectorized(np.array([2, 7, -4, -9, 0, 4]))"
      ],
      "execution_count": 99,
      "outputs": [
        {
          "output_type": "execute_result",
          "data": {
            "text/plain": [
              "array([1, 1, 0, 0, 1, 1])"
            ]
          },
          "metadata": {
            "tags": []
          },
          "execution_count": 99
        }
      ]
    },
    {
      "cell_type": "code",
      "metadata": {
        "id": "ljnWzSOg5iTS"
      },
      "source": [
        "def step_func2(x):\n",
        "    \"\"\"\n",
        "    vector and scalar implementation of step function\n",
        "    \"\"\"\n",
        "    \n",
        "    return 1 * (x>=0)"
      ],
      "execution_count": 101,
      "outputs": []
    },
    {
      "cell_type": "code",
      "metadata": {
        "colab": {
          "base_uri": "https://localhost:8080/"
        },
        "id": "u5H01JMY510U",
        "outputId": "2f09b6a4-f473-48ee-99e8-14a4b9650e60"
      },
      "source": [
        "step_func2(np.array([2, 7, -4, -9, 0, 4]))"
      ],
      "execution_count": 102,
      "outputs": [
        {
          "output_type": "execute_result",
          "data": {
            "text/plain": [
              "array([1, 1, 0, 0, 1, 1])"
            ]
          },
          "metadata": {
            "tags": []
          },
          "execution_count": 102
        }
      ]
    },
    {
      "cell_type": "markdown",
      "metadata": {
        "id": "6G0zns7H6TcB"
      },
      "source": [
        "# File I/O"
      ]
    },
    {
      "cell_type": "code",
      "metadata": {
        "colab": {
          "base_uri": "https://localhost:8080/"
        },
        "id": "nfMYMGCD6fQ_",
        "outputId": "1d651492-acaf-4dee-e865-f74ed00dcaee"
      },
      "source": [
        "!pip install wget"
      ],
      "execution_count": 104,
      "outputs": [
        {
          "output_type": "stream",
          "text": [
            "Collecting wget\n",
            "  Downloading https://files.pythonhosted.org/packages/47/6a/62e288da7bcda82b935ff0c6cfe542970f04e29c756b0e147251b2fb251f/wget-3.2.zip\n",
            "Building wheels for collected packages: wget\n",
            "  Building wheel for wget (setup.py) ... \u001b[?25l\u001b[?25hdone\n",
            "  Created wheel for wget: filename=wget-3.2-cp37-none-any.whl size=9681 sha256=412ea44be5da19a94800b6b3283014ea365fab86d5adbe8347e1f44999706e48\n",
            "  Stored in directory: /root/.cache/pip/wheels/40/15/30/7d8f7cea2902b4db79e3fea550d7d7b85ecb27ef992b618f3f\n",
            "Successfully built wget\n",
            "Installing collected packages: wget\n",
            "Successfully installed wget-3.2\n"
          ],
          "name": "stdout"
        }
      ]
    },
    {
      "cell_type": "code",
      "metadata": {
        "id": "kyahMUqr6h6r"
      },
      "source": [
        "import wget\n",
        "\n",
        "link_to_data = 'https://github.com/tulip-lab/sit742/raw/master/Jupyter/data/csv_data1.csv'\n",
        "DataSet = wget.download(link_to_data)"
      ],
      "execution_count": 105,
      "outputs": []
    },
    {
      "cell_type": "code",
      "metadata": {
        "colab": {
          "base_uri": "https://localhost:8080/"
        },
        "id": "4XSOtdkO5_DB",
        "outputId": "c28fca09-637a-46d0-8114-148d335360ff"
      },
      "source": [
        "import numpy as np\n",
        "\n",
        "# This code is for local PC\n",
        "# x = np.loadtxt(\"data/txt_data1.txt\")\n",
        "\n",
        "# The following code for IBM Cloud\n",
        "link_to_data = 'https://github.com/tulip-lab/sit742/raw/master/Jupyter/data/txt_data1.txt'\n",
        "DataSet = wget.download(link_to_data)\n",
        "\n",
        "x = np.loadtxt(\"txt_data1.txt\")\n",
        "x"
      ],
      "execution_count": 106,
      "outputs": [
        {
          "output_type": "execute_result",
          "data": {
            "text/plain": [
              "array([ 2. ,  4.5,  2. ,  0. , -2. ])"
            ]
          },
          "metadata": {
            "tags": []
          },
          "execution_count": 106
        }
      ]
    },
    {
      "cell_type": "code",
      "metadata": {
        "colab": {
          "base_uri": "https://localhost:8080/"
        },
        "id": "8w0RONVY6bAv",
        "outputId": "416c412f-90a7-4cf1-ff83-fe47b3dc0f11"
      },
      "source": [
        "y = np.random.randint(10, size=5)\n",
        "np.savetxt(\"txt_data2.txt\", y)\n",
        "y"
      ],
      "execution_count": 107,
      "outputs": [
        {
          "output_type": "execute_result",
          "data": {
            "text/plain": [
              "array([3, 7, 7, 0, 4])"
            ]
          },
          "metadata": {
            "tags": []
          },
          "execution_count": 107
        }
      ]
    },
    {
      "cell_type": "code",
      "metadata": {
        "colab": {
          "base_uri": "https://localhost:8080/"
        },
        "id": "Rp89b-gB6tue",
        "outputId": "5b59d580-f3a0-4f62-c7f3-c804d081089a"
      },
      "source": [
        "import wget\n",
        "\n",
        "link_to_data = 'https://github.com/tulip-lab/sit742/raw/master/Jupyter/data/csv_data1.csv'\n",
        "DataSet = wget.download(link_to_data)\n",
        "\n",
        "print(DataSet)"
      ],
      "execution_count": 108,
      "outputs": [
        {
          "output_type": "stream",
          "text": [
            "csv_data1 (1).csv\n"
          ],
          "name": "stdout"
        }
      ]
    },
    {
      "cell_type": "code",
      "metadata": {
        "colab": {
          "base_uri": "https://localhost:8080/"
        },
        "id": "H7xXr8Z16xyO",
        "outputId": "591e487f-8688-4fa3-dc69-96b0a7a13e62"
      },
      "source": [
        "import numpy as np\n",
        "\n",
        "\n",
        "x = np.genfromtxt(\"csv_data1.csv\", delimiter=\",\")\n",
        "x"
      ],
      "execution_count": 109,
      "outputs": [
        {
          "output_type": "execute_result",
          "data": {
            "text/plain": [
              "array([[5., 8., 9., 0.],\n",
              "       [0., 4., 6., 5.],\n",
              "       [9., 9., 5., 2.],\n",
              "       [0., 8., 3., 6.],\n",
              "       [7., 9., 8., 6.],\n",
              "       [1., 1., 5., 3.]])"
            ]
          },
          "metadata": {
            "tags": []
          },
          "execution_count": 109
        }
      ]
    },
    {
      "cell_type": "code",
      "metadata": {
        "colab": {
          "base_uri": "https://localhost:8080/"
        },
        "id": "Ziod-TA760xJ",
        "outputId": "e6cc2e87-db5a-46af-dd2f-65ef335e7bd4"
      },
      "source": [
        "x = np.random.randint(10, size=(6,4))\n",
        "np.savetxt(\"csv_data2.csv\", x, delimiter=',')\n",
        "x"
      ],
      "execution_count": 110,
      "outputs": [
        {
          "output_type": "execute_result",
          "data": {
            "text/plain": [
              "array([[2, 5, 2, 2],\n",
              "       [2, 1, 0, 8],\n",
              "       [4, 0, 9, 6],\n",
              "       [2, 4, 1, 5],\n",
              "       [3, 4, 4, 3],\n",
              "       [7, 1, 1, 7]])"
            ]
          },
          "metadata": {
            "tags": []
          },
          "execution_count": 110
        }
      ]
    },
    {
      "cell_type": "code",
      "metadata": {
        "colab": {
          "base_uri": "https://localhost:8080/"
        },
        "id": "5yx_Yj3b64Ol",
        "outputId": "d81fac56-6d96-40ad-fea5-1ad4f41637ac"
      },
      "source": [
        "link_to_data = 'https://github.com/tulip-lab/sit742/raw/master/Jupyter/data/json_data1.json'\n",
        "DataSet = wget.download(link_to_data)\n",
        "\n",
        "print(DataSet)"
      ],
      "execution_count": 111,
      "outputs": [
        {
          "output_type": "stream",
          "text": [
            "json_data1.json\n"
          ],
          "name": "stdout"
        }
      ]
    },
    {
      "cell_type": "code",
      "metadata": {
        "colab": {
          "base_uri": "https://localhost:8080/"
        },
        "id": "APHDR8x767sj",
        "outputId": "941b5ce1-262f-4a26-c193-71a4fb93a9dc"
      },
      "source": [
        "import json\n",
        "with open(\"json_data1.json\", 'rb') as fp:\n",
        "    fcontent = fp.read()\n",
        "# data = json.loads(fcontent)\n",
        "data = json.loads(fcontent.decode('utf-8'))\n",
        "data.keys()"
      ],
      "execution_count": 112,
      "outputs": [
        {
          "output_type": "execute_result",
          "data": {
            "text/plain": [
              "dict_keys(['firstName', 'lastName', 'isAlive', 'age', 'address', 'phoneNumbers', 'children', 'spouse'])"
            ]
          },
          "metadata": {
            "tags": []
          },
          "execution_count": 112
        }
      ]
    },
    {
      "cell_type": "code",
      "metadata": {
        "colab": {
          "base_uri": "https://localhost:8080/"
        },
        "id": "6jIouhRu6_-W",
        "outputId": "bcd666a8-2d02-481e-ce18-68d78c5ff45d"
      },
      "source": [
        "data"
      ],
      "execution_count": 113,
      "outputs": [
        {
          "output_type": "execute_result",
          "data": {
            "text/plain": [
              "{'address': {'city': 'New York',\n",
              "  'postalCode': '10021-3100',\n",
              "  'state': 'NY',\n",
              "  'streetAddress': '21 2nd Street'},\n",
              " 'age': 25,\n",
              " 'children': [],\n",
              " 'firstName': 'John',\n",
              " 'isAlive': True,\n",
              " 'lastName': 'Smith',\n",
              " 'phoneNumbers': [{'number': '212 555-1234', 'type': 'home'},\n",
              "  {'number': '646 555-4567', 'type': 'office'}],\n",
              " 'spouse': None}"
            ]
          },
          "metadata": {
            "tags": []
          },
          "execution_count": 113
        }
      ]
    },
    {
      "cell_type": "code",
      "metadata": {
        "colab": {
          "base_uri": "https://localhost:8080/"
        },
        "id": "-inb62z47DD-",
        "outputId": "f8581233-5a8d-4667-b7ab-2453d6bbb1f5"
      },
      "source": [
        "data['phoneNumbers']"
      ],
      "execution_count": 114,
      "outputs": [
        {
          "output_type": "execute_result",
          "data": {
            "text/plain": [
              "[{'number': '212 555-1234', 'type': 'home'},\n",
              " {'number': '646 555-4567', 'type': 'office'}]"
            ]
          },
          "metadata": {
            "tags": []
          },
          "execution_count": 114
        }
      ]
    },
    {
      "cell_type": "code",
      "metadata": {
        "colab": {
          "base_uri": "https://localhost:8080/"
        },
        "id": "F5SaAZdc7Gpi",
        "outputId": "a4ee570e-f205-4a3e-e245-1b85f902f208"
      },
      "source": [
        "data = [{'Name': 'Zara', 'Age': 7, 'Class': 'First'}, \n",
        "        {'Name': 'Lily', 'Age': 9, 'Class': 'Third'}];\n",
        "data"
      ],
      "execution_count": 115,
      "outputs": [
        {
          "output_type": "execute_result",
          "data": {
            "text/plain": [
              "[{'Age': 7, 'Class': 'First', 'Name': 'Zara'},\n",
              " {'Age': 9, 'Class': 'Third', 'Name': 'Lily'}]"
            ]
          },
          "metadata": {
            "tags": []
          },
          "execution_count": 115
        }
      ]
    },
    {
      "cell_type": "code",
      "metadata": {
        "id": "uxhxf-hj7KrN"
      },
      "source": [
        "with open(\"json_data_now.json\", 'w') as fp:\n",
        "    json.dump(data, fp)"
      ],
      "execution_count": 117,
      "outputs": []
    }
  ]
}